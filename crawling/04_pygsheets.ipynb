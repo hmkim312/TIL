{
 "cells": [
  {
   "cell_type": "code",
   "execution_count": 3,
   "metadata": {},
   "outputs": [],
   "source": [
    "import zigbanghm as zb\n",
    "import itertools"
   ]
  },
  {
   "cell_type": "code",
   "execution_count": 4,
   "metadata": {},
   "outputs": [
    {
     "data": {
      "text/html": [
       "<div>\n",
       "<style scoped>\n",
       "    .dataframe tbody tr th:only-of-type {\n",
       "        vertical-align: middle;\n",
       "    }\n",
       "\n",
       "    .dataframe tbody tr th {\n",
       "        vertical-align: top;\n",
       "    }\n",
       "\n",
       "    .dataframe thead th {\n",
       "        text-align: right;\n",
       "    }\n",
       "</style>\n",
       "<table border=\"1\" class=\"dataframe\">\n",
       "  <thead>\n",
       "    <tr style=\"text-align: right;\">\n",
       "      <th></th>\n",
       "      <th>item_id</th>\n",
       "      <th>floor</th>\n",
       "      <th>building_floor</th>\n",
       "      <th>address</th>\n",
       "      <th>sales_type</th>\n",
       "      <th>rent</th>\n",
       "      <th>deposit</th>\n",
       "      <th>m2</th>\n",
       "      <th>p</th>\n",
       "    </tr>\n",
       "  </thead>\n",
       "  <tbody>\n",
       "    <tr>\n",
       "      <td>0</td>\n",
       "      <td>18332563</td>\n",
       "      <td>저</td>\n",
       "      <td>17</td>\n",
       "      <td>동아1차 101동</td>\n",
       "      <td>매매</td>\n",
       "      <td>0</td>\n",
       "      <td>68000</td>\n",
       "      <td>84</td>\n",
       "      <td>25</td>\n",
       "    </tr>\n",
       "    <tr>\n",
       "      <td>1</td>\n",
       "      <td>18332967</td>\n",
       "      <td>중</td>\n",
       "      <td>17</td>\n",
       "      <td>동아1차 103동</td>\n",
       "      <td>매매</td>\n",
       "      <td>0</td>\n",
       "      <td>80000</td>\n",
       "      <td>114</td>\n",
       "      <td>34</td>\n",
       "    </tr>\n",
       "    <tr>\n",
       "      <td>2</td>\n",
       "      <td>17530954</td>\n",
       "      <td>중</td>\n",
       "      <td>17</td>\n",
       "      <td>동아1차 101동</td>\n",
       "      <td>전세</td>\n",
       "      <td>0</td>\n",
       "      <td>39000</td>\n",
       "      <td>84</td>\n",
       "      <td>25</td>\n",
       "    </tr>\n",
       "    <tr>\n",
       "      <td>3</td>\n",
       "      <td>17897931</td>\n",
       "      <td>중</td>\n",
       "      <td>17</td>\n",
       "      <td>동아1차 102동</td>\n",
       "      <td>전세</td>\n",
       "      <td>0</td>\n",
       "      <td>50000</td>\n",
       "      <td>114</td>\n",
       "      <td>34</td>\n",
       "    </tr>\n",
       "    <tr>\n",
       "      <td>4</td>\n",
       "      <td>18474626</td>\n",
       "      <td>중</td>\n",
       "      <td>17</td>\n",
       "      <td>동아1차 102동</td>\n",
       "      <td>매매</td>\n",
       "      <td>0</td>\n",
       "      <td>85000</td>\n",
       "      <td>114</td>\n",
       "      <td>34</td>\n",
       "    </tr>\n",
       "    <tr>\n",
       "      <td>...</td>\n",
       "      <td>...</td>\n",
       "      <td>...</td>\n",
       "      <td>...</td>\n",
       "      <td>...</td>\n",
       "      <td>...</td>\n",
       "      <td>...</td>\n",
       "      <td>...</td>\n",
       "      <td>...</td>\n",
       "      <td>...</td>\n",
       "    </tr>\n",
       "    <tr>\n",
       "      <td>452</td>\n",
       "      <td>20522771</td>\n",
       "      <td>저</td>\n",
       "      <td>29</td>\n",
       "      <td>당산센트럴아이파크 101동</td>\n",
       "      <td>전세</td>\n",
       "      <td>0</td>\n",
       "      <td>80000</td>\n",
       "      <td>84</td>\n",
       "      <td>25</td>\n",
       "    </tr>\n",
       "    <tr>\n",
       "      <td>453</td>\n",
       "      <td>20501315</td>\n",
       "      <td>저</td>\n",
       "      <td>28</td>\n",
       "      <td>당산센트럴아이파크 102동</td>\n",
       "      <td>월세</td>\n",
       "      <td>60</td>\n",
       "      <td>80000</td>\n",
       "      <td>114</td>\n",
       "      <td>34</td>\n",
       "    </tr>\n",
       "    <tr>\n",
       "      <td>454</td>\n",
       "      <td>20411815</td>\n",
       "      <td>저</td>\n",
       "      <td>24</td>\n",
       "      <td>당산센트럴아이파크 107동</td>\n",
       "      <td>전세</td>\n",
       "      <td>0</td>\n",
       "      <td>55000</td>\n",
       "      <td>46</td>\n",
       "      <td>13</td>\n",
       "    </tr>\n",
       "    <tr>\n",
       "      <td>455</td>\n",
       "      <td>20411769</td>\n",
       "      <td>중</td>\n",
       "      <td>29</td>\n",
       "      <td>당산센트럴아이파크 106동</td>\n",
       "      <td>전세</td>\n",
       "      <td>0</td>\n",
       "      <td>72000</td>\n",
       "      <td>59</td>\n",
       "      <td>17</td>\n",
       "    </tr>\n",
       "    <tr>\n",
       "      <td>456</td>\n",
       "      <td>20030556</td>\n",
       "      <td>저</td>\n",
       "      <td>28</td>\n",
       "      <td>당산센트럴아이파크 104동</td>\n",
       "      <td>전세</td>\n",
       "      <td>0</td>\n",
       "      <td>70000</td>\n",
       "      <td>71</td>\n",
       "      <td>21</td>\n",
       "    </tr>\n",
       "  </tbody>\n",
       "</table>\n",
       "<p>457 rows × 9 columns</p>\n",
       "</div>"
      ],
      "text/plain": [
       "      item_id floor building_floor         address sales_type  rent  deposit  \\\n",
       "0    18332563     저             17       동아1차 101동         매매     0    68000   \n",
       "1    18332967     중             17       동아1차 103동         매매     0    80000   \n",
       "2    17530954     중             17       동아1차 101동         전세     0    39000   \n",
       "3    17897931     중             17       동아1차 102동         전세     0    50000   \n",
       "4    18474626     중             17       동아1차 102동         매매     0    85000   \n",
       "..        ...   ...            ...             ...        ...   ...      ...   \n",
       "452  20522771     저             29  당산센트럴아이파크 101동         전세     0    80000   \n",
       "453  20501315     저             28  당산센트럴아이파크 102동         월세    60    80000   \n",
       "454  20411815     저             24  당산센트럴아이파크 107동         전세     0    55000   \n",
       "455  20411769     중             29  당산센트럴아이파크 106동         전세     0    72000   \n",
       "456  20030556     저             28  당산센트럴아이파크 104동         전세     0    70000   \n",
       "\n",
       "      m2   p  \n",
       "0     84  25  \n",
       "1    114  34  \n",
       "2     84  25  \n",
       "3    114  34  \n",
       "4    114  34  \n",
       "..   ...  ..  \n",
       "452   84  25  \n",
       "453  114  34  \n",
       "454   46  13  \n",
       "455   59  17  \n",
       "456   71  21  \n",
       "\n",
       "[457 rows x 9 columns]"
      ]
     },
     "execution_count": 4,
     "metadata": {},
     "output_type": "execute_result"
    }
   ],
   "source": [
    "items_df = zb.crawling_apt('당산동')\n",
    "items_df"
   ]
  },
  {
   "cell_type": "markdown",
   "metadata": {},
   "source": [
    "### 구글스프레드 시트에 저장\n",
    "- oauth 개념\n",
    "- oauth 인증 파일 생성\n",
    "    - https://console.developer.google.com\n",
    "    - 프로젝트 생성\n",
    "    - 라이브러비 탭 선택 : Google Drive API, Google Sheets API 사용설정\n",
    "    - Oauth 동의화면\n",
    "        - 어플리케이션 이름설정\n",
    "        - google api 범위 추가 : drive, spreadsheets\n",
    "        - 저장\n",
    "    - 사용자 인증정보\n",
    "        - OAuth 클라이언트 ID 선택\n",
    "    - pygsheets 설치\n",
    "        - conda install -c marta-sd pygsheets\n",
    "        - pip install pygsheets\n",
    "- 스프레드 시트에 크롤링한 데이터 저장 및 로드\n"
   ]
  },
  {
   "cell_type": "code",
   "execution_count": 5,
   "metadata": {},
   "outputs": [],
   "source": [
    "import pygsheets"
   ]
  },
  {
   "cell_type": "code",
   "execution_count": 6,
   "metadata": {
    "collapsed": true,
    "jupyter": {
     "outputs_hidden": true
    }
   },
   "outputs": [
    {
     "ename": "FileNotFoundError",
     "evalue": "[Errno 2] No such file or directory: ''",
     "output_type": "error",
     "traceback": [
      "\u001b[1;31m---------------------------------------------------------------------------\u001b[0m",
      "\u001b[1;31mFileNotFoundError\u001b[0m                         Traceback (most recent call last)",
      "\u001b[1;32m<ipython-input-6-bee57c4b31f2>\u001b[0m in \u001b[0;36m<module>\u001b[1;34m\u001b[0m\n\u001b[0;32m      1\u001b[0m \u001b[1;31m# access taken 얻기\u001b[0m\u001b[1;33m\u001b[0m\u001b[1;33m\u001b[0m\u001b[1;33m\u001b[0m\u001b[0m\n\u001b[1;32m----> 2\u001b[1;33m \u001b[0mgc\u001b[0m \u001b[1;33m=\u001b[0m \u001b[0mpygsheets\u001b[0m\u001b[1;33m.\u001b[0m\u001b[0mauthorize\u001b[0m\u001b[1;33m(\u001b[0m\u001b[0mclient_secret\u001b[0m\u001b[1;33m=\u001b[0m\u001b[1;34m''\u001b[0m\u001b[1;33m,\u001b[0m \u001b[0mno_cache\u001b[0m\u001b[1;33m=\u001b[0m\u001b[1;32mTrue\u001b[0m\u001b[1;33m)\u001b[0m\u001b[1;33m\u001b[0m\u001b[1;33m\u001b[0m\u001b[0m\n\u001b[0m",
      "\u001b[1;32mC:\\ProgramData\\Anaconda3\\lib\\site-packages\\pygsheets\\authorization.py\u001b[0m in \u001b[0;36mauthorize\u001b[1;34m(client_secret, service_account_file, service_account_env_var, credentials_directory, scopes, custom_credentials, local, **kwargs)\u001b[0m\n\u001b[0;32m    131\u001b[0m         \u001b[0mcredentials\u001b[0m \u001b[1;33m=\u001b[0m \u001b[0mservice_account\u001b[0m\u001b[1;33m.\u001b[0m\u001b[0mCredentials\u001b[0m\u001b[1;33m.\u001b[0m\u001b[0mfrom_service_account_file\u001b[0m\u001b[1;33m(\u001b[0m\u001b[0mservice_account_file\u001b[0m\u001b[1;33m,\u001b[0m \u001b[0mscopes\u001b[0m\u001b[1;33m=\u001b[0m\u001b[0mscopes\u001b[0m\u001b[1;33m)\u001b[0m\u001b[1;33m\u001b[0m\u001b[1;33m\u001b[0m\u001b[0m\n\u001b[0;32m    132\u001b[0m     \u001b[1;32melse\u001b[0m\u001b[1;33m:\u001b[0m\u001b[1;33m\u001b[0m\u001b[1;33m\u001b[0m\u001b[0m\n\u001b[1;32m--> 133\u001b[1;33m         \u001b[0mcredentials\u001b[0m \u001b[1;33m=\u001b[0m \u001b[0m_get_user_authentication_credentials\u001b[0m\u001b[1;33m(\u001b[0m\u001b[0mclient_secret\u001b[0m\u001b[1;33m,\u001b[0m \u001b[0mscopes\u001b[0m\u001b[1;33m,\u001b[0m \u001b[0mcredentials_directory\u001b[0m\u001b[1;33m,\u001b[0m \u001b[0mlocal\u001b[0m\u001b[1;33m)\u001b[0m\u001b[1;33m\u001b[0m\u001b[1;33m\u001b[0m\u001b[0m\n\u001b[0m\u001b[0;32m    134\u001b[0m \u001b[1;33m\u001b[0m\u001b[0m\n\u001b[0;32m    135\u001b[0m     \u001b[1;32mreturn\u001b[0m \u001b[0mClient\u001b[0m\u001b[1;33m(\u001b[0m\u001b[0mcredentials\u001b[0m\u001b[1;33m,\u001b[0m \u001b[0mhttp\u001b[0m\u001b[1;33m=\u001b[0m\u001b[0mhttp\u001b[0m\u001b[1;33m,\u001b[0m \u001b[0mcheck\u001b[0m\u001b[1;33m=\u001b[0m\u001b[0mcheck\u001b[0m\u001b[1;33m)\u001b[0m\u001b[1;33m\u001b[0m\u001b[1;33m\u001b[0m\u001b[0m\n",
      "\u001b[1;32mC:\\ProgramData\\Anaconda3\\lib\\site-packages\\pygsheets\\authorization.py\u001b[0m in \u001b[0;36m_get_user_authentication_credentials\u001b[1;34m(client_secret_file, scopes, credential_directory, local)\u001b[0m\n\u001b[0;32m     46\u001b[0m         \u001b[1;32melse\u001b[0m\u001b[1;33m:\u001b[0m\u001b[1;33m\u001b[0m\u001b[1;33m\u001b[0m\u001b[0m\n\u001b[0;32m     47\u001b[0m             flow = Flow.from_client_secrets_file(client_secret_file, scopes=scopes,\n\u001b[1;32m---> 48\u001b[1;33m                                                  redirect_uri='urn:ietf:wg:oauth:2.0:oob')\n\u001b[0m\u001b[0;32m     49\u001b[0m             \u001b[0mauth_url\u001b[0m\u001b[1;33m,\u001b[0m \u001b[0m_\u001b[0m \u001b[1;33m=\u001b[0m \u001b[0mflow\u001b[0m\u001b[1;33m.\u001b[0m\u001b[0mauthorization_url\u001b[0m\u001b[1;33m(\u001b[0m\u001b[0mprompt\u001b[0m\u001b[1;33m=\u001b[0m\u001b[1;34m'consent'\u001b[0m\u001b[1;33m)\u001b[0m\u001b[1;33m\u001b[0m\u001b[1;33m\u001b[0m\u001b[0m\n\u001b[0;32m     50\u001b[0m \u001b[1;33m\u001b[0m\u001b[0m\n",
      "\u001b[1;32mC:\\ProgramData\\Anaconda3\\lib\\site-packages\\google_auth_oauthlib\\flow.py\u001b[0m in \u001b[0;36mfrom_client_secrets_file\u001b[1;34m(cls, client_secrets_file, scopes, **kwargs)\u001b[0m\n\u001b[0;32m    194\u001b[0m             \u001b[0mFlow\u001b[0m\u001b[1;33m:\u001b[0m \u001b[0mThe\u001b[0m \u001b[0mconstructed\u001b[0m \u001b[0mFlow\u001b[0m \u001b[0minstance\u001b[0m\u001b[1;33m.\u001b[0m\u001b[1;33m\u001b[0m\u001b[1;33m\u001b[0m\u001b[0m\n\u001b[0;32m    195\u001b[0m         \"\"\"\n\u001b[1;32m--> 196\u001b[1;33m         \u001b[1;32mwith\u001b[0m \u001b[0mopen\u001b[0m\u001b[1;33m(\u001b[0m\u001b[0mclient_secrets_file\u001b[0m\u001b[1;33m,\u001b[0m \u001b[1;34m'r'\u001b[0m\u001b[1;33m)\u001b[0m \u001b[1;32mas\u001b[0m \u001b[0mjson_file\u001b[0m\u001b[1;33m:\u001b[0m\u001b[1;33m\u001b[0m\u001b[1;33m\u001b[0m\u001b[0m\n\u001b[0m\u001b[0;32m    197\u001b[0m             \u001b[0mclient_config\u001b[0m \u001b[1;33m=\u001b[0m \u001b[0mjson\u001b[0m\u001b[1;33m.\u001b[0m\u001b[0mload\u001b[0m\u001b[1;33m(\u001b[0m\u001b[0mjson_file\u001b[0m\u001b[1;33m)\u001b[0m\u001b[1;33m\u001b[0m\u001b[1;33m\u001b[0m\u001b[0m\n\u001b[0;32m    198\u001b[0m \u001b[1;33m\u001b[0m\u001b[0m\n",
      "\u001b[1;31mFileNotFoundError\u001b[0m: [Errno 2] No such file or directory: ''"
     ]
    }
   ],
   "source": [
    "# access taken 얻기\n",
    "gc = pygsheets.authorize(client_secret='', no_cache=True)"
   ]
  },
  {
   "cell_type": "code",
   "execution_count": 8,
   "metadata": {},
   "outputs": [
    {
     "data": {
      "text/plain": [
       "<pygsheets.client.Client at 0x2e420cd0608>"
      ]
     },
     "execution_count": 8,
     "metadata": {},
     "output_type": "execute_result"
    }
   ],
   "source": [
    "gc"
   ]
  },
  {
   "cell_type": "code",
   "execution_count": 9,
   "metadata": {},
   "outputs": [],
   "source": [
    "# 스프레드 시트 파일 열기"
   ]
  },
  {
   "cell_type": "code",
   "execution_count": 11,
   "metadata": {},
   "outputs": [],
   "source": [
    "s_file = gc.open('zigbang') # 스프레드시트 파일 이름"
   ]
  },
  {
   "cell_type": "code",
   "execution_count": 17,
   "metadata": {},
   "outputs": [],
   "source": [
    "# 붓꽃 데이터 로드\n",
    "iris_df = sns.load_dataset('iris')"
   ]
  },
  {
   "cell_type": "code",
   "execution_count": 18,
   "metadata": {},
   "outputs": [],
   "source": [
    "# iris 시트 만들기\n",
    "iris_sheet = s_file.add_worksheet('iris')"
   ]
  },
  {
   "cell_type": "code",
   "execution_count": 19,
   "metadata": {},
   "outputs": [],
   "source": [
    "# iris 시트 데이터 프레임 저장\n",
    "iris_sheet.set_dataframe(iris_df, 'A1')"
   ]
  },
  {
   "cell_type": "code",
   "execution_count": 25,
   "metadata": {},
   "outputs": [],
   "source": [
    "# 시트 삭제\n",
    "s_file.del_worksheet(s_file[0])"
   ]
  },
  {
   "cell_type": "code",
   "execution_count": 26,
   "metadata": {},
   "outputs": [],
   "source": [
    "# 직장 데이터를 크롤링해서 저장"
   ]
  },
  {
   "cell_type": "code",
   "execution_count": 31,
   "metadata": {},
   "outputs": [
    {
     "name": "stdout",
     "output_type": "stream",
     "text": [
      "연남동\n",
      "망원동\n",
      "성수동\n"
     ]
    }
   ],
   "source": [
    "addrs = ['연남동', '망원동', '성수동']\n",
    "for addr in addrs:\n",
    "    print(addr)\n",
    "    df = zb.crawling_apt(addr)\n",
    "    sheet=s_file.add_worksheet(addr)\n",
    "    sheet.set_dataframe(df,'A1')"
   ]
  },
  {
   "cell_type": "code",
   "execution_count": 34,
   "metadata": {},
   "outputs": [
    {
     "data": {
      "text/html": [
       "<div>\n",
       "<style scoped>\n",
       "    .dataframe tbody tr th:only-of-type {\n",
       "        vertical-align: middle;\n",
       "    }\n",
       "\n",
       "    .dataframe tbody tr th {\n",
       "        vertical-align: top;\n",
       "    }\n",
       "\n",
       "    .dataframe thead th {\n",
       "        text-align: right;\n",
       "    }\n",
       "</style>\n",
       "<table border=\"1\" class=\"dataframe\">\n",
       "  <thead>\n",
       "    <tr style=\"text-align: right;\">\n",
       "      <th></th>\n",
       "      <th>item_id</th>\n",
       "      <th>floor</th>\n",
       "      <th>building_floor</th>\n",
       "      <th>address</th>\n",
       "      <th>sales_type</th>\n",
       "      <th>rent</th>\n",
       "      <th>deposit</th>\n",
       "      <th>m2</th>\n",
       "      <th>p</th>\n",
       "    </tr>\n",
       "  </thead>\n",
       "  <tbody>\n",
       "    <tr>\n",
       "      <td>481</td>\n",
       "      <td>19597064</td>\n",
       "      <td>저</td>\n",
       "      <td>18</td>\n",
       "      <td>힐스테이트신촌 101동</td>\n",
       "      <td>매매</td>\n",
       "      <td>0</td>\n",
       "      <td>101000</td>\n",
       "      <td>59</td>\n",
       "      <td>17</td>\n",
       "    </tr>\n",
       "  </tbody>\n",
       "</table>\n",
       "</div>"
      ],
      "text/plain": [
       "      item_id floor  building_floor       address sales_type  rent  deposit  \\\n",
       "481  19597064     저              18  힐스테이트신촌 101동         매매     0   101000   \n",
       "\n",
       "     m2   p  \n",
       "481  59  17  "
      ]
     },
     "execution_count": 34,
     "metadata": {},
     "output_type": "execute_result"
    }
   ],
   "source": [
    "# 데이터 가져오기\n",
    "sheet = s_file.worksheet_by_title('연남동')\n",
    "load_df = sheet.get_as_df()\n",
    "load_df.tail(1)"
   ]
  },
  {
   "cell_type": "code",
   "execution_count": null,
   "metadata": {},
   "outputs": [],
   "source": []
  }
 ],
 "metadata": {
  "kernelspec": {
   "display_name": "Python 3",
   "language": "python",
   "name": "python3"
  },
  "language_info": {
   "codemirror_mode": {
    "name": "ipython",
    "version": 3
   },
   "file_extension": ".py",
   "mimetype": "text/x-python",
   "name": "python",
   "nbconvert_exporter": "python",
   "pygments_lexer": "ipython3",
   "version": "3.7.4"
  }
 },
 "nbformat": 4,
 "nbformat_minor": 4
}
