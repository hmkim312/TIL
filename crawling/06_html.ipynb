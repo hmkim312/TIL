{
 "cells": [
  {
   "cell_type": "markdown",
   "metadata": {},
   "source": [
    "#### 동적페이지와 정적 페이지의 차이 \n",
    "- 동적 페이지 : url 변하지 않음, json (더보기)\n",
    "- 정적 페이지 : url이 변함, html (게시판 목록 이동)"
   ]
  },
  {
   "cell_type": "markdown",
   "metadata": {},
   "source": [
    "### 1. HTML\n",
    "- hyper text markup language의 약자\n",
    "- 웹 문서를 작성하는 마크업 언어\n",
    "- 웹페이지를 구성하는 언어\n",
    "    - html : 화면의 레이아웃이나 텍스트\n",
    "    - css : 화면의 색상 크기 등의 스타일 (css - selector)\n",
    "    - javascript : 화면의 클릭, 드래그 등등의 이벤트"
   ]
  },
  {
   "cell_type": "markdown",
   "metadata": {},
   "source": [
    "#### 1-1 html의 구성요소\n",
    "- document\n",
    "    - 페이지 전체\n",
    "- element\n",
    "    - 계층적 구조로 이루어져 있으며, 모여서 document를 이룸\n",
    "    - 시작 태그와 끝 태그로 구성\n",
    "- tag\n",
    "    - 시작태그와 끝 태그로 elemnet를 구성\n",
    "    - 시작태그에는 여러가지 속성값들이 들어 있음\n",
    "    - 태그와 태그 사이에는 문자열 데이터를 가질수 있음\n",
    "    - 태그의 이름에 따라서 태그의 목적이 달라짐\n",
    "- attribute\n",
    "    - 시작 태그안에 포함되어 있는 속성값\n",
    "    - id, class : 엘리먼트를 선택하기 위한 목적으로 만들어진 속성값\n",
    "    - 기타 등등"
   ]
  },
  {
   "cell_type": "code",
   "execution_count": 3,
   "metadata": {},
   "outputs": [
    {
     "data": {
      "text/html": [
       "<div class = 'wrapper'>\n",
       "    <button id = 'btn-1' type = 'button'>HTML 1<button>\n",
       "    <button id = 'btn-2' type = 'button' style = 'color : red'>HTML 2<button>\n",
       "</div>\n"
      ],
      "text/plain": [
       "<IPython.core.display.HTML object>"
      ]
     },
     "metadata": {},
     "output_type": "display_data"
    }
   ],
   "source": [
    "%%html\n",
    "<div class = 'wrapper'>\n",
    "    <button id = 'btn-1' type = 'button'>HTML 1<button>\n",
    "    <button id = 'btn-2' type = 'button' style = 'color : red'>HTML 2<button>\n",
    "</div>"
   ]
  },
  {
   "cell_type": "markdown",
   "metadata": {},
   "source": [
    "#### 1-2속성값\n",
    "- id : 웹페이지에서 유일한 값\n",
    "- class \n",
    "    - 여러가지의 값 사용이 가능\n",
    "    - 하나의 엘리먼트에 여러가지 값 사용이 가능, 띄어쓰기로 구별함, 엘리먼트의 그룹핑"
   ]
  },
  {
   "cell_type": "code",
   "execution_count": 1,
   "metadata": {},
   "outputs": [
    {
     "data": {
      "text/html": [
       "<div class = 'wrapper'>\n",
       "    <button id = 'btn-1' class = 'bt no1' type = 'button'>HTML 1<button>\n",
       "    <button id = 'btn-2' class = 'bt no2' type = 'button' style = 'color : red'>HTML 2<button>\n",
       "</div>\n"
      ],
      "text/plain": [
       "<IPython.core.display.HTML object>"
      ]
     },
     "metadata": {},
     "output_type": "display_data"
    }
   ],
   "source": [
    "%%html\n",
    "<div class = 'wrapper'>\n",
    "    <button id = 'btn-1' class = 'bt no1' type = 'button'>HTML 1<button>\n",
    "    <button id = 'btn-2' class = 'bt no2' type = 'button' style = 'color : red'>HTML 2<button>\n",
    "</div>"
   ]
  },
  {
   "cell_type": "markdown",
   "metadata": {},
   "source": [
    "### 1-3 태그의 종류"
   ]
  },
  {
   "cell_type": "markdown",
   "metadata": {},
   "source": [
    "Head : 제목을 나타날때 사용 1 ~ 6까지의 크기를 가짐"
   ]
  },
  {
   "cell_type": "code",
   "execution_count": 5,
   "metadata": {},
   "outputs": [
    {
     "data": {
      "text/html": [
       "<h1>python</h1>\n",
       "<h6>html</h6>\n"
      ],
      "text/plain": [
       "<IPython.core.display.HTML object>"
      ]
     },
     "metadata": {},
     "output_type": "display_data"
    }
   ],
   "source": [
    "%%html\n",
    "<h1>python</h1>\n",
    "<h6>html</h6>"
   ]
  },
  {
   "cell_type": "markdown",
   "metadata": {},
   "source": [
    "p : 한줄의 문자열을 출력하기 위한 태그"
   ]
  },
  {
   "cell_type": "code",
   "execution_count": 7,
   "metadata": {},
   "outputs": [
    {
     "data": {
      "text/html": [
       "<p> 파이썬은 재미있습니다.</p>\n",
       "<p> 내일은 휴강입니다.</p>\n"
      ],
      "text/plain": [
       "<IPython.core.display.HTML object>"
      ]
     },
     "metadata": {},
     "output_type": "display_data"
    }
   ],
   "source": [
    "%%html\n",
    "<p> 파이썬은 재미있습니다.</p>\n",
    "<p> 내일은 휴강입니다.</p>"
   ]
  },
  {
   "cell_type": "markdown",
   "metadata": {},
   "source": [
    "span : 한블럭의 문자열을 출력"
   ]
  },
  {
   "cell_type": "code",
   "execution_count": 8,
   "metadata": {},
   "outputs": [
    {
     "data": {
      "text/html": [
       "<span> 파이썬은 재미있습니다.</span>\n",
       "<span> 내일은 휴강입니다.</span>\n"
      ],
      "text/plain": [
       "<IPython.core.display.HTML object>"
      ]
     },
     "metadata": {},
     "output_type": "display_data"
    }
   ],
   "source": [
    "%%html\n",
    "<span> 파이썬은 재미있습니다.</span>\n",
    "<span> 내일은 휴강입니다.</span>"
   ]
  },
  {
   "cell_type": "markdown",
   "metadata": {},
   "source": [
    "div : 레이아웃을 나타내는 태그"
   ]
  },
  {
   "cell_type": "code",
   "execution_count": 9,
   "metadata": {},
   "outputs": [
    {
     "data": {
      "text/html": [
       "<div>\n",
       "    <p>html 1</p>\n",
       "    <p>html 2</p>\n",
       "</div>\n",
       "<div>\n",
       "    <p>html 3</p>\n",
       "</div>\n"
      ],
      "text/plain": [
       "<IPython.core.display.HTML object>"
      ]
     },
     "metadata": {},
     "output_type": "display_data"
    }
   ],
   "source": [
    "%%html\n",
    "<div>\n",
    "    <p>html 1</p>\n",
    "    <p>html 2</p>\n",
    "</div>\n",
    "<div>\n",
    "    <p>html 3</p>\n",
    "</div>"
   ]
  },
  {
   "cell_type": "markdown",
   "metadata": {},
   "source": [
    "table : 로우와 컬럼이 있는 테이블 모양을 나타낼때 사용되는 태그 (표데이터)"
   ]
  },
  {
   "cell_type": "code",
   "execution_count": 11,
   "metadata": {},
   "outputs": [
    {
     "data": {
      "text/html": [
       "<table>\n",
       "    <caption>테이블 제목</caption>\n",
       "    <thead>\n",
       "        <tr> # table row의 약자\n",
       "            <th>코드</th>\n",
       "            <th>회사명</th>\n",
       "        </tr>\n",
       "    </thaed>\n",
       "    <tbody> # 컬럼의 데이터들\n",
       "        <tr>\n",
       "            <td>0001</td>\n",
       "            <td>삼성전자</td>\n",
       "        </tr>\n",
       "        \n",
       "        <tr>\n",
       "            <td>0002</td>\n",
       "            <td>SK하이닉스</td>\n",
       "        </tr>\n",
       "    </tbody>\n",
       "</table>\n"
      ],
      "text/plain": [
       "<IPython.core.display.HTML object>"
      ]
     },
     "metadata": {},
     "output_type": "display_data"
    }
   ],
   "source": [
    "%%html\n",
    "<table>\n",
    "    <caption>테이블 제목</caption>\n",
    "    <thead>\n",
    "        <tr> # table row의 약자\n",
    "            <th>코드</th>\n",
    "            <th>회사명</th>\n",
    "        </tr>\n",
    "    </thaed>\n",
    "    <tbody> # 컬럼의 데이터들\n",
    "        <tr>\n",
    "            <td>0001</td>\n",
    "            <td>삼성전자</td>\n",
    "        </tr>\n",
    "        \n",
    "        <tr>\n",
    "            <td>0002</td>\n",
    "            <td>SK하이닉스</td>\n",
    "        </tr>\n",
    "    </tbody>\n",
    "</table>"
   ]
  },
  {
   "cell_type": "markdown",
   "metadata": {},
   "source": [
    "ul, li : 어떠한 데이터의 리스트를 나타내는 태그"
   ]
  },
  {
   "cell_type": "code",
   "execution_count": 12,
   "metadata": {},
   "outputs": [
    {
     "data": {
      "text/html": [
       "<ul>\n",
       "    <li>data 1</li>\n",
       "    <li>data 2</li>\n",
       "    <li>data 3</li>\n",
       "</ul>\n"
      ],
      "text/plain": [
       "<IPython.core.display.HTML object>"
      ]
     },
     "metadata": {},
     "output_type": "display_data"
    }
   ],
   "source": [
    "%%html\n",
    "<ul>\n",
    "    <li>data 1</li>\n",
    "    <li>data 2</li>\n",
    "    <li>data 3</li>\n",
    "</ul>"
   ]
  },
  {
   "cell_type": "markdown",
   "metadata": {},
   "source": [
    "a 태그\n",
    "- 링크를 출력하는 태그\n",
    "- href 속성값에 이동할 URL 데이터를 넣습니다."
   ]
  },
  {
   "cell_type": "code",
   "execution_count": 20,
   "metadata": {},
   "outputs": [
    {
     "data": {
      "text/html": [
       "<a href=\"http://fastcampus.co.kr\" target=\"_blank\" > Fastcampus! </a >\n"
      ],
      "text/plain": [
       "<IPython.core.display.HTML object>"
      ]
     },
     "metadata": {},
     "output_type": "display_data"
    }
   ],
   "source": [
    "%%html\n",
    "<a href=\"http://fastcampus.co.kr\" target=\"_blank\" > Fastcampus! </a >"
   ]
  },
  {
   "cell_type": "code",
   "execution_count": 23,
   "metadata": {},
   "outputs": [
    {
     "data": {
      "text/html": [
       "<img src=\"url\"> # 이미지 파일을 가져옴\n"
      ],
      "text/plain": [
       "<IPython.core.display.HTML object>"
      ]
     },
     "metadata": {},
     "output_type": "display_data"
    }
   ],
   "source": [
    "%%html\n",
    "<img src=\"url\"> # 이미지 파일을 가져옴"
   ]
  },
  {
   "cell_type": "markdown",
   "metadata": {},
   "source": [
    "iframe : 외부 URL 링크의 페이지를 보여주기 위한 태그 크롤링안될때 확인 해봐야함"
   ]
  },
  {
   "cell_type": "code",
   "execution_count": 28,
   "metadata": {},
   "outputs": [
    {
     "data": {
      "text/html": [
       "<iframe src = \"/ArticleSearchList.nhn?search.clubid=10050146&search.searchBy=0&search.query=%B8%C6%BA%CF\"with = \"100%\" height = \"400px;\" > /iframe >\n"
      ],
      "text/plain": [
       "<IPython.core.display.HTML object>"
      ]
     },
     "metadata": {},
     "output_type": "display_data"
    }
   ],
   "source": [
    "%%html\n",
    "<iframe src = \"\"with = \"100%\" height = \"400px;\" > /iframe >"
   ]
  },
  {
   "cell_type": "markdown",
   "metadata": {},
   "source": [
    "input\n",
    "- text\n",
    "- password\n",
    "- radio\n",
    "- checkbox"
   ]
  },
  {
   "cell_type": "code",
   "execution_count": 30,
   "metadata": {},
   "outputs": [
    {
     "data": {
      "text/html": [
       "<input type = 'text'></input>\n",
       "<input type = 'password' placeholder ='비밀번호'></input>\n",
       "<input type = 'radio' name = 'data'>radio1</input>\n",
       "<input type = 'radio' name = 'data'>radio2</input>\n",
       "<input type = 'checkbox'>checkbox</input>\n"
      ],
      "text/plain": [
       "<IPython.core.display.HTML object>"
      ]
     },
     "metadata": {},
     "output_type": "display_data"
    }
   ],
   "source": [
    "%%html\n",
    "<input type = 'text'></input>\n",
    "<input type = 'password' placeholder ='비밀번호'></input>\n",
    "<input type = 'radio' name = 'data'>radio1</input>\n",
    "<input type = 'radio' name = 'data'>radio2</input>\n",
    "<input type = 'checkbox'>checkbox</input>"
   ]
  },
  {
   "cell_type": "markdown",
   "metadata": {},
   "source": [
    "select, option\n",
    "- 옵션을 선택할수 있는 드랍다운 형태의 태그"
   ]
  },
  {
   "cell_type": "code",
   "execution_count": 32,
   "metadata": {},
   "outputs": [
    {
     "data": {
      "text/html": [
       "<select>\n",
       "    <option>data1</option>\n",
       "    <option>data2</option>\n",
       "</select>\n"
      ],
      "text/plain": [
       "<IPython.core.display.HTML object>"
      ]
     },
     "metadata": {},
     "output_type": "display_data"
    }
   ],
   "source": [
    "%%html\n",
    "<select>\n",
    "    <option>data1</option>\n",
    "    <option>data2</option>\n",
    "</select>"
   ]
  },
  {
   "cell_type": "code",
   "execution_count": null,
   "metadata": {},
   "outputs": [],
   "source": []
  }
 ],
 "metadata": {
  "kernelspec": {
   "display_name": "Python 3",
   "language": "python",
   "name": "python3"
  },
  "language_info": {
   "codemirror_mode": {
    "name": "ipython",
    "version": 3
   },
   "file_extension": ".py",
   "mimetype": "text/x-python",
   "name": "python",
   "nbconvert_exporter": "python",
   "pygments_lexer": "ipython3",
   "version": "3.7.4"
  }
 },
 "nbformat": 4,
 "nbformat_minor": 4
}
