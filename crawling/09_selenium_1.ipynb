{
 "cells": [
  {
   "cell_type": "markdown",
   "metadata": {},
   "source": [
    "### Selenium\n",
    "- 브라우저를 직접 실행하여 자동화하고 브라우저상에 있는 데이터를 수집\n",
    "- 웹 페스트 자동화를 위해서 만들어진 라이브러리\n",
    "- 다양한 브라우저 지원\n",
    "- 다양한 언어를 지원"
   ]
  },
  {
   "cell_type": "markdown",
   "metadata": {},
   "source": [
    "#### 설정\n",
    "- selenium chrome driver 설정\n",
    "   - chrome driver download\n",
    "   - 본인 컴퓨터에 맞는 드라이버 버전을 다운\n",
    "   - 버전은 설정 -> 도움말 -> 크롬정보\n",
    "   - 사용중인 주피터 노트북과 같은 디렉토리에 크롬 드라이버 파일 업로드\n",
    "   - 로컬 영역임\n",
    "   - global 하게 설정\n",
    "       - mac : \n",
    "           - chromedrvier 파일을 /usr/local/bin 디렉토리로 복사\n",
    "           - `sudo cp ~/Downloads/chromedriver/usr/local/bin`\n",
    "       - windows :\n",
    "           - 환경변수 추가\n",
    "           - 내컴퓨터 - 속성 - 고급시스템 설정 - 환경변수\n",
    "           - chromdriver의 Path를 추가\n",
    "- selenium python package 설치\n",
    "    - pip install selenium (한번만 설치)\n"
   ]
  },
  {
   "cell_type": "code",
   "execution_count": 5,
   "metadata": {},
   "outputs": [],
   "source": [
    "# 셀레니움의 webdriver import\n",
    "from selenium import webdriver"
   ]
  },
  {
   "cell_type": "code",
   "execution_count": 6,
   "metadata": {},
   "outputs": [],
   "source": [
    "# 실행하면 크롬브라우저가 켜짐\n",
    "driver = webdriver.Chrome()"
   ]
  },
  {
   "cell_type": "code",
   "execution_count": 7,
   "metadata": {},
   "outputs": [],
   "source": [
    "# 페이지 이동 : get\n",
    "driver.get('http://daum.net')"
   ]
  },
  {
   "cell_type": "code",
   "execution_count": 9,
   "metadata": {},
   "outputs": [],
   "source": [
    "# 윈도우 사이즈 조절\n",
    "# 보이지는 영역만 클릭이 가능함.\n",
    "driver.set_window_size(800,600)"
   ]
  },
  {
   "cell_type": "code",
   "execution_count": 11,
   "metadata": {},
   "outputs": [],
   "source": [
    "# 스크롤 위치 조절\n",
    "driver.execute_script('window.scrollTo(200,300);')"
   ]
  },
  {
   "cell_type": "code",
   "execution_count": 18,
   "metadata": {},
   "outputs": [],
   "source": [
    "# alert 다루기\n",
    "driver.execute_script(\"alert('FastCampus!!');\")send_keys"
   ]
  },
  {
   "cell_type": "code",
   "execution_count": 19,
   "metadata": {},
   "outputs": [],
   "source": [
    "# alert 확인버튼 누르기\n",
    "alert = driver.switch_to.alert\n",
    "alert.accept()"
   ]
  },
  {
   "cell_type": "code",
   "execution_count": 29,
   "metadata": {},
   "outputs": [],
   "source": [
    "# input 태그에 문자열 입력\n",
    "# find_element_by_css_selector : element를 한개만 선택\n",
    "# find_elements_by_css_selector : element를 여러개 선택\n",
    "\n",
    "# css_selector를 사용하여 input창 선택, send_keys를 이용하여 문자열 입력\n",
    "driver.find_element_by_css_selector('#q').send_keys('패스트 캠퍼스')\n",
    "# 무언가 입력되어있는 상태로 다시 send_keys를 쓰면 입력된 채로 추가됨.\n",
    "# 따라서 clear() 함수로 입력되어있는 내용을 삭제\n",
    "driver.find_element_by_css_selector('#q').clear()\n",
    "# 이후 다른 키입력\n",
    "driver.find_element_by_css_selector('#q').send_keys('파이썬')"
   ]
  },
  {
   "cell_type": "code",
   "execution_count": 30,
   "metadata": {},
   "outputs": [],
   "source": [
    "# button 클릭\n",
    "driver.find_element_by_css_selector('.inner_search > .btn_search').click()"
   ]
  },
  {
   "cell_type": "code",
   "execution_count": 32,
   "metadata": {},
   "outputs": [],
   "source": [
    "# 브라우저 종료\n",
    "# 메모리가 많이 드니까. 꼭 종료하세요.\n",
    "driver.quit()"
   ]
  },
  {
   "cell_type": "markdown",
   "metadata": {},
   "source": [
    "#### Darksky api 키 재발급"
   ]
  },
  {
   "cell_type": "code",
   "execution_count": 45,
   "metadata": {},
   "outputs": [],
   "source": [
    "# 브라우저 열기\n",
    "driver = webdriver.Chrome()"
   ]
  },
  {
   "cell_type": "code",
   "execution_count": 35,
   "metadata": {},
   "outputs": [],
   "source": [
    "# 로그인 페이지 이동\n",
    "driver.get('https://darksky.net/dev/login')"
   ]
  },
  {
   "cell_type": "code",
   "execution_count": 47,
   "metadata": {},
   "outputs": [],
   "source": [
    "# 이메일, 패스워드 입력\n",
    "email = ''\n",
    "pw = ''\n",
    "driver.find_element_by_css_selector('#email').send_keys(email)\n",
    "driver.find_element_by_css_selector('#password').send_keys(pw)"
   ]
  },
  {
   "cell_type": "code",
   "execution_count": 52,
   "metadata": {},
   "outputs": [],
   "source": [
    "# 로그인 버튼 클릭\n",
    "driver.find_element_by_css_selector('[type = submit]').click()"
   ]
  },
  {
   "cell_type": "code",
   "execution_count": 54,
   "metadata": {},
   "outputs": [],
   "source": [
    "# 리셋 시크릿 버튼 클릭\n",
    "driver.find_element_by_css_selector('.reset-key').click()"
   ]
  },
  {
   "cell_type": "code",
   "execution_count": 55,
   "metadata": {},
   "outputs": [],
   "source": [
    "# alret 확인 버튼 클릭\n",
    "alert = driver.switch_to.alert\n",
    "alert.accept()"
   ]
  },
  {
   "cell_type": "code",
   "execution_count": 62,
   "metadata": {},
   "outputs": [
    {
     "data": {
      "text/plain": [
       "'71e8b40417b3559ed181f46c06ddc4dc'"
      ]
     },
     "execution_count": 62,
     "metadata": {},
     "output_type": "execute_result"
    }
   ],
   "source": [
    "# 바뀐 키값 출력\n",
    "secret_key = driver.find_element_by_css_selector('#api-key').get_attribute('value')\n",
    "secret_key"
   ]
  },
  {
   "cell_type": "code",
   "execution_count": 41,
   "metadata": {},
   "outputs": [],
   "source": [
    "# 브라우저 종료\n",
    "driver.quit()"
   ]
  },
  {
   "cell_type": "code",
   "execution_count": 69,
   "metadata": {},
   "outputs": [],
   "source": [
    "# 코드 함수로 작성\n",
    "def reset_darksky_key(email,pw) :\n",
    "    # 브라우저 열기\n",
    "    driver = webdriver.Chrome()\n",
    "    # 로그인 페이지 이동\n",
    "    driver.get('https://darksky.net/dev/login')\n",
    "    # 이메일, 패스워드 입력\n",
    "    driver.find_element_by_css_selector('#email').send_keys(email)\n",
    "    driver.find_element_by_css_selector('#password').send_keys(pw)\n",
    "    # 로그인 버튼 클릭\n",
    "    driver.find_element_by_css_selector('[type = submit]').click()\n",
    "    # 리셋 시크릿 버튼 클릭\n",
    "    driver.find_element_by_css_selector('.reset-key').click()\n",
    "    # alret 확인 버튼 클릭\n",
    "    alert = driver.switch_to.alert\n",
    "    alert.accept()\n",
    "    # 바뀐 키값 출력\n",
    "    secret_key = driver.find_element_by_css_selector('#api-key').get_attribute('value')\n",
    "    secret_key\n",
    "    # 브라우저 종료\n",
    "    driver.quit()\n",
    "    return secret_key"
   ]
  },
  {
   "cell_type": "code",
   "execution_count": 70,
   "metadata": {},
   "outputs": [
    {
     "data": {
      "text/plain": [
       "'e211ac7a7dedd121d6d938661f2834af'"
      ]
     },
     "execution_count": 70,
     "metadata": {},
     "output_type": "execute_result"
    }
   ],
   "source": [
    "email = ''\n",
    "pw = ''\n",
    "reset_darksky_key(email, pw)"
   ]
  }
 ],
 "metadata": {
  "kernelspec": {
   "display_name": "Python 3",
   "language": "python",
   "name": "python3"
  },
  "language_info": {
   "codemirror_mode": {
    "name": "ipython",
    "version": 3
   },
   "file_extension": ".py",
   "mimetype": "text/x-python",
   "name": "python",
   "nbconvert_exporter": "python",
   "pygments_lexer": "ipython3",
   "version": "3.7.4"
  }
 },
 "nbformat": 4,
 "nbformat_minor": 4
}
