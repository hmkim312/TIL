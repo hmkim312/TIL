{
 "cells": [
  {
   "cell_type": "markdown",
   "metadata": {},
   "source": [
    "#### 네이버 기사제목 데이터 크롤링\n",
    "- selenium을 이용한 텍스트 데이터 수집\n",
    "- thread를 사용한 데이터 수집 "
   ]
  },
  {
   "cell_type": "code",
   "execution_count": 1,
   "metadata": {},
   "outputs": [],
   "source": [
    "from selenium import webdriver"
   ]
  },
  {
   "cell_type": "code",
   "execution_count": 3,
   "metadata": {},
   "outputs": [],
   "source": [
    "page = 2\n",
    "url = f'https://news.naver.com/main/main.nhn?\\\n",
    "mode=LSD&mid=shm&sid1=105#&date=%2000:00:00&page={page}'"
   ]
  },
  {
   "cell_type": "code",
   "execution_count": 4,
   "metadata": {},
   "outputs": [],
   "source": [
    "driver = webdriver.Chrome()\n",
    "driver.get(url)"
   ]
  },
  {
   "cell_type": "code",
   "execution_count": 5,
   "metadata": {},
   "outputs": [
    {
     "data": {
      "text/plain": [
       "20"
      ]
     },
     "execution_count": 5,
     "metadata": {},
     "output_type": "execute_result"
    }
   ],
   "source": [
    "# 원하는 엘리먼트가 선택될때까지 선택해봐야함\n",
    "articles = driver.find_elements_by_css_selector('#section_body li')\n",
    "len(articles)"
   ]
  },
  {
   "cell_type": "code",
   "execution_count": 16,
   "metadata": {},
   "outputs": [],
   "source": [
    "article_list = []\n",
    "\n",
    "for article in articles:\n",
    "    title = article.find_element_by_css_selector('dt:not(.photo) > a').text\n",
    "    article_list.append(title)"
   ]
  },
  {
   "cell_type": "code",
   "execution_count": null,
   "metadata": {},
   "outputs": [],
   "source": [
    "driver.quit()"
   ]
  },
  {
   "cell_type": "code",
   "execution_count": 23,
   "metadata": {},
   "outputs": [],
   "source": [
    "# 함수로 만들기\n",
    "\n",
    "article_list = []\n",
    "\n",
    "def get_articles(page) :\n",
    "\n",
    "    url = f'https://news.naver.com/main/main.nhn?\\\n",
    "    mode=LSD&mid=shm&sid1=105#&date=%2000:00:00&page={page}'\n",
    "    \n",
    "    driver = webdriver.Chrome()\n",
    "    driver.get(url)\n",
    "\n",
    "    # 원하는 엘리먼트가 선택될때까지 선택해봐야함\n",
    "    articles = driver.find_elements_by_css_selector('#section_body li')\n",
    "    len(articles)\n",
    "    \n",
    "    for article in articles:\n",
    "        title = article.find_element_by_css_selector('dt:not(.photo) > a').text\n",
    "        article_list.append(title)\n",
    "    print(f\"crawling : {page}\")\n",
    "    driver.quit()"
   ]
  },
  {
   "cell_type": "code",
   "execution_count": 24,
   "metadata": {},
   "outputs": [
    {
     "name": "stdout",
     "output_type": "stream",
     "text": [
      "crawling : 1\n",
      "crawling : 2\n",
      "crawling : 3\n",
      "crawling : 4\n",
      "Wall time: 34.2 s\n"
     ]
    }
   ],
   "source": [
    "%%time\n",
    "for page in range(1,5):\n",
    "    get_articles(page)"
   ]
  },
  {
   "cell_type": "code",
   "execution_count": 27,
   "metadata": {},
   "outputs": [
    {
     "data": {
      "text/plain": [
       "['[fn팩트체크] 화면에 숨기는 전면카메라, 스마트폰 대세 될까', '[단독]검체 채취 의료진 보호구, 전신방호복에서 가운으로 바꾼다']"
      ]
     },
     "execution_count": 27,
     "metadata": {},
     "output_type": "execute_result"
    }
   ],
   "source": [
    "article_list[:2]"
   ]
  },
  {
   "cell_type": "markdown",
   "metadata": {},
   "source": [
    "#### thread 사용하여 크롤링 시간 빨리 (아이들 타임을 사용)\n",
    "- 보통은 scrapy를 사용"
   ]
  },
  {
   "cell_type": "code",
   "execution_count": 28,
   "metadata": {},
   "outputs": [],
   "source": [
    "import threading"
   ]
  },
  {
   "cell_type": "code",
   "execution_count": 30,
   "metadata": {},
   "outputs": [],
   "source": [
    "article_list = []\n",
    "\n",
    "for page in range(1,5):\n",
    "    th = threading.Thread(target=get_articles, args=(page, ))\n",
    "    th.start()"
   ]
  },
  {
   "cell_type": "code",
   "execution_count": 31,
   "metadata": {},
   "outputs": [
    {
     "name": "stdout",
     "output_type": "stream",
     "text": [
      "1234567crawling : 4\n",
      "crawling : 2\n",
      "crawling : 3\n",
      "8crawling : 1\n",
      "9"
     ]
    }
   ],
   "source": [
    "import time\n",
    "sec = 0\n",
    "while len(article_list) < 80:\n",
    "    time.sleep(1)\n",
    "    sec += 1\n",
    "    print(sec, end='')"
   ]
  },
  {
   "cell_type": "code",
   "execution_count": 32,
   "metadata": {},
   "outputs": [
    {
     "data": {
      "text/plain": [
       "['10명 중 7명은 매일 동영상 시청…AI 이용도 확산',\n",
       " '국민 10명 중 7명, 매일 인터넷 동영상본다…60대도 60.2%',\n",
       " '애플, 애플워치로 심장발작 예측 가능할까?',\n",
       " '다음·네이버서 막힌 연예인 악플…이제 네이트로 쏠리나 [김은지의 텔레파시]',\n",
       " '까칠한 고양이 스트레스 줄이는 음악',\n",
       " '\"장벽 낮추고, 투자 늘리고\"...금융위 \\'핀테크·디지털금융 혁신과제\\' 발표',\n",
       " '삼성-화웨이, 폴더블폰 2라운드…‘갤폴드2 vs 메이트Xs’',\n",
       " '용산 ‘우한코로나’에 뚫렸는데 LGU+ 재택근무 ‘글쎄’... \"안전조치 강화\"',\n",
       " \"퀄컴 연구실에 쌓여있던 '5G 미래기술'…세상 빛본다\",\n",
       " '\"마스크 사려면 회원가입부터\"…우체국 홈페이지 다운',\n",
       " 'KBSI, 인공지능, 홀로그래피로 질환 연구 새 지평',\n",
       " \"[단독]SK텔레콤 을지로 T타워 직원 코로나19 '1차 양성' 판정(상보)\",\n",
       " '혐오·차별 등 ‘악플’ 달다 걸린 당신, 카카오에 글 못 쓴다',\n",
       " '게임업계도 재택근무 도입… 코로나19 확산 막는다',\n",
       " '[DD진단/中게임 초강세] 융합 장르 대세되나…자존심 걸린 한중전',\n",
       " \"삼성전자, 인도 특화 저가폰 '갤럭시M31' 공개\",\n",
       " \"관심 끌기 최적인 '갤럭시Z 플립' 사용기…셀카봉에 끼우면 나도 백주부 [홍IT인간]\",\n",
       " \"셀트리온, 자가면역질환 치료제 '램시마SC' 국내 허가\",\n",
       " \"포털 '다음'에 악플 잘못 달면 영영 댓글 못단다\",\n",
       " '정부, 올해 재생에너지 프로젝트 32개 착공…1.9兆 투입',\n",
       " 'SK텔레콤 T타워 직원 코로나19 1차 양성판정',\n",
       " '카카오 “혐오·차별 표현 사용하면 댓글 못단다”',\n",
       " '태양광발전 계통 접속 허용기준 20% 확대된다',\n",
       " '카카오 \"상습 악플러는 영원히 댓글 못 단다\"',\n",
       " \"타다금지법 처리 불투명...'코로나3법'에 밀려 법사위 안건서 빠져\",\n",
       " \"삼성, 갤럭시S20에 '세계 최고 보안솔루션' 탑재\",\n",
       " \"코로나19에 재택근무 확산되지만 IT 개발자들은 '한숨'\",\n",
       " \"연필심보다 작은 2㎜ 보안칩···갤S20 '디지털 금고' 장착했다\",\n",
       " \"삼성 스마트폰에 '디지털 금고'…갤럭시S20 탑재\",\n",
       " \"그래픽 확 바뀐 '블소'…인기 반등 시도\",\n",
       " '5G SA 상반기 상용화 오리무중…어디까지 왔나',\n",
       " '마스크 공장, 스마트공장 도움에 생산량 2.5배 늘어',\n",
       " '삼성전자, 모바일 보안 칩 상용화…갤럭시S20에 탑재',\n",
       " '디즈니, 갑작스런 CEO 교체…무슨 일 있었나?',\n",
       " \"넷마블, 미 게임쇼 '팍스 이스트'서 마블과 신작 공개\",\n",
       " '엔씨 블레이드앤소울, 캐릭터 그래픽 성형으로 다시 태어나',\n",
       " '스마트시티 규제 본격 완화…27일부터 규제샌드박스 시행',\n",
       " '페이팔, 구글페이 연동 계좌에서 1만유로 부정송금 발생',\n",
       " '“작년에 가장 많이 팔린 스마트폰은 아이폰XR”',\n",
       " 'SKT 본사 폐쇄, 통신망 어찌되나… 업계 “이상 없을 것”',\n",
       " '확진 의심 직원에 SK텔레콤 T타워 폐쇄..SK계열사 비상(종합)',\n",
       " '\"코닥·소니 무너뜨린 디지털화...\\'돈\\'도 예외 아니다\"',\n",
       " '방통위, 개인정보보호 위반시 고발조치…세부기준 마련',\n",
       " '\"우한 코로나, 백신은 기대 접어라\"… 각국 전문가들 회의적 목소리',\n",
       " '코로나 1차 양성 SK텔레콤 직원은 내근직 “고객 접촉 없다”',\n",
       " \"온라인몰에 갤럭시S20 불법보조금 '고개'\",\n",
       " '개인정보보호 법규 위반 기업 ‘검찰고발 기준’ 마련..예측가능성 기대',\n",
       " '동영상 서비스 이용률 압도적…국민 73% 매일 이용',\n",
       " \"엔씨소프트, '코로나19'에 사흘간 휴무…넥슨은 재택근무(종합)\",\n",
       " '중국, 자율주행차 목표시기 5년 늦췄다',\n",
       " '[SW진흥법 통과 릴레이 기고②] \"SW 엔지니어링 역량 축적에 꼭 필요\"',\n",
       " '[fn팩트체크] 화면에 숨기는 전면카메라, 스마트폰 대세 될까',\n",
       " '글로벌 블록체인 기업 리플, 해외송금 ‘센트비’와 한국 시장 공략',\n",
       " \"'코로나19' SKT 을지로 본사도 뚫렸다…직원 '1차 양성' 판정(종합)\",\n",
       " '[단독]검체 채취 의료진 보호구, 전신방호복에서 가운으로 바꾼다',\n",
       " \"'스냅드래곤865' 5G 스마트폰 필수스펙 자리매김\",\n",
       " \"인터넷 대세는 '동영상'…'AI 음성인식'도 대중화 물꼬 텄다\",\n",
       " '[핵잼 사이언스] 산소 없이도 생존하는 유일한 기생충, 최초 확인',\n",
       " '메르스 이어 코로나까지…사이버 세상도 위협',\n",
       " '3D 홀로그래피로 세포 본다',\n",
       " \"'코로나19' 여파에 대기업 채용 줄줄이 연기·취소\",\n",
       " '일본 수출규제 악몽 버텨내니 코로나19 폭탄 터져',\n",
       " \"LS 용산 이어 '서울 심장부' SKT 을지로도 뚫렸다\",\n",
       " '\"우체국 마스크, 언제 팔아요?\"…간절한 국민들 몰려 \\'접속장애\\'',\n",
       " '인터넷 이용행태 보니…동영상 끼고 살고 AI 대중화 ‘성큼’',\n",
       " '다원메닥스 “꿈의 암치료 ‘붕소중성자포획치료’ 개발...올해 안 뇌종양 임상 시작”',\n",
       " '\"IP카메라 이용자 70%가 성범죄 등 2차 범죄 우려\"',\n",
       " \"'코로나19 연구실 침투 막아라' 사활 거는 대구경북 과학기술계\",\n",
       " '20대 42% \"AI 음성인식은 일상의 필수품\"',\n",
       " '악플에 칼 빼든 카카오 \"혐오·차별 소지 댓글 삭제조치\"',\n",
       " \"'코로나19' 확진·의심환자 속출…기업들이 떨고 있다(종합)\",\n",
       " '금융보안원, 클라우드와 연계한 디도스 공격 대응체계 본격 가동',\n",
       " \"금융위, '금융 망분리 예외조치'... 코로나19 금융권 원격근무 확대\",\n",
       " '“경기방송, 재허가 두달만에 폐업?”…방통위, 후속조치 검토',\n",
       " '카카오에서 ‘혐오ㆍ차별’ 댓글 쓰면 제재 당한다',\n",
       " '\"재택근무하면 생산성 떨어진다고? 천만의 말씀\"',\n",
       " '코로나19 확진에 한수원 \\'비상\\'…\"원전 영향은 없을 것\"',\n",
       " '공공IT와 M&A로 큰 아이티센, 기세 이어갈까',\n",
       " \"매출 兆 단위 '독립 IT서비스 기업 시대' 열렸다\",\n",
       " \"'타다 금지법' 놓고 모빌리티 업계 '내부갈등' 수면 위로\"]"
      ]
     },
     "execution_count": 32,
     "metadata": {},
     "output_type": "execute_result"
    }
   ],
   "source": [
    "article_list"
   ]
  },
  {
   "cell_type": "code",
   "execution_count": null,
   "metadata": {},
   "outputs": [],
   "source": []
  }
 ],
 "metadata": {
  "kernelspec": {
   "display_name": "Python 3",
   "language": "python",
   "name": "python3"
  },
  "language_info": {
   "codemirror_mode": {
    "name": "ipython",
    "version": 3
   },
   "file_extension": ".py",
   "mimetype": "text/x-python",
   "name": "python",
   "nbconvert_exporter": "python",
   "pygments_lexer": "ipython3",
   "version": "3.7.4"
  }
 },
 "nbformat": 4,
 "nbformat_minor": 4
}
