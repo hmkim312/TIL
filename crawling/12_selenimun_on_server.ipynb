{
 "cells": [
  {
   "cell_type": "markdown",
   "metadata": {},
   "source": [
    "### 서버에서 Selenium 사용하기\n",
    "- 크롬 브라우저 설치\n",
    "    - sudo apt-get install -y chromium-browser\n",
    "    - 버전확인 : chromium-broswer -version\n",
    "- 크롬 드라이버 다운로드\n",
    "    - wget https://chromedriver.storage.googleapis.com/80.0.3987.106/chromedriver_linux64.zip\n",
    "    - sudo apt install unzip : 압출푸는 프로그램 설치\n",
    "    - unzip chromdiver_linux64.zip : 압축 해제\n",
    "    - sudo mv chromedriver /usr/local/bin/ : chromedriver를 전역에서 사용하기 위해 bin폴더로 이동\n",
    "- selenium 패키지 설치\n",
    "    - pip install selenium\n",
    "    - pip install pillow\n",
    "- 한글폰트 설치 - sudo apt-het install -y fonts-nanum*s"
   ]
  },
  {
   "cell_type": "code",
   "execution_count": 13,
   "metadata": {},
   "outputs": [],
   "source": [
    "from selenium import webdriver\n",
    "from PIL import Image as pil"
   ]
  },
  {
   "cell_type": "code",
   "execution_count": 14,
   "metadata": {},
   "outputs": [],
   "source": [
    "options = webdriver.ChromeOptions()\n",
    "options.add_argument('headless')\n",
    "options.add_argument('window-size =1920x1080')\n",
    "driver = webdriver.Chrome(options=options)"
   ]
  },
  {
   "cell_type": "code",
   "execution_count": 15,
   "metadata": {},
   "outputs": [],
   "source": [
    "driver.get('http://naver.com')\n",
    "driver.save_screenshot('naver_main.png')\n",
    "driver.quit()"
   ]
  },
  {
   "cell_type": "code",
   "execution_count": 16,
   "metadata": {},
   "outputs": [
    {
     "data": {
      "text/plain": [
       "(800, 600)"
      ]
     },
     "execution_count": 16,
     "metadata": {},
     "output_type": "execute_result"
    }
   ],
   "source": [
    "# 저장한 이미지 확인\n",
    "pil_im = pil.open('naver_main.png')\n",
    "pil_im.size"
   ]
  }
 ],
 "metadata": {
  "kernelspec": {
   "display_name": "Python 3",
   "language": "python",
   "name": "python3"
  },
  "language_info": {
   "codemirror_mode": {
    "name": "ipython",
    "version": 3
   },
   "file_extension": ".py",
   "mimetype": "text/x-python",
   "name": "python",
   "nbconvert_exporter": "python",
   "pygments_lexer": "ipython3",
   "version": "3.7.4"
  }
 },
 "nbformat": 4,
 "nbformat_minor": 4
}
