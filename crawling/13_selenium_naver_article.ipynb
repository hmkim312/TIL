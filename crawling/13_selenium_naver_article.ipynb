{
 "cells": [
  {
   "cell_type": "code",
   "execution_count": 4,
   "metadata": {},
   "outputs": [],
   "source": [
    "import requests\n",
    "from selenium import webdriver\n",
    "from PIL import Image as pil"
   ]
  },
  {
   "cell_type": "code",
   "execution_count": 32,
   "metadata": {},
   "outputs": [],
   "source": [
    "category, date, page = 100, 20200227, 1\n",
    "url = f'https://news.naver.com/main/list.nhn?mode=LSD&mid=sec&sid1={category}&date={date}&page={page}'"
   ]
  },
  {
   "cell_type": "code",
   "execution_count": 33,
   "metadata": {},
   "outputs": [],
   "source": [
    "driver = webdriver.Chrome()\n",
    "driver.get(url)"
   ]
  },
  {
   "cell_type": "code",
   "execution_count": 34,
   "metadata": {},
   "outputs": [
    {
     "data": {
      "text/plain": [
       "20"
      ]
     },
     "execution_count": 34,
     "metadata": {},
     "output_type": "execute_result"
    }
   ],
   "source": [
    "articles = driver.find_elements_by_css_selector(\".list_body > ul > li\")\n",
    "len(articles)"
   ]
  },
  {
   "cell_type": "code",
   "execution_count": 36,
   "metadata": {},
   "outputs": [
    {
     "data": {
      "text/plain": [
       "('총선 비례대표 출마선언하는 이상이 교수',\n",
       " 'https://news.naver.com/main/read.nhn?mode=LSD&mid=sec&sid1=100&oid=421&aid=0004488760')"
      ]
     },
     "execution_count": 36,
     "metadata": {},
     "output_type": "execute_result"
    }
   ],
   "source": [
    "title = articles[0].find_element_by_css_selector('dt:not(.photo) > a').text\n",
    "link = articles[0].find_element_by_css_selector('dt:not(.photo) > a').get_attribute('href')\n",
    "title, link"
   ]
  },
  {
   "cell_type": "code",
   "execution_count": 47,
   "metadata": {},
   "outputs": [
    {
     "data": {
      "text/plain": [
       "'(서울=뉴스1) 박세연 기자 = 이상이 제주대학교 의과대학 교수(복지국가소사이어티 공동대표)가 27일 서울 여의도 국회 정론관에서 제21대 총선 더불어민주당 비례대표 출마 선언을 하고 있다. 2020.2.27/뉴스1psy5179@news1.kr▶ [ 크립토허브 ]  ▶ [터닝 포인트 2020] 구매! ▶ 네이버 메인에서 [뉴스1] 구독하기![© 뉴스1코리아(news1.kr), 무단 전재 및 재배포 금지]'"
      ]
     },
     "execution_count": 47,
     "metadata": {},
     "output_type": "execute_result"
    }
   ],
   "source": [
    "# 기사내용만들기\n",
    "response = requests.get(link)\n",
    "dom = BeautifulSoup(response.content, 'html.parser')\n",
    "content = dom.select_one('#articleBodyContents').text\\\n",
    ".replace('\\n','').replace('\\'','').split('{}')[1].strip()\n",
    "content"
   ]
  },
  {
   "cell_type": "code",
   "execution_count": 62,
   "metadata": {},
   "outputs": [],
   "source": [
    "def get_articles(category, date, page):\n",
    "    url = f'https://news.naver.com/main/list.nhn?mode=LSD&mid=sec&sid1={category}&date={date}&page={page}'\n",
    "    driver = webdriver.Chrome()\n",
    "    driver.get(url)\n",
    "    articles = driver.find_elements_by_css_selector(\".list_body > ul > li\")\n",
    "    datas = []\n",
    "    for article in articles:\n",
    "        title = article.find_element_by_css_selector('dt:not(.photo) > a').text\n",
    "        link = article.find_element_by_css_selector('dt:not(.photo) > a').get_attribute('href')\n",
    "        response = requests.get(link)\n",
    "        dom = BeautifulSoup(response.content, 'html.parser')\n",
    "        content = dom.select_one('#articleBodyContents').text\\\n",
    "        .replace('\\n','').replace('\\'','').split('{}')[1].strip()\n",
    "        datas.append({\n",
    "            'title' : title,\n",
    "            'link' : link,\n",
    "            'content' : content,\n",
    "            'category' : category\n",
    "        })\n",
    "    driver.quit()\n",
    "    return pd.DataFrame(datas)"
   ]
  },
  {
   "cell_type": "code",
   "execution_count": 63,
   "metadata": {
    "collapsed": true,
    "jupyter": {
     "outputs_hidden": true
    }
   },
   "outputs": [
    {
     "data": {
      "text/html": [
       "<div>\n",
       "<style scoped>\n",
       "    .dataframe tbody tr th:only-of-type {\n",
       "        vertical-align: middle;\n",
       "    }\n",
       "\n",
       "    .dataframe tbody tr th {\n",
       "        vertical-align: top;\n",
       "    }\n",
       "\n",
       "    .dataframe thead th {\n",
       "        text-align: right;\n",
       "    }\n",
       "</style>\n",
       "<table border=\"1\" class=\"dataframe\">\n",
       "  <thead>\n",
       "    <tr style=\"text-align: right;\">\n",
       "      <th></th>\n",
       "      <th>title</th>\n",
       "      <th>link</th>\n",
       "      <th>content</th>\n",
       "      <th>category</th>\n",
       "    </tr>\n",
       "  </thead>\n",
       "  <tbody>\n",
       "    <tr>\n",
       "      <td>0</td>\n",
       "      <td>[속보]文대통령 \"서울과 수도권 주택 공급 확대 속도내길\"</td>\n",
       "      <td>https://news.naver.com/main/read.nhn?mode=LSD&amp;...</td>\n",
       "      <td>[파이낸셜뉴스]   fnkhy@fnnews.com 김호연 기자   ▶ 헉! 소리나는...</td>\n",
       "      <td>100</td>\n",
       "    </tr>\n",
       "    <tr>\n",
       "      <td>1</td>\n",
       "      <td>황교안 “대구서 보고들은 얘기, 文 대통령에 가감없이 전할 것”</td>\n",
       "      <td>https://news.naver.com/main/read.nhn?mode=LSD&amp;...</td>\n",
       "      <td>코로나19 확진자가 급증하고 있는 대구를 방문한 미래통합당 황교안 대표는, \"보고 ...</td>\n",
       "      <td>100</td>\n",
       "    </tr>\n",
       "    <tr>\n",
       "      <td>2</td>\n",
       "      <td>[속보]文대통령 \"고가주택과 다주택자 과세 강화해야\"</td>\n",
       "      <td>https://news.naver.com/main/read.nhn?mode=LSD&amp;...</td>\n",
       "      <td>[서울=뉴시스]배훈식 기자 = 문재인 대통령이 27일 청와대 영빈관에서 열린 국토교...</td>\n",
       "      <td>100</td>\n",
       "    </tr>\n",
       "    <tr>\n",
       "      <td>3</td>\n",
       "      <td>유엔, 북한 코로나19 발생 확인 못해… 국제사회와 협력 촉구</td>\n",
       "      <td>https://news.naver.com/main/read.nhn?mode=LSD&amp;...</td>\n",
       "      <td>북한 노동당 기관지 노동신문은 20일 사진 보도에서 신종 코로나바이러스 감염증(코로...</td>\n",
       "      <td>100</td>\n",
       "    </tr>\n",
       "    <tr>\n",
       "      <td>4</td>\n",
       "      <td>감사원 \"국토부 분양가 산정 기준에 오류…발코니 확장 비용도 과다\"</td>\n",
       "      <td>https://news.naver.com/main/read.nhn?mode=LSD&amp;...</td>\n",
       "      <td>자재·노무단가 가격변동 미반영재산정시 지상층·지하층 건축비 각각 1만원·13만9천원...</td>\n",
       "      <td>100</td>\n",
       "    </tr>\n",
       "    <tr>\n",
       "      <td>5</td>\n",
       "      <td>면적 누락해 건축비 과대 산정…못 믿을 분양가 상한금액</td>\n",
       "      <td>https://news.naver.com/main/read.nhn?mode=LSD&amp;...</td>\n",
       "      <td>감사원, 건축비 중심 분양가 상한제 감사 결과 발표13개 지구 건축비 지하 799억...</td>\n",
       "      <td>100</td>\n",
       "    </tr>\n",
       "    <tr>\n",
       "      <td>6</td>\n",
       "      <td>'TK 현장지휘 3일차' 丁총리, 청도 방문…대남병원 상황 점검</td>\n",
       "      <td>https://news.naver.com/main/read.nhn?mode=LSD&amp;...</td>\n",
       "      <td>\"대부분 의료 취약계층…만전 기하라\"[서울=뉴시스]정세균 국무총리가 27일 경북 청...</td>\n",
       "      <td>100</td>\n",
       "    </tr>\n",
       "    <tr>\n",
       "      <td>7</td>\n",
       "      <td>정문호 민주당 함평군수 예비후보 \"군민 선택 받겠다\"</td>\n",
       "      <td>https://news.naver.com/main/read.nhn?mode=LSD&amp;...</td>\n",
       "      <td>정문호 더불어민주당 함평군수 예비후보 /사진=뉴스1정문호 더불어민주당 함평군수 예비...</td>\n",
       "      <td>100</td>\n",
       "    </tr>\n",
       "    <tr>\n",
       "      <td>8</td>\n",
       "      <td>국회 코로나 특위, 3월 2일부터 본격 가동</td>\n",
       "      <td>https://news.naver.com/main/read.nhn?mode=LSD&amp;...</td>\n",
       "      <td>첫 회의 열고 위원장과 간사 등 선임향후 위원회 활동 방향 등도 결정[이데일리 신민...</td>\n",
       "      <td>100</td>\n",
       "    </tr>\n",
       "    <tr>\n",
       "      <td>9</td>\n",
       "      <td>심상정 \"정부가 마스크 100% 전매해 무상지급 해야\"</td>\n",
       "      <td>https://news.naver.com/main/read.nhn?mode=LSD&amp;...</td>\n",
       "      <td>코로나19 극복을 위한 초당적 협력 강조... \"예비비 3조4000억 원 신속 집행...</td>\n",
       "      <td>100</td>\n",
       "    </tr>\n",
       "    <tr>\n",
       "      <td>10</td>\n",
       "      <td>윤소하 의원 \"'가족 돌봄 휴가' 유급 전환, 빨리 지원해야\"</td>\n",
       "      <td>https://news.naver.com/main/read.nhn?mode=LSD&amp;...</td>\n",
       "      <td>윤소하 정의당 원내대표가 지난 18일 오전 서울 여의도 국회에서 열린 의원총회에서 ...</td>\n",
       "      <td>100</td>\n",
       "    </tr>\n",
       "    <tr>\n",
       "      <td>11</td>\n",
       "      <td>한미 군 당국 \"코로나19 확산에 한미훈련 일정 연기\"</td>\n",
       "      <td>https://news.naver.com/main/read.nhn?mode=LSD&amp;...</td>\n",
       "      <td>한미연합군사훈련, 코로나19 확산으로 연기 / 사진=연합뉴스한미 군 당국이 오늘(2...</td>\n",
       "      <td>100</td>\n",
       "    </tr>\n",
       "    <tr>\n",
       "      <td>12</td>\n",
       "      <td>\"박능후 사퇴해야\"...\"31번 이후 국내 감염은 사실\"</td>\n",
       "      <td>https://news.naver.com/main/read.nhn?mode=LSD&amp;...</td>\n",
       "      <td>질의하는 야당 의원·답변하는 장관 모두 흥분 상태김진표 \"31번 확진자 이후 국내 ...</td>\n",
       "      <td>100</td>\n",
       "    </tr>\n",
       "    <tr>\n",
       "      <td>13</td>\n",
       "      <td>정 총리, 청도군청 방문 현장 점검 \"추가 확산 없어야\"</td>\n",
       "      <td>https://news.naver.com/main/read.nhn?mode=LSD&amp;...</td>\n",
       "      <td>정세균 국무총리가 27일 경북 청도군청 지역재난안전대책본부에서 코로나19 대응상황을...</td>\n",
       "      <td>100</td>\n",
       "    </tr>\n",
       "    <tr>\n",
       "      <td>14</td>\n",
       "      <td>‘대구 체류 사흘째’ 정 총리 “하나하나 신속히 조치…코로나19, 꼭 잡겠다”</td>\n",
       "      <td>https://news.naver.com/main/read.nhn?mode=LSD&amp;...</td>\n",
       "      <td>청도서 대남병원 감염 문제 점검…영남대서 中유학생 관리 당부정세균 국무총리(오른쪽)...</td>\n",
       "      <td>100</td>\n",
       "    </tr>\n",
       "    <tr>\n",
       "      <td>15</td>\n",
       "      <td>北 보건성 \" '코로나19' 치료방법 개발 시까지 국경 봉쇄 유지\"</td>\n",
       "      <td>https://news.naver.com/main/read.nhn?mode=LSD&amp;...</td>\n",
       "      <td>북한 당국이 코로나 19 바이러스를 차단하기 위해 명확한 진단과 치료 방법이 개발될...</td>\n",
       "      <td>100</td>\n",
       "    </tr>\n",
       "    <tr>\n",
       "      <td>16</td>\n",
       "      <td>민생당 첫 회의…코로나19 대처 비판 “대한민국 두 쪽 분열”</td>\n",
       "      <td>https://news.naver.com/main/read.nhn?mode=LSD&amp;...</td>\n",
       "      <td>호남을 기반으로 한 바른미래당·대안신당·평화당이 모여 새롭게 창당한 민생당이 오늘(...</td>\n",
       "      <td>100</td>\n",
       "    </tr>\n",
       "    <tr>\n",
       "      <td>17</td>\n",
       "      <td>英외교장관에 '퇴짜' 맞은 강경화…우한 코로나 탓?</td>\n",
       "      <td>https://news.naver.com/main/read.nhn?mode=LSD&amp;...</td>\n",
       "      <td>예정됐던 한·영 외교장관회담 英측 요청으로 무산⋯ 英 \"장관 개인 사정\"우한 코로나...</td>\n",
       "      <td>100</td>\n",
       "    </tr>\n",
       "    <tr>\n",
       "      <td>18</td>\n",
       "      <td>정부, 신천지가 제공 안한 '교육생 명단'도 요청</td>\n",
       "      <td>https://news.naver.com/main/read.nhn?mode=LSD&amp;...</td>\n",
       "      <td>청도 대남병원 정신질환자 60명 국립정신건강센터로, 경로당·복지관 일시 휴관김강립 ...</td>\n",
       "      <td>100</td>\n",
       "    </tr>\n",
       "    <tr>\n",
       "      <td>19</td>\n",
       "      <td>이춘석 \"경선 결과 깨끗이 승복…당 후보 지지해달라\"</td>\n",
       "      <td>https://news.naver.com/main/read.nhn?mode=LSD&amp;...</td>\n",
       "      <td>이춘석 더불어민주당 의원이 경선 탈락 후 경과에 승복한다는 입장을 밝혔다. 기자회견...</td>\n",
       "      <td>100</td>\n",
       "    </tr>\n",
       "  </tbody>\n",
       "</table>\n",
       "</div>"
      ],
      "text/plain": [
       "                                          title  \\\n",
       "0              [속보]文대통령 \"서울과 수도권 주택 공급 확대 속도내길\"   \n",
       "1           황교안 “대구서 보고들은 얘기, 文 대통령에 가감없이 전할 것”   \n",
       "2                 [속보]文대통령 \"고가주택과 다주택자 과세 강화해야\"   \n",
       "3            유엔, 북한 코로나19 발생 확인 못해… 국제사회와 협력 촉구   \n",
       "4         감사원 \"국토부 분양가 산정 기준에 오류…발코니 확장 비용도 과다\"   \n",
       "5                면적 누락해 건축비 과대 산정…못 믿을 분양가 상한금액   \n",
       "6           'TK 현장지휘 3일차' 丁총리, 청도 방문…대남병원 상황 점검   \n",
       "7                 정문호 민주당 함평군수 예비후보 \"군민 선택 받겠다\"   \n",
       "8                      국회 코로나 특위, 3월 2일부터 본격 가동   \n",
       "9                심상정 \"정부가 마스크 100% 전매해 무상지급 해야\"   \n",
       "10           윤소하 의원 \"'가족 돌봄 휴가' 유급 전환, 빨리 지원해야\"   \n",
       "11               한미 군 당국 \"코로나19 확산에 한미훈련 일정 연기\"   \n",
       "12              \"박능후 사퇴해야\"...\"31번 이후 국내 감염은 사실\"   \n",
       "13              정 총리, 청도군청 방문 현장 점검 \"추가 확산 없어야\"   \n",
       "14  ‘대구 체류 사흘째’ 정 총리 “하나하나 신속히 조치…코로나19, 꼭 잡겠다”   \n",
       "15        北 보건성 \" '코로나19' 치료방법 개발 시까지 국경 봉쇄 유지\"   \n",
       "16           민생당 첫 회의…코로나19 대처 비판 “대한민국 두 쪽 분열”   \n",
       "17                 英외교장관에 '퇴짜' 맞은 강경화…우한 코로나 탓?   \n",
       "18                  정부, 신천지가 제공 안한 '교육생 명단'도 요청   \n",
       "19                이춘석 \"경선 결과 깨끗이 승복…당 후보 지지해달라\"   \n",
       "\n",
       "                                                 link  \\\n",
       "0   https://news.naver.com/main/read.nhn?mode=LSD&...   \n",
       "1   https://news.naver.com/main/read.nhn?mode=LSD&...   \n",
       "2   https://news.naver.com/main/read.nhn?mode=LSD&...   \n",
       "3   https://news.naver.com/main/read.nhn?mode=LSD&...   \n",
       "4   https://news.naver.com/main/read.nhn?mode=LSD&...   \n",
       "5   https://news.naver.com/main/read.nhn?mode=LSD&...   \n",
       "6   https://news.naver.com/main/read.nhn?mode=LSD&...   \n",
       "7   https://news.naver.com/main/read.nhn?mode=LSD&...   \n",
       "8   https://news.naver.com/main/read.nhn?mode=LSD&...   \n",
       "9   https://news.naver.com/main/read.nhn?mode=LSD&...   \n",
       "10  https://news.naver.com/main/read.nhn?mode=LSD&...   \n",
       "11  https://news.naver.com/main/read.nhn?mode=LSD&...   \n",
       "12  https://news.naver.com/main/read.nhn?mode=LSD&...   \n",
       "13  https://news.naver.com/main/read.nhn?mode=LSD&...   \n",
       "14  https://news.naver.com/main/read.nhn?mode=LSD&...   \n",
       "15  https://news.naver.com/main/read.nhn?mode=LSD&...   \n",
       "16  https://news.naver.com/main/read.nhn?mode=LSD&...   \n",
       "17  https://news.naver.com/main/read.nhn?mode=LSD&...   \n",
       "18  https://news.naver.com/main/read.nhn?mode=LSD&...   \n",
       "19  https://news.naver.com/main/read.nhn?mode=LSD&...   \n",
       "\n",
       "                                              content  category  \n",
       "0   [파이낸셜뉴스]   fnkhy@fnnews.com 김호연 기자   ▶ 헉! 소리나는...       100  \n",
       "1   코로나19 확진자가 급증하고 있는 대구를 방문한 미래통합당 황교안 대표는, \"보고 ...       100  \n",
       "2   [서울=뉴시스]배훈식 기자 = 문재인 대통령이 27일 청와대 영빈관에서 열린 국토교...       100  \n",
       "3   북한 노동당 기관지 노동신문은 20일 사진 보도에서 신종 코로나바이러스 감염증(코로...       100  \n",
       "4   자재·노무단가 가격변동 미반영재산정시 지상층·지하층 건축비 각각 1만원·13만9천원...       100  \n",
       "5   감사원, 건축비 중심 분양가 상한제 감사 결과 발표13개 지구 건축비 지하 799억...       100  \n",
       "6   \"대부분 의료 취약계층…만전 기하라\"[서울=뉴시스]정세균 국무총리가 27일 경북 청...       100  \n",
       "7   정문호 더불어민주당 함평군수 예비후보 /사진=뉴스1정문호 더불어민주당 함평군수 예비...       100  \n",
       "8   첫 회의 열고 위원장과 간사 등 선임향후 위원회 활동 방향 등도 결정[이데일리 신민...       100  \n",
       "9   코로나19 극복을 위한 초당적 협력 강조... \"예비비 3조4000억 원 신속 집행...       100  \n",
       "10  윤소하 정의당 원내대표가 지난 18일 오전 서울 여의도 국회에서 열린 의원총회에서 ...       100  \n",
       "11  한미연합군사훈련, 코로나19 확산으로 연기 / 사진=연합뉴스한미 군 당국이 오늘(2...       100  \n",
       "12  질의하는 야당 의원·답변하는 장관 모두 흥분 상태김진표 \"31번 확진자 이후 국내 ...       100  \n",
       "13  정세균 국무총리가 27일 경북 청도군청 지역재난안전대책본부에서 코로나19 대응상황을...       100  \n",
       "14  청도서 대남병원 감염 문제 점검…영남대서 中유학생 관리 당부정세균 국무총리(오른쪽)...       100  \n",
       "15  북한 당국이 코로나 19 바이러스를 차단하기 위해 명확한 진단과 치료 방법이 개발될...       100  \n",
       "16  호남을 기반으로 한 바른미래당·대안신당·평화당이 모여 새롭게 창당한 민생당이 오늘(...       100  \n",
       "17  예정됐던 한·영 외교장관회담 英측 요청으로 무산⋯ 英 \"장관 개인 사정\"우한 코로나...       100  \n",
       "18  청도 대남병원 정신질환자 60명 국립정신건강센터로, 경로당·복지관 일시 휴관김강립 ...       100  \n",
       "19  이춘석 더불어민주당 의원이 경선 탈락 후 경과에 승복한다는 입장을 밝혔다. 기자회견...       100  "
      ]
     },
     "execution_count": 63,
     "metadata": {},
     "output_type": "execute_result"
    }
   ],
   "source": [
    "get_articles(100, 20200227, 1)"
   ]
  },
  {
   "cell_type": "code",
   "execution_count": 71,
   "metadata": {},
   "outputs": [],
   "source": [
    "categories = {\n",
    "    100: '정치',\n",
    "    101: '경제',\n",
    "    102: '사회',\n",
    "    103: '생활/문화',\n",
    "    104: '세계',\n",
    "    105: 'IT/과학',\n",
    "}"
   ]
  },
  {
   "cell_type": "code",
   "execution_count": 72,
   "metadata": {},
   "outputs": [
    {
     "name": "stdout",
     "output_type": "stream",
     "text": [
      "정치12345\n",
      "경제12345\n",
      "사회12345\n",
      "생활/문화12345\n",
      "세계12345\n",
      "IT/과학12345\n"
     ]
    }
   ],
   "source": [
    "dfs = []\n",
    "for category in categories:\n",
    "    print(categories[category], end=' ')\n",
    "    for page in range(1,6):\n",
    "        print(page, end=' ')\n",
    "        df = get_articles(category, date, page)\n",
    "        dfs.append(df)\n",
    "    print()\n",
    "articles_df = pd.concat(dfs, ignore_index=True)"
   ]
  },
  {
   "cell_type": "code",
   "execution_count": 74,
   "metadata": {},
   "outputs": [],
   "source": [
    "# 크롤링 데이터 csv 저장\n",
    "articles_df.to_csv('article.csv', index=False, encoding='utf-8-sig')"
   ]
  }
 ],
 "metadata": {
  "kernelspec": {
   "display_name": "Python 3",
   "language": "python",
   "name": "python3"
  },
  "language_info": {
   "codemirror_mode": {
    "name": "ipython",
    "version": 3
   },
   "file_extension": ".py",
   "mimetype": "text/x-python",
   "name": "python",
   "nbconvert_exporter": "python",
   "pygments_lexer": "ipython3",
   "version": "3.7.4"
  }
 },
 "nbformat": 4,
 "nbformat_minor": 4
}
