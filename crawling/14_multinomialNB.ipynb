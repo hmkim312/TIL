{
 "cells": [
  {
   "cell_type": "code",
   "execution_count": 3,
   "metadata": {},
   "outputs": [],
   "source": [
    "# 데이터 전처리용 패키지\n",
    "import pandas as pd\n",
    "import numpy as np\n",
    "\n",
    "# 패키지 쓰고 저장\n",
    "import pickle\n",
    "\n",
    "# 문장을 숫자형태로 바꿔줌\n",
    "from sklearn.feature_extraction.text import TfidfVectorizer \n",
    "\n",
    "# 훈련과 테스트 셋을 나눠줌\n",
    "from sklearn.model_selection import train_test_split\n",
    "\n",
    "# 여러개의 종속변수의 라벨데이터를 나이즈베이지안을 해줌\n",
    "from sklearn.naive_bayes import MultinomialNB\n",
    "\n",
    "# 문자를 숫자형태로 바꿔서, 가중치를 더한것을 묶어주는것\n",
    "from sklearn.pipeline import Pipeline\n",
    "\n",
    "# 결과데이터의 출력해주는 패키지(맞았다, 틀렸다.를 알려줌)\n",
    "from sklearn.metrics import classification_report"
   ]
  },
  {
   "cell_type": "code",
   "execution_count": 7,
   "metadata": {},
   "outputs": [
    {
     "data": {
      "text/html": [
       "<div>\n",
       "<style scoped>\n",
       "    .dataframe tbody tr th:only-of-type {\n",
       "        vertical-align: middle;\n",
       "    }\n",
       "\n",
       "    .dataframe tbody tr th {\n",
       "        vertical-align: top;\n",
       "    }\n",
       "\n",
       "    .dataframe thead th {\n",
       "        text-align: right;\n",
       "    }\n",
       "</style>\n",
       "<table border=\"1\" class=\"dataframe\">\n",
       "  <thead>\n",
       "    <tr style=\"text-align: right;\">\n",
       "      <th></th>\n",
       "      <th>title</th>\n",
       "      <th>link</th>\n",
       "      <th>content</th>\n",
       "      <th>category</th>\n",
       "    </tr>\n",
       "  </thead>\n",
       "  <tbody>\n",
       "    <tr>\n",
       "      <td>595</td>\n",
       "      <td>\"여객법 개정안 처리 촉구\" 카카오모빌리티 등 7곳 공동성명</td>\n",
       "      <td>https://news.naver.com/main/read.nhn?mode=LSD&amp;...</td>\n",
       "      <td>27일 모빌리티 업체 7곳이 여객자동차운수사업법 개정안 처리를 촉구하는 공동 성명을...</td>\n",
       "      <td>105</td>\n",
       "    </tr>\n",
       "    <tr>\n",
       "      <td>596</td>\n",
       "      <td>택배·배달 노동자 \"코로나19 확산 방지 위한 일관된 대책 필요\"</td>\n",
       "      <td>https://news.naver.com/main/read.nhn?mode=LSD&amp;...</td>\n",
       "      <td>배송노동 안전지침 마련·비대면 배송 확대·자가격리 지원 요구(지디넷코리아=권상희  ...</td>\n",
       "      <td>105</td>\n",
       "    </tr>\n",
       "    <tr>\n",
       "      <td>597</td>\n",
       "      <td>카카오게임즈 라이프엠엠오, 75억 규모 투자 유치</td>\n",
       "      <td>https://news.naver.com/main/read.nhn?mode=LSD&amp;...</td>\n",
       "      <td>카카오게임즈(각자 대표 남궁훈·조계현)는 자회사 라이프엠엠오(Life MMO)가 7...</td>\n",
       "      <td>105</td>\n",
       "    </tr>\n",
       "    <tr>\n",
       "      <td>598</td>\n",
       "      <td>[이슈] RPG로 돌아온 원조 AOS '카오스 모바일' 정식 출시</td>\n",
       "      <td>https://news.naver.com/main/read.nhn?mode=LSD&amp;...</td>\n",
       "      <td>AOS 장르의 원조라 할 수 있는 카오스 온라인을 활용한 모바일게임이 드디어 출시됐...</td>\n",
       "      <td>105</td>\n",
       "    </tr>\n",
       "    <tr>\n",
       "      <td>599</td>\n",
       "      <td>카카오게임즈 프린세스커넥트, 새 캐릭터 시즈루 업데이트</td>\n",
       "      <td>https://news.naver.com/main/read.nhn?mode=LSD&amp;...</td>\n",
       "      <td>(지디넷코리아=이도원  기자)카카오게임즈(각자 대표 남궁훈, 조계현)는 27일(목)...</td>\n",
       "      <td>105</td>\n",
       "    </tr>\n",
       "  </tbody>\n",
       "</table>\n",
       "</div>"
      ],
      "text/plain": [
       "                                    title  \\\n",
       "595     \"여객법 개정안 처리 촉구\" 카카오모빌리티 등 7곳 공동성명   \n",
       "596  택배·배달 노동자 \"코로나19 확산 방지 위한 일관된 대책 필요\"   \n",
       "597           카카오게임즈 라이프엠엠오, 75억 규모 투자 유치   \n",
       "598  [이슈] RPG로 돌아온 원조 AOS '카오스 모바일' 정식 출시   \n",
       "599        카카오게임즈 프린세스커넥트, 새 캐릭터 시즈루 업데이트   \n",
       "\n",
       "                                                  link  \\\n",
       "595  https://news.naver.com/main/read.nhn?mode=LSD&...   \n",
       "596  https://news.naver.com/main/read.nhn?mode=LSD&...   \n",
       "597  https://news.naver.com/main/read.nhn?mode=LSD&...   \n",
       "598  https://news.naver.com/main/read.nhn?mode=LSD&...   \n",
       "599  https://news.naver.com/main/read.nhn?mode=LSD&...   \n",
       "\n",
       "                                               content  category  \n",
       "595  27일 모빌리티 업체 7곳이 여객자동차운수사업법 개정안 처리를 촉구하는 공동 성명을...       105  \n",
       "596  배송노동 안전지침 마련·비대면 배송 확대·자가격리 지원 요구(지디넷코리아=권상희  ...       105  \n",
       "597  카카오게임즈(각자 대표 남궁훈·조계현)는 자회사 라이프엠엠오(Life MMO)가 7...       105  \n",
       "598  AOS 장르의 원조라 할 수 있는 카오스 온라인을 활용한 모바일게임이 드디어 출시됐...       105  \n",
       "599  (지디넷코리아=이도원  기자)카카오게임즈(각자 대표 남궁훈, 조계현)는 27일(목)...       105  "
      ]
     },
     "execution_count": 7,
     "metadata": {},
     "output_type": "execute_result"
    }
   ],
   "source": [
    "# 데이터 로드\n",
    "article_df = pd.read_csv('datas/article.csv')\n",
    "article_df.tail()"
   ]
  },
  {
   "cell_type": "code",
   "execution_count": 10,
   "metadata": {},
   "outputs": [
    {
     "data": {
      "text/plain": [
       "(540, 60, 540, 60)"
      ]
     },
     "execution_count": 10,
     "metadata": {},
     "output_type": "execute_result"
    }
   ],
   "source": [
    "# 데이터 전처리 : 데이터셋 분리\n",
    "X_train, X_test, y_train, y_test = train_test_split(\n",
    "article_df.content,  article_df.category, test_size=0.1, random_state=1)\n",
    "len(X_train), len(X_test), len(y_train), len(y_test)"
   ]
  },
  {
   "cell_type": "code",
   "execution_count": 14,
   "metadata": {},
   "outputs": [],
   "source": [
    "# 모델 만글기\n",
    "clf = Pipeline([\n",
    "    # 텍스트 분석에서 거의 사용, \n",
    "    # 많이 나온 컬럼데이터단어는 가중치를 낮춰서 분류를 해줌\n",
    "    # 반대로 적게 나온 데이터단어는 가중치를 높임\n",
    "    ('vect', TfidfVectorizer()),\n",
    "    \n",
    "    ('clf', MultinomialNB(alpha=0.1)),\n",
    "])"
   ]
  },
  {
   "cell_type": "code",
   "execution_count": 13,
   "metadata": {},
   "outputs": [],
   "source": [
    "# 학습\n",
    "model = clf.fit(X_train.values.astype('str'), y_train)"
   ]
  },
  {
   "cell_type": "code",
   "execution_count": 19,
   "metadata": {},
   "outputs": [
    {
     "name": "stdout",
     "output_type": "stream",
     "text": [
      "              precision    recall  f1-score   support\n",
      "\n",
      "         100       0.56      1.00      0.71        10\n",
      "         101       0.62      0.62      0.62         8\n",
      "         102       0.56      0.50      0.53        10\n",
      "         103       0.57      0.57      0.57         7\n",
      "         104       1.00      0.69      0.81        16\n",
      "         105       0.86      0.67      0.75         9\n",
      "\n",
      "    accuracy                           0.68        60\n",
      "   macro avg       0.69      0.68      0.67        60\n",
      "weighted avg       0.73      0.68      0.69        60\n",
      "\n"
     ]
    }
   ],
   "source": [
    "# 모델 성능 확인\n",
    "# weighted avg : 0.73임, 데이터가 많아지면 조금 덜 할듯\n",
    "y_pred = model.predict(X_test)\n",
    "list(y_test[:5]), list(y_pred[:5])\n",
    "print(classification_report(y_test, y_pred))"
   ]
  },
  {
   "cell_type": "code",
   "execution_count": 21,
   "metadata": {},
   "outputs": [],
   "source": [
    "# 모델 사용하기\n",
    "cateories = {\n",
    "    100:'정치',\n",
    "    101:'경제',\n",
    "    102:'사회',\n",
    "    103:'생활/문화',\n",
    "    104:'세계',\n",
    "    105:'IT/과학'\n",
    "}"
   ]
  },
  {
   "cell_type": "code",
   "execution_count": 22,
   "metadata": {},
   "outputs": [
    {
     "data": {
      "text/html": [
       "<div>\n",
       "<style scoped>\n",
       "    .dataframe tbody tr th:only-of-type {\n",
       "        vertical-align: middle;\n",
       "    }\n",
       "\n",
       "    .dataframe tbody tr th {\n",
       "        vertical-align: top;\n",
       "    }\n",
       "\n",
       "    .dataframe thead th {\n",
       "        text-align: right;\n",
       "    }\n",
       "</style>\n",
       "<table border=\"1\" class=\"dataframe\">\n",
       "  <thead>\n",
       "    <tr style=\"text-align: right;\">\n",
       "      <th></th>\n",
       "      <th>content</th>\n",
       "      <th>cateory_code</th>\n",
       "    </tr>\n",
       "  </thead>\n",
       "  <tbody>\n",
       "    <tr>\n",
       "      <td>0</td>\n",
       "      <td>코로나 확산 방지에 기여</td>\n",
       "      <td>103</td>\n",
       "    </tr>\n",
       "    <tr>\n",
       "      <td>1</td>\n",
       "      <td>비트코인 시세 급등</td>\n",
       "      <td>103</td>\n",
       "    </tr>\n",
       "    <tr>\n",
       "      <td>2</td>\n",
       "      <td>민주당 격렬히 저항</td>\n",
       "      <td>100</td>\n",
       "    </tr>\n",
       "  </tbody>\n",
       "</table>\n",
       "</div>"
      ],
      "text/plain": [
       "         content  cateory_code\n",
       "0  코로나 확산 방지에 기여           103\n",
       "1     비트코인 시세 급등           103\n",
       "2     민주당 격렬히 저항           100"
      ]
     },
     "execution_count": 22,
     "metadata": {},
     "output_type": "execute_result"
    }
   ],
   "source": [
    "contents = [\n",
    "    \"코로나 확산 방지에 기여\",\n",
    "    '비트코인 시세 급등',\n",
    "    '민주당 격렬히 저항',\n",
    "]\n",
    "\n",
    "datas ={\n",
    "    'content':contents,\n",
    "    'cateory_code':model.predict(contents),\n",
    "}\n",
    "df = pd.DataFrame(datas)\n",
    "df"
   ]
  },
  {
   "cell_type": "code",
   "execution_count": 62,
   "metadata": {},
   "outputs": [
    {
     "name": "stdout",
     "output_type": "stream",
     "text": [
      "정치\n"
     ]
    },
    {
     "data": {
      "text/plain": [
       "0    생활/문화\n",
       "1    생활/문화\n",
       "2       정치\n",
       "Name: cateory_code, dtype: object"
      ]
     },
     "execution_count": 62,
     "metadata": {},
     "output_type": "execute_result"
    }
   ],
   "source": [
    "# 람다 함수 설명\n",
    "# df['cateory_code']에서 받아오는것을 data 변수로 받고, 이것을 cateories[data]로 변환하는것\n",
    "# cateories는 딕셔너리이기때문에, cateories[100]을 하면 정치가 나오게 됨.\n",
    "# 결론은 apply 함수를 통해 모든 df['cateory_code']를 data로 받고 cateories[data]변환하는것.\n",
    "print(cateories[100])\n",
    "df['cateory_code'].apply(lambda data : cateories[data])"
   ]
  },
  {
   "cell_type": "code",
   "execution_count": 63,
   "metadata": {},
   "outputs": [
    {
     "name": "stdout",
     "output_type": "stream",
     "text": [
      "[[0.16793953 0.0865898  0.16104912 0.31743484 0.0694581  0.19752861]]\n",
      "0.317\n"
     ]
    }
   ],
   "source": [
    "# proba 설명\n",
    "# predic안에 proba라는 확률을 나타내는 함수가있고, 리스트로 넣어줘야함\n",
    "# contents[0]의 단어가 100번 나올확률 0.16, 101번 나올확률 0.086 등.. 해서 마지막에 다 더한 확률이 0.19암\n",
    "print(model.predict_proba([contents[0]]))\n",
    "# 위의 내용에서 0번째 배열에서 max값을 가져오면 확률이 제일 높은애를 가져옴\n",
    "# 너무길어서 소수점 3자리까지만 보겠음\n",
    "print(round(max(model.predict_proba([contents[0]])[0]),3))"
   ]
  },
  {
   "cell_type": "code",
   "execution_count": 64,
   "metadata": {},
   "outputs": [
    {
     "data": {
      "text/html": [
       "<div>\n",
       "<style scoped>\n",
       "    .dataframe tbody tr th:only-of-type {\n",
       "        vertical-align: middle;\n",
       "    }\n",
       "\n",
       "    .dataframe tbody tr th {\n",
       "        vertical-align: top;\n",
       "    }\n",
       "\n",
       "    .dataframe thead th {\n",
       "        text-align: right;\n",
       "    }\n",
       "</style>\n",
       "<table border=\"1\" class=\"dataframe\">\n",
       "  <thead>\n",
       "    <tr style=\"text-align: right;\">\n",
       "      <th></th>\n",
       "      <th>content</th>\n",
       "      <th>cateory_code</th>\n",
       "      <th>category</th>\n",
       "      <th>proba</th>\n",
       "    </tr>\n",
       "  </thead>\n",
       "  <tbody>\n",
       "    <tr>\n",
       "      <td>0</td>\n",
       "      <td>코로나 확산 방지에 기여</td>\n",
       "      <td>103</td>\n",
       "      <td>생활/문화</td>\n",
       "      <td>0.317</td>\n",
       "    </tr>\n",
       "    <tr>\n",
       "      <td>1</td>\n",
       "      <td>비트코인 시세 급등</td>\n",
       "      <td>103</td>\n",
       "      <td>생활/문화</td>\n",
       "      <td>0.215</td>\n",
       "    </tr>\n",
       "    <tr>\n",
       "      <td>2</td>\n",
       "      <td>민주당 격렬히 저항</td>\n",
       "      <td>100</td>\n",
       "      <td>정치</td>\n",
       "      <td>0.408</td>\n",
       "    </tr>\n",
       "  </tbody>\n",
       "</table>\n",
       "</div>"
      ],
      "text/plain": [
       "         content  cateory_code category  proba\n",
       "0  코로나 확산 방지에 기여           103    생활/문화  0.317\n",
       "1     비트코인 시세 급등           103    생활/문화  0.215\n",
       "2     민주당 격렬히 저항           100       정치  0.408"
      ]
     },
     "execution_count": 64,
     "metadata": {},
     "output_type": "execute_result"
    }
   ],
   "source": [
    "# 람다 함수 설명\n",
    "# df['cateory_code']에서 받아오는것을 data 변수로 받고, 이것을 cateories[data]로 변환하는것\n",
    "# cateories는 딕셔너리이기때문에, cateories[100]을 하면 정치가 나오게 됨.\n",
    "# 결론은 apply 함수를 통해 모든 df['cateory_code']를 data로 받고 cateories[data]변환하는것.\n",
    "# 이것을 df['category']의 새로운 컬럼으로 저장\n",
    "df['category'] = df['cateory_code'].apply(lambda data : cateories[data])\n",
    "\n",
    "# proba 설명\n",
    "# predic안에 proba라는 확률을 나타내는 함수가있고, 리스트로 넣어줘야함\n",
    "# data의 단어가 100번 나올확률이 있음\n",
    "# 위의 내용에서 0번째 배열에서 max값을 가져오면 확률이 제일 높은애를 가져옴\n",
    "# 너무길어서 소수점 3자리까지만 보겠음\n",
    "df['proba'] = df['content'].apply(lambda data : round(max(model.predict_proba([data])[0]),3))\n",
    "df"
   ]
  },
  {
   "cell_type": "code",
   "execution_count": 66,
   "metadata": {},
   "outputs": [],
   "source": [
    "# 모델 저장\n",
    "pickle.dump(model, open('clf.pkl','wb'))"
   ]
  },
  {
   "cell_type": "code",
   "execution_count": null,
   "metadata": {},
   "outputs": [],
   "source": []
  }
 ],
 "metadata": {
  "kernelspec": {
   "display_name": "Python 3",
   "language": "python",
   "name": "python3"
  },
  "language_info": {
   "codemirror_mode": {
    "name": "ipython",
    "version": 3
   },
   "file_extension": ".py",
   "mimetype": "text/x-python",
   "name": "python",
   "nbconvert_exporter": "python",
   "pygments_lexer": "ipython3",
   "version": "3.7.4"
  }
 },
 "nbformat": 4,
 "nbformat_minor": 4
}
