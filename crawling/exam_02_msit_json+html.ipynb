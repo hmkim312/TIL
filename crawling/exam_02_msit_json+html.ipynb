{
 "cells": [
  {
   "cell_type": "markdown",
   "metadata": {},
   "source": [
    "#### msit : 과학기술 정보통신부\n",
    "- https://msit.go.kr\n",
    "- 보도자료를 크롤링\n",
    "- json으로 데이터 수집\n",
    "- json 데이터 안에 html코드가 들어있음."
   ]
  },
  {
   "cell_type": "code",
   "execution_count": 2,
   "metadata": {},
   "outputs": [],
   "source": [
    "import requests\n",
    "import pandas as pd\n",
    "from bs4 import BeautifulSoup"
   ]
  },
  {
   "cell_type": "code",
   "execution_count": 6,
   "metadata": {},
   "outputs": [],
   "source": [
    "# 코드가 복잡하면 urldecode로 변경\n",
    "page = 1\n",
    "url = f'https://www.msit.go.kr/dynamic/article/_policycom2?\\\n",
    "sort=operday=desc&below=false&&pageout=true&aradon.result.format=json\\\n",
    "&aradon.page.pageNo={page}&aradon.page.listNum=10&aradon.page.screenCount=5\\\n",
    "&aradon.referrer.href=https://msit.go.kr/web/msipContents/contents.do?mId=MTAyNA='"
   ]
  },
  {
   "cell_type": "code",
   "execution_count": 9,
   "metadata": {},
   "outputs": [
    {
     "data": {
      "text/plain": [
       "<Response [200]>"
      ]
     },
     "execution_count": 9,
     "metadata": {},
     "output_type": "execute_result"
    }
   ],
   "source": [
    "respose = requests.get(url)\n",
    "respose"
   ]
  },
  {
   "cell_type": "code",
   "execution_count": 18,
   "metadata": {},
   "outputs": [
    {
     "data": {
      "text/html": [
       "<div>\n",
       "<style scoped>\n",
       "    .dataframe tbody tr th:only-of-type {\n",
       "        vertical-align: middle;\n",
       "    }\n",
       "\n",
       "    .dataframe tbody tr th {\n",
       "        vertical-align: top;\n",
       "    }\n",
       "\n",
       "    .dataframe thead th {\n",
       "        text-align: right;\n",
       "    }\n",
       "</style>\n",
       "<table border=\"1\" class=\"dataframe\">\n",
       "  <thead>\n",
       "    <tr style=\"text-align: right;\">\n",
       "      <th></th>\n",
       "      <th>action</th>\n",
       "      <th>admin_p</th>\n",
       "      <th>artid</th>\n",
       "      <th>artsubject</th>\n",
       "      <th>artcont</th>\n",
       "    </tr>\n",
       "  </thead>\n",
       "  <tbody>\n",
       "    <tr>\n",
       "      <td>0</td>\n",
       "      <td>MOD</td>\n",
       "      <td>과학기술정책과</td>\n",
       "      <td>2649255</td>\n",
       "      <td>최기영 과기정통부 장관, 한국과학기술기획평가원(KISTEP) 신사옥 개청식 참석</td>\n",
       "      <td>&lt;p&gt;&lt;font size=\"3\"&gt;&amp;nbsp;&lt;/font&gt;&lt;/p&gt;\\r\\n&lt;p alig...</td>\n",
       "    </tr>\n",
       "    <tr>\n",
       "      <td>1</td>\n",
       "      <td>MOD</td>\n",
       "      <td>디지털포용정책팀</td>\n",
       "      <td>2649254</td>\n",
       "      <td>장석영 제2차관, 사회적 기업 현장방문</td>\n",
       "      <td>&lt;p align=\"center\" style=\"margin: 0px; text-ali...</td>\n",
       "    </tr>\n",
       "    <tr>\n",
       "      <td>2</td>\n",
       "      <td>MOD</td>\n",
       "      <td>중이온가속기팀</td>\n",
       "      <td>2649253</td>\n",
       "      <td>정병선 제1차관, 중이온가속기 건설현장에서의 코로나19 대응태세 점검</td>\n",
       "      <td>&lt;p&gt;&lt;font size=\"3\"&gt;&amp;nbsp;&lt;/font&gt;&lt;/p&gt;\\r\\n&lt;p alig...</td>\n",
       "    </tr>\n",
       "    <tr>\n",
       "      <td>3</td>\n",
       "      <td>MOD</td>\n",
       "      <td>혁신네트워크팀</td>\n",
       "      <td>2649252</td>\n",
       "      <td>2019년 사물인터넷 산업 실태조사 결과 발표</td>\n",
       "      <td>&lt;p&gt;&lt;font size=\"3\"&gt;&lt;/font&gt;&lt;/p&gt;\\r\\n&lt;p align=\"cen...</td>\n",
       "    </tr>\n",
       "    <tr>\n",
       "      <td>4</td>\n",
       "      <td>MOD</td>\n",
       "      <td>지역과학기술진흥과</td>\n",
       "      <td>2642879</td>\n",
       "      <td>연구소기업 설립 900호 돌파</td>\n",
       "      <td>&lt;p align=\"center\" style=\"margin: 0px; text-ali...</td>\n",
       "    </tr>\n",
       "    <tr>\n",
       "      <td>5</td>\n",
       "      <td>MOD</td>\n",
       "      <td>국립중앙과학관 과학교육과</td>\n",
       "      <td>2642302</td>\n",
       "      <td>국립중앙과학관, 2020년 상반기 성인 대상 교육과정 운영</td>\n",
       "      <td>&lt;p align=\"center\" style=\"margin: 0px; text-ali...</td>\n",
       "    </tr>\n",
       "    <tr>\n",
       "      <td>6</td>\n",
       "      <td>INS</td>\n",
       "      <td>연구성과일자리정책과</td>\n",
       "      <td>2642301</td>\n",
       "      <td>창업기술 시장성 검증을 통해 실험실창업 성공률 높인다</td>\n",
       "      <td>&lt;p align=\"center\" style=\"margin: 0px; text-ali...</td>\n",
       "    </tr>\n",
       "    <tr>\n",
       "      <td>7</td>\n",
       "      <td>MOD</td>\n",
       "      <td>연구예산총괄과</td>\n",
       "      <td>2641722</td>\n",
       "      <td>2021년도 정부연구개발 투자방향 및 기준(안) 온라인 공청회 개최</td>\n",
       "      <td>&lt;p align=\"center\" style=\"margin: 0px; text-ali...</td>\n",
       "    </tr>\n",
       "    <tr>\n",
       "      <td>8</td>\n",
       "      <td>INS</td>\n",
       "      <td>소프트웨어정책과</td>\n",
       "      <td>2638222</td>\n",
       "      <td>소프트웨어 인재양성의 요람, 이노베이션아카데미 1기 교육 시작</td>\n",
       "      <td>&lt;p&gt;&amp;nbsp;&lt;/p&gt;\\r\\n&lt;p align=\"center\" style=\"marg...</td>\n",
       "    </tr>\n",
       "    <tr>\n",
       "      <td>9</td>\n",
       "      <td>INS</td>\n",
       "      <td>운영지원과</td>\n",
       "      <td>2632204</td>\n",
       "      <td>고위공무원 임용(국립과천과학관장)</td>\n",
       "      <td>&lt;div style=\"margin: 0cm 0cm 0pt; text-align: c...</td>\n",
       "    </tr>\n",
       "  </tbody>\n",
       "</table>\n",
       "</div>"
      ],
      "text/plain": [
       "  action        admin_p    artid  \\\n",
       "0    MOD        과학기술정책과  2649255   \n",
       "1    MOD       디지털포용정책팀  2649254   \n",
       "2    MOD        중이온가속기팀  2649253   \n",
       "3    MOD        혁신네트워크팀  2649252   \n",
       "4    MOD      지역과학기술진흥과  2642879   \n",
       "5    MOD  국립중앙과학관 과학교육과  2642302   \n",
       "6    INS     연구성과일자리정책과  2642301   \n",
       "7    MOD        연구예산총괄과  2641722   \n",
       "8    INS       소프트웨어정책과  2638222   \n",
       "9    INS          운영지원과  2632204   \n",
       "\n",
       "                                     artsubject  \\\n",
       "0  최기영 과기정통부 장관, 한국과학기술기획평가원(KISTEP) 신사옥 개청식 참석   \n",
       "1                         장석영 제2차관, 사회적 기업 현장방문   \n",
       "2        정병선 제1차관, 중이온가속기 건설현장에서의 코로나19 대응태세 점검   \n",
       "3                     2019년 사물인터넷 산업 실태조사 결과 발표   \n",
       "4                              연구소기업 설립 900호 돌파   \n",
       "5              국립중앙과학관, 2020년 상반기 성인 대상 교육과정 운영   \n",
       "6                 창업기술 시장성 검증을 통해 실험실창업 성공률 높인다   \n",
       "7         2021년도 정부연구개발 투자방향 및 기준(안) 온라인 공청회 개최   \n",
       "8            소프트웨어 인재양성의 요람, 이노베이션아카데미 1기 교육 시작   \n",
       "9                            고위공무원 임용(국립과천과학관장)   \n",
       "\n",
       "                                             artcont  \n",
       "0  <p><font size=\"3\">&nbsp;</font></p>\\r\\n<p alig...  \n",
       "1  <p align=\"center\" style=\"margin: 0px; text-ali...  \n",
       "2  <p><font size=\"3\">&nbsp;</font></p>\\r\\n<p alig...  \n",
       "3  <p><font size=\"3\"></font></p>\\r\\n<p align=\"cen...  \n",
       "4  <p align=\"center\" style=\"margin: 0px; text-ali...  \n",
       "5  <p align=\"center\" style=\"margin: 0px; text-ali...  \n",
       "6  <p align=\"center\" style=\"margin: 0px; text-ali...  \n",
       "7  <p align=\"center\" style=\"margin: 0px; text-ali...  \n",
       "8  <p>&nbsp;</p>\\r\\n<p align=\"center\" style=\"marg...  \n",
       "9  <div style=\"margin: 0cm 0cm 0pt; text-align: c...  "
      ]
     },
     "execution_count": 18,
     "metadata": {},
     "output_type": "execute_result"
    }
   ],
   "source": [
    "datas = respose.json()['result']['nodes']\n",
    "columns = ['action', 'admin_p', 'artid', 'artsubject', 'artcont']\n",
    "msit_df = pd.DataFrame(datas)[columns]\n",
    "msit_df"
   ]
  },
  {
   "cell_type": "code",
   "execution_count": 19,
   "metadata": {
    "collapsed": true,
    "jupyter": {
     "outputs_hidden": true
    }
   },
   "outputs": [
    {
     "data": {
      "text/plain": [
       "'<p><font size=\"3\">&nbsp;</font></p>\\r\\n<p align=\"center\" style=\"margin: 0cm 0cm 0pt; text-align: center; line-height: 150%; -ms-word-break: keep-all;\"><span style=\"line-height: 150%; font-family: &quot;맑은 고딕&quot;; font-size: 22pt; mso-ascii-theme-font: minor-latin; mso-fareast-theme-font: minor-latin; mso-hansi-theme-font: minor-latin; mso-bidi-font-size: 21.0pt;\">최기영 과기정통부 장관<span lang=\"EN-US\">, </span>한국과학기술기획평가원<span lang=\"EN-US\">(KISTEP) </span>신사옥 개청식 참석</span></p>\\r\\n<p><font size=\"3\"></font></p>\\r\\n<p style=\"margin: 0cm 0cm 0pt; line-height: 115%; -ms-word-break: keep-all;\"><span lang=\"EN-US\" style=\"mso-ascii-theme-font: minor-latin; mso-fareast-theme-font: minor-latin; mso-hansi-theme-font: minor-latin; mso-ascii-font-family: &quot;맑은 고딕&quot;; mso-fareast-font-family: &quot;맑은 고딕&quot;; mso-hansi-font-family: &quot;맑은 고딕&quot;;\"><font face=\"맑은 고딕\" size=\"3\">&nbsp;</font></span></p>\\r\\n<p><font size=\"3\"></font></p>\\r\\n<p style=\"margin: 0cm 0cm 0pt; line-height: 115%; -ms-word-break: keep-all;\"><span style=\"line-height: 115%; font-family: &quot;맑은 고딕&quot;; font-size: 12pt; mso-ascii-theme-font: minor-latin; mso-fareast-theme-font: minor-latin; mso-hansi-theme-font: minor-latin; mso-bidi-font-size: 15.0pt;\">□ 최기영 과학기술정보통신부 장관은 <span lang=\"EN-US\">2</span>월 <span lang=\"EN-US\">26</span>일</span><span lang=\"EN-US\" style=\"line-height: 115%; font-family: &quot;맑은 고딕&quot;; font-size: 11pt; mso-ascii-theme-font: minor-latin; mso-fareast-theme-font: minor-latin; mso-hansi-theme-font: minor-latin; mso-bidi-font-size: 13.0pt;\">(</span><span style=\"line-height: 115%; font-family: &quot;맑은 고딕&quot;; font-size: 11pt; mso-ascii-theme-font: minor-latin; mso-fareast-theme-font: minor-latin; mso-hansi-theme-font: minor-latin; mso-bidi-font-size: 13.0pt;\">수<span lang=\"EN-US\">)</span></span><span lang=\"EN-US\" style=\"line-height: 115%; font-family: &quot;맑은 고딕&quot;; font-size: 12pt; mso-ascii-theme-font: minor-latin; mso-fareast-theme-font: minor-latin; mso-hansi-theme-font: minor-latin; mso-bidi-font-size: 15.0pt;\"> </span><span style=\"line-height: 115%; font-family: &quot;맑은 고딕&quot;; font-size: 12pt; mso-ascii-theme-font: minor-latin; mso-fareast-theme-font: minor-latin; mso-hansi-theme-font: minor-latin; mso-bidi-font-size: 15.0pt;\">오전<span lang=\"EN-US\">, </span>한국과학기술기획평가원</span><span lang=\"EN-US\" style=\"line-height: 115%; font-family: &quot;맑은 고딕&quot;; font-size: 11pt; mso-ascii-theme-font: minor-latin; mso-fareast-theme-font: minor-latin; mso-hansi-theme-font: minor-latin; mso-bidi-font-size: 13.0pt;\">(KISTEP)</span><span lang=\"EN-US\" style=\"line-height: 115%; font-family: &quot;맑은 고딕&quot;; font-size: 12pt; mso-ascii-theme-font: minor-latin; mso-fareast-theme-font: minor-latin; mso-hansi-theme-font: minor-latin; mso-bidi-font-size: 15.0pt;\"> </span><span style=\"line-height: 115%; font-family: &quot;맑은 고딕&quot;; font-size: 12pt; mso-ascii-theme-font: minor-latin; mso-fareast-theme-font: minor-latin; mso-hansi-theme-font: minor-latin; mso-bidi-font-size: 15.0pt;\">신사옥 개청식에 참석</span><span style=\"line-height: 115%; font-family: &quot;맑은 고딕&quot;; font-size: 12pt; mso-ascii-theme-font: minor-latin; mso-fareast-theme-font: minor-latin; mso-hansi-theme-font: minor-latin; mso-bidi-font-size: 15.0pt;\">하여 <span lang=\"EN-US\">KISTEP </span>임직원을 격려하였다<span lang=\"EN-US\">.</span></span></p>\\r\\n<p><font size=\"3\"></font></p>\\r\\n<p style=\"margin: 0cm 0cm 0pt; line-height: 115%; -ms-word-break: keep-all;\"><span lang=\"EN-US\" style=\"line-height: 115%; font-family: &quot;맑은 고딕&quot;; font-size: 8pt; mso-ascii-theme-font: minor-latin; mso-fareast-theme-font: minor-latin; mso-hansi-theme-font: minor-latin; mso-bidi-font-size: 10.0pt;\">&nbsp;</span></p>\\r\\n<p><font size=\"3\"></font></p>\\r\\n<p style=\"margin: 0cm 0cm 0pt; line-height: 115%; -ms-word-break: keep-all;\"><span style=\"line-height: 115%; font-family: &quot;맑은 고딕&quot;; font-size: 12pt; mso-ascii-theme-font: minor-latin; mso-fareast-theme-font: minor-latin; mso-hansi-theme-font: minor-latin; mso-bidi-font-size: 15.0pt;\">ㅇ <span lang=\"EN-US\">KISTEP</span>은 <span lang=\"EN-US\">1999</span>년에 설립된\\r\\n과학기술분야 정책지원기관으로<span lang=\"EN-US\">, </span>국가과학기술 정책수립</span><span style=\"line-height: 115%; font-family: &quot;MS Gothic&quot;; font-size: 12pt; mso-bidi-font-size: 15.0pt; mso-bidi-font-family: &quot;MS Gothic&quot;;\">‧</span><span style=\"line-height: 115%; font-family: &quot;맑은 고딕&quot;; font-size: 12pt; mso-ascii-theme-font: minor-latin; mso-fareast-theme-font: minor-latin; mso-hansi-theme-font: minor-latin; mso-bidi-font-size: 15.0pt;\">조정 지원<span lang=\"EN-US\">, </span>국가연구개발예산의 배분</span><span style=\"line-height: 115%; font-family: &quot;MS Gothic&quot;; font-size: 12pt; mso-bidi-font-size: 15.0pt; mso-bidi-font-family: &quot;MS Gothic&quot;;\">‧</span><span style=\"line-height: 115%; font-family: &quot;맑은 고딕&quot;; font-size: 12pt; mso-ascii-theme-font: minor-latin; mso-fareast-theme-font: minor-latin; mso-hansi-theme-font: minor-latin; mso-bidi-font-size: 15.0pt;\">조정 지원<span lang=\"EN-US\">, </span>국가연구개발 통계수집</span><span style=\"line-height: 115%; font-family: &quot;MS Gothic&quot;; font-size: 12pt; mso-bidi-font-size: 15.0pt; mso-bidi-font-family: &quot;MS Gothic&quot;;\">‧</span><span style=\"line-height: 115%; font-family: &quot;맑은 고딕&quot;; font-size: 12pt; mso-ascii-theme-font: minor-latin; mso-fareast-theme-font: minor-latin; mso-hansi-theme-font: minor-latin; mso-bidi-font-size: 15.0pt;\">분석<span lang=\"EN-US\">, </span>국가연구개발사업 예비타당성조사</span><span style=\"line-height: 115%; font-family: &quot;맑은 고딕&quot;; font-size: 12pt; mso-ascii-theme-font: minor-latin; mso-fareast-theme-font: minor-latin; mso-hansi-theme-font: minor-latin; mso-bidi-font-size: 15.0pt;\"> 등의 역할을 수행한다<span lang=\"EN-US\">.</span></span></p>\\r\\n<p><font size=\"3\"></font></p>\\r\\n<p style=\"margin: 0cm 0cm 0pt; line-height: 115%; -ms-word-break: keep-all;\"><span lang=\"EN-US\" style=\"line-height: 115%; font-family: &quot;맑은 고딕&quot;; font-size: 12pt; mso-ascii-theme-font: minor-latin; mso-fareast-theme-font: minor-latin; mso-hansi-theme-font: minor-latin; mso-bidi-font-size: 15.0pt;\">&nbsp;</span></p>\\r\\n<p><font size=\"3\"></font></p>\\r\\n<p style=\"margin: 0cm 0cm 0pt; line-height: 115%; -ms-word-break: keep-all;\"><span style=\"line-height: 115%; font-family: &quot;맑은 고딕&quot;; font-size: 12pt; mso-ascii-theme-font: minor-latin; mso-fareast-theme-font: minor-latin; mso-hansi-theme-font: minor-latin; mso-bidi-font-size: 15.0pt;\">□ 최기영 장관은 <span lang=\"EN-US\">KISTEP</span>의 지방이전 및 신사옥 완공을 축하하며 <span lang=\"EN-US\">&ldquo;</span>대한민국 대표 과학기술 정책지원기관<sup><span lang=\"EN-US\">*</span></sup>인 <span lang=\"EN-US\">KISTEP </span>임직원들이 새로운 환경에 잘 적응하여 정부 <span lang=\"EN-US\">R&amp;D 24</span>조원\\r\\n시대에 걸맞는 전문성<span lang=\"EN-US\">, </span>책임성을 가지고 업무에 임해달라<span lang=\"EN-US\">.</span><span lang=\"EN-US\">&rdquo;</span>라고 당부하고<span lang=\"EN-US\">,</span></span></p>\\r\\n<p><font size=\"3\"></font></p>\\r\\n<p style=\"margin: 0cm 0cm 0pt; line-height: 115%; -ms-word-break: keep-all;\"><span lang=\"EN-US\" style=\"line-height: 115%; font-family: &quot;맑은 고딕&quot;; font-size: 11pt; mso-ascii-theme-font: minor-latin; mso-fareast-theme-font: minor-latin; mso-hansi-theme-font: minor-latin; mso-bidi-font-size: 13.0pt;\">* </span><span style=\"line-height: 115%; font-family: &quot;맑은 고딕&quot;; font-size: 11pt; mso-ascii-theme-font: minor-latin; mso-fareast-theme-font: minor-latin; mso-hansi-theme-font: minor-latin; mso-bidi-font-size: 13.0pt;\">과학기술기본법\\r\\n제<span lang=\"EN-US\">20</span>조에 근거하여 설립</span></p>\\r\\n<p><font size=\"3\"></font></p>\\r\\n<p style=\"margin: 0cm 0cm 0pt; line-height: 115%; -ms-word-break: keep-all;\"><span lang=\"EN-US\" style=\"line-height: 115%; font-family: &quot;맑은 고딕&quot;; font-size: 8pt; mso-ascii-theme-font: minor-latin; mso-fareast-theme-font: minor-latin; mso-hansi-theme-font: minor-latin; mso-bidi-font-size: 10.0pt;\">&nbsp;</span></p>\\r\\n<p><font size=\"3\"></font></p>\\r\\n<p style=\"margin: 0cm 0cm 0pt; line-height: 115%; -ms-word-break: keep-all;\"><span style=\"line-height: 115%; font-family: &quot;맑은 고딕&quot;; font-size: 12pt; mso-ascii-theme-font: minor-latin; mso-fareast-theme-font: minor-latin; mso-hansi-theme-font: minor-latin; mso-bidi-font-size: 15.0pt;\">ㅇ <span lang=\"EN-US\">&ldquo;</span>과학기술정보통신부와 <span lang=\"EN-US\">KISTEP</span>이끊임없이 소통하고 협력하며 국가연구개발 생태계 혁신을 위해 노력하자<span lang=\"EN-US\">.</span><span lang=\"EN-US\">&rdquo;</span>라고 강조하였다<span lang=\"EN-US\">.</span></span></p>\\r\\n<p><font size=\"3\"></font></p>\\r\\n<p style=\"margin: 0cm 0cm 0pt; line-height: 115%; -ms-word-break: keep-all;\"><span lang=\"EN-US\" style=\"mso-ascii-theme-font: minor-latin; mso-fareast-theme-font: minor-latin; mso-hansi-theme-font: minor-latin; mso-ascii-font-family: &quot;맑은 고딕&quot;; mso-fareast-font-family: &quot;맑은 고딕&quot;; mso-hansi-font-family: &quot;맑은 고딕&quot;;\"><font face=\"맑은 고딕\" size=\"3\">&nbsp;</font></span></p>\\r\\n<p>&nbsp;</p>'"
      ]
     },
     "execution_count": 19,
     "metadata": {},
     "output_type": "execute_result"
    }
   ],
   "source": [
    "# artcont가 html코드라서, BeautifulSoup으로, 데이터만 파싱 해야함\n",
    "msit_df['artcont'][0]"
   ]
  },
  {
   "cell_type": "code",
   "execution_count": 25,
   "metadata": {},
   "outputs": [
    {
     "data": {
      "text/plain": [
       "'\\xa0\\n최기영 과기정통부 장관, 한국과학기술기획평가원(KISTEP) 신사옥 개청식 참석\\n\\n\\xa0\\n\\n□ 최기영 과학기술정보통신부 장관은 2월 26일(수) 오전, 한국과학기술기획평가원(KISTEP) 신사옥 개청식에 참석하여 KISTEP 임직원을 격려하였다.\\n\\n\\xa0\\n\\nㅇ KISTEP은 1999년에 설립된\\r\\n과학기술분야 정책지원기관으로, 국가과학기술 정책수립‧조정 지원, 국가연구개발예산의 배분‧조정 지원, 국가연구개발 통계수집‧분석, 국가연구개발사업 예비타당성조사 등의 역할을 수행한다.\\n\\n\\xa0\\n\\n□ 최기영 장관은 KISTEP의 지방이전 및 신사옥 완공을 축하하며 “대한민국 대표 과학기술 정책지원기관*인 KISTEP 임직원들이 새로운 환경에 잘 적응하여 정부 R&D 24조원\\r\\n시대에 걸맞는 전문성, 책임성을 가지고 업무에 임해달라.”라고 당부하고,\\n\\n* 과학기술기본법\\r\\n제20조에 근거하여 설립\\n\\n\\xa0\\n\\nㅇ “과학기술정보통신부와 KISTEP이끊임없이 소통하고 협력하며 국가연구개발 생태계 혁신을 위해 노력하자.”라고 강조하였다.\\n\\n\\xa0\\n\\xa0'"
      ]
     },
     "execution_count": 25,
     "metadata": {},
     "output_type": "execute_result"
    }
   ],
   "source": [
    "html = msit_df['artcont'][0]\n",
    "# html안에있는 모든 텍스트내용을 가져옴 (시작태그, 끝태그가 사라짐)\n",
    "content = BeautifulSoup(html, 'html.parser').text\n",
    "content"
   ]
  },
  {
   "cell_type": "code",
   "execution_count": 31,
   "metadata": {},
   "outputs": [],
   "source": [
    "# 특수문자 제거\n",
    "remove_words = ['\\n', '\\xa0', '\\r', '□','\\nㅇ','ㅇ']\n",
    "# remove_words를 remove_word에 넣고, remove_word를 content에서 \n",
    "# replace로 \"\"(공백)으로 만듬 \n",
    "for remove_word in remove_words :\n",
    "    content = content.replace(remove_word, \"\")"
   ]
  },
  {
   "cell_type": "code",
   "execution_count": 29,
   "metadata": {},
   "outputs": [
    {
     "data": {
      "text/plain": [
       "'최기영 과기정통부 장관, 한국과학기술기획평가원(KISTEP) 신사옥 개청식 참석 최기영 과학기술정보통신부 장관은 2월 26일(수) 오전, 한국과학기술기획평가원(KISTEP) 신사옥 개청식에 참석하여 KISTEP 임직원을 격려하였다. KISTEP은 1999년에 설립된과학기술분야 정책지원기관으로, 국가과학기술 정책수립‧조정 지원, 국가연구개발예산의 배분‧조정 지원, 국가연구개발 통계수집‧분석, 국가연구개발사업 예비타당성조사 등의 역할을 수행한다. 최기영 장관은 KISTEP의 지방이전 및 신사옥 완공을 축하하며 “대한민국 대표 과학기술 정책지원기관*인 KISTEP 임직원들이 새로운 환경에 잘 적응하여 정부 R&D 24조원시대에 걸맞는 전문성, 책임성을 가지고 업무에 임해달라.”라고 당부하고,* 과학기술기본법제20조에 근거하여 설립 “과학기술정보통신부와 KISTEP이끊임없이 소통하고 협력하며 국가연구개발 생태계 혁신을 위해 노력하자.”라고 강조하였다.'"
      ]
     },
     "execution_count": 29,
     "metadata": {},
     "output_type": "execute_result"
    }
   ],
   "source": [
    "content"
   ]
  },
  {
   "cell_type": "code",
   "execution_count": 35,
   "metadata": {},
   "outputs": [],
   "source": [
    "# 모든것에 적용을 위한 함수로 작성\n",
    "def html_to_text(html):\n",
    "    # html안에있는 모든 텍스트내용을 가져옴 (시작태그, 끝태그가 사라짐)\n",
    "    content = BeautifulSoup(html, 'html.parser').text\n",
    "    # 특수문자 제거\n",
    "    remove_words = ['\\n', '\\xa0', '\\r', '□','\\nㅇ','ㅇ','o']\n",
    "    # remove_words를 remove_word에 넣고, remove_word를 content에서 \n",
    "    # replace로 \"\"(공백)으로 만듬 \n",
    "    for remove_word in remove_words :\n",
    "        content = content.replace(remove_word, \"\")\n",
    "    return content"
   ]
  },
  {
   "cell_type": "code",
   "execution_count": 36,
   "metadata": {},
   "outputs": [
    {
     "data": {
      "text/plain": [
       "'장석영 제2차관, 사회적 기업 현장방문- 디지털포용을 실천하고있는 사회적 기업 종사자 격려 및 애로사항 청취 - 장석영 과학기술정보통신부(이하 ‘과기정통부’) 제2차관은2월 25일(화)에 반복 작업에 높은 집중력을 지닌 발달 장애인과 경력단절 여성에 일자리를제공하고 있는 인공지능 데이터 전문기업*을 방문하여 종사자를격려하고 애로사항을 청취하는 자리를 가졌다.* ㈜테스트웍스 : ‘19년도 과학기술정보통신부의 ‘스마트워크 활성화 지원사업’을 통해 원격지에서 인공지능(AI) 학습데이터 구축업무를 본사 자동화 툴(Tl)과 연동하여  수행하고 본사는 관리․감독․소통할 수 있는 스마트워크 플랫폼을 구축하고 시범적용 중  이번 현장방문은 인공지능, 빅데이터 등으로 인한 디지털 환경변화 과정에서 소외되거나 배제되는 국민이 없도록 하기 위해 과기정통부가 수립중인 ‘(가칭)디지털 포용전략’과 관련하여 현장의 의견을 청취하기 위한 목적으로이루어졌다. 장석영 제2차관은 “지능정보기술로 취약계층의 어려움을 해소하는 것과 함께, 기술을적극 활용하여 취약계층의 일자리와 사회경제적 참여를 확대하는 것이 중요하다.”라고 강조하였다. 또한, 장애인등 취약계층의 생활편의 증진을 위한 기술개발과 일자리 창출에 대한 업계의 열정과 감사를 표현하고, “취약계층을 위한 디지털 기술이 보다 활성화될수 있도록 필요한 사항과 지원 방안을 고민하여 정책에 반영하겠다.”라고 밝혔다.'"
      ]
     },
     "execution_count": 36,
     "metadata": {},
     "output_type": "execute_result"
    }
   ],
   "source": [
    "# 함수 작동 확인\n",
    "content = html_to_text(msit_df['artcont'][1])\n",
    "content"
   ]
  },
  {
   "cell_type": "code",
   "execution_count": 38,
   "metadata": {},
   "outputs": [
    {
     "data": {
      "text/html": [
       "<div>\n",
       "<style scoped>\n",
       "    .dataframe tbody tr th:only-of-type {\n",
       "        vertical-align: middle;\n",
       "    }\n",
       "\n",
       "    .dataframe tbody tr th {\n",
       "        vertical-align: top;\n",
       "    }\n",
       "\n",
       "    .dataframe thead th {\n",
       "        text-align: right;\n",
       "    }\n",
       "</style>\n",
       "<table border=\"1\" class=\"dataframe\">\n",
       "  <thead>\n",
       "    <tr style=\"text-align: right;\">\n",
       "      <th></th>\n",
       "      <th>action</th>\n",
       "      <th>admin_p</th>\n",
       "      <th>artid</th>\n",
       "      <th>artsubject</th>\n",
       "      <th>artcont</th>\n",
       "    </tr>\n",
       "  </thead>\n",
       "  <tbody>\n",
       "    <tr>\n",
       "      <td>5</td>\n",
       "      <td>MOD</td>\n",
       "      <td>국립중앙과학관 과학교육과</td>\n",
       "      <td>2642302</td>\n",
       "      <td>국립중앙과학관, 2020년 상반기 성인 대상 교육과정 운영</td>\n",
       "      <td>국립중앙과학관, 2020년 상반기 성인 대상 교육과정 운영- 과학공방, 전통과학대학...</td>\n",
       "    </tr>\n",
       "    <tr>\n",
       "      <td>6</td>\n",
       "      <td>INS</td>\n",
       "      <td>연구성과일자리정책과</td>\n",
       "      <td>2642301</td>\n",
       "      <td>창업기술 시장성 검증을 통해 실험실창업 성공률 높인다</td>\n",
       "      <td>창업기술 시장성 검증을 통해 실험실창업 성공률 높인다.- 2020년 이공계 창업팀 ...</td>\n",
       "    </tr>\n",
       "    <tr>\n",
       "      <td>7</td>\n",
       "      <td>MOD</td>\n",
       "      <td>연구예산총괄과</td>\n",
       "      <td>2641722</td>\n",
       "      <td>2021년도 정부연구개발 투자방향 및 기준(안) 온라인 공청회 개최</td>\n",
       "      <td>2021년도 정부연구개발 투자방향및 기준(안) 온라인 공청회 개최- 인터넷 생중계로...</td>\n",
       "    </tr>\n",
       "    <tr>\n",
       "      <td>8</td>\n",
       "      <td>INS</td>\n",
       "      <td>소프트웨어정책과</td>\n",
       "      <td>2638222</td>\n",
       "      <td>소프트웨어 인재양성의 요람, 이노베이션아카데미 1기 교육 시작</td>\n",
       "      <td>창의적이고 혁신적인 소프트웨어 인재양성의 요람, 이노베이션 아카데미 1기 교육 시작...</td>\n",
       "    </tr>\n",
       "    <tr>\n",
       "      <td>9</td>\n",
       "      <td>INS</td>\n",
       "      <td>운영지원과</td>\n",
       "      <td>2632204</td>\n",
       "      <td>고위공무원 임용(국립과천과학관장)</td>\n",
       "      <td>과학기술정보통신부 인사 고위공무원 임용▲ 국립과천과학관장이 정 모(李庭模)2020....</td>\n",
       "    </tr>\n",
       "  </tbody>\n",
       "</table>\n",
       "</div>"
      ],
      "text/plain": [
       "  action        admin_p    artid                             artsubject  \\\n",
       "5    MOD  국립중앙과학관 과학교육과  2642302       국립중앙과학관, 2020년 상반기 성인 대상 교육과정 운영   \n",
       "6    INS     연구성과일자리정책과  2642301          창업기술 시장성 검증을 통해 실험실창업 성공률 높인다   \n",
       "7    MOD        연구예산총괄과  2641722  2021년도 정부연구개발 투자방향 및 기준(안) 온라인 공청회 개최   \n",
       "8    INS       소프트웨어정책과  2638222     소프트웨어 인재양성의 요람, 이노베이션아카데미 1기 교육 시작   \n",
       "9    INS          운영지원과  2632204                     고위공무원 임용(국립과천과학관장)   \n",
       "\n",
       "                                             artcont  \n",
       "5  국립중앙과학관, 2020년 상반기 성인 대상 교육과정 운영- 과학공방, 전통과학대학...  \n",
       "6  창업기술 시장성 검증을 통해 실험실창업 성공률 높인다.- 2020년 이공계 창업팀 ...  \n",
       "7  2021년도 정부연구개발 투자방향및 기준(안) 온라인 공청회 개최- 인터넷 생중계로...  \n",
       "8  창의적이고 혁신적인 소프트웨어 인재양성의 요람, 이노베이션 아카데미 1기 교육 시작...  \n",
       "9  과학기술정보통신부 인사 고위공무원 임용▲ 국립과천과학관장이 정 모(李庭模)2020....  "
      ]
     },
     "execution_count": 38,
     "metadata": {},
     "output_type": "execute_result"
    }
   ],
   "source": [
    "# apply 함수를 사용하여 적용\n",
    "msit_df['artcont'] = msit_df['artcont'].apply(html_to_text)\n",
    "msit_df.tail()"
   ]
  }
 ],
 "metadata": {
  "kernelspec": {
   "display_name": "Python 3",
   "language": "python",
   "name": "python3"
  },
  "language_info": {
   "codemirror_mode": {
    "name": "ipython",
    "version": 3
   },
   "file_extension": ".py",
   "mimetype": "text/x-python",
   "name": "python",
   "nbconvert_exporter": "python",
   "pygments_lexer": "ipython3",
   "version": "3.7.4"
  }
 },
 "nbformat": 4,
 "nbformat_minor": 4
}
