{
 "cells": [
  {
   "cell_type": "markdown",
   "metadata": {},
   "source": [
    "### kakao rest api\n",
    "- 주소값으로 위도, 경도, 우편번호 가져오기\n",
    "- 카카오 번역\n",
    "- 카카오톡 메시지 보내기"
   ]
  },
  {
   "cell_type": "markdown",
   "metadata": {},
   "source": [
    "#### 카카오 로컬 api \n",
    "- https://developers.kakao.com/"
   ]
  },
  {
   "cell_type": "code",
   "execution_count": 200,
   "metadata": {},
   "outputs": [],
   "source": [
    "import json"
   ]
  },
  {
   "cell_type": "code",
   "execution_count": 2,
   "metadata": {},
   "outputs": [],
   "source": [
    "app_key = 'app_key' # key 삭제"
   ]
  },
  {
   "cell_type": "code",
   "execution_count": 3,
   "metadata": {},
   "outputs": [
    {
     "data": {
      "text/plain": [
       "{'Authorization': 'KakaoAK app_key'}"
      ]
     },
     "execution_count": 3,
     "metadata": {},
     "output_type": "execute_result"
    }
   ],
   "source": [
    "headers = {'Authorization': f'KakaoAK {app_key}'}\n",
    "headers"
   ]
  },
  {
   "cell_type": "code",
   "execution_count": 54,
   "metadata": {},
   "outputs": [],
   "source": [
    "query = '서울시 강남구 개포동 660-4'"
   ]
  },
  {
   "cell_type": "code",
   "execution_count": 56,
   "metadata": {},
   "outputs": [
    {
     "data": {
      "text/plain": [
       "'https://dapi.kakao.com/v2/local/search/address.json?query=서울시 강남구 개포동 660-4'"
      ]
     },
     "execution_count": 56,
     "metadata": {},
     "output_type": "execute_result"
    }
   ],
   "source": [
    "url = f'https://dapi.kakao.com/v2/local/search/address.json?query={query}'\n",
    "url"
   ]
  },
  {
   "cell_type": "code",
   "execution_count": 60,
   "metadata": {},
   "outputs": [
    {
     "data": {
      "text/plain": [
       "{'documents': [{'address': {'address_name': '서울 강남구 개포동 660-4',\n",
       "    'b_code': '1168010300',\n",
       "    'h_code': '1168066000',\n",
       "    'main_adderss_no': '660',\n",
       "    'main_address_no': '660',\n",
       "    'mountain_yn': 'N',\n",
       "    'region_1depth_name': '서울',\n",
       "    'region_2depth_name': '강남구',\n",
       "    'region_3depth_h_name': '개포1동',\n",
       "    'region_3depth_name': '개포동',\n",
       "    'sub_adderss_no': '4',\n",
       "    'sub_address_no': '4',\n",
       "    'x': '127.05834829101899',\n",
       "    'y': '37.48072093777331',\n",
       "    'zip_code': '135810'},\n",
       "   'address_name': '서울 강남구 개포동 660-4',\n",
       "   'address_type': 'REGION_ADDR',\n",
       "   'road_address': {'address_name': '서울 강남구 개포로 310',\n",
       "    'building_name': '개포주공1차아파트',\n",
       "    'main_building_no': '310',\n",
       "    'region_1depth_name': '서울',\n",
       "    'region_2depth_name': '강남구',\n",
       "    'region_3depth_name': '개포동',\n",
       "    'road_name': '개포로',\n",
       "    'sub_building_no': '',\n",
       "    'undergroun_yn': 'N',\n",
       "    'underground_yn': 'N',\n",
       "    'x': '127.05865382582148',\n",
       "    'y': '37.48396081378785',\n",
       "    'zone_no': '06321'},\n",
       "   'x': '127.05834829101899',\n",
       "   'y': '37.48072093777331'}],\n",
       " 'meta': {'is_end': True, 'pageable_count': 1, 'total_count': 1}}"
      ]
     },
     "execution_count": 60,
     "metadata": {},
     "output_type": "execute_result"
    }
   ],
   "source": [
    "response = requests.get(url,headers=headers)\n",
    "response.json()"
   ]
  },
  {
   "cell_type": "code",
   "execution_count": 73,
   "metadata": {},
   "outputs": [
    {
     "data": {
      "text/plain": [
       "{'address': {'address_name': '서울 강남구 개포동 660-4',\n",
       "  'b_code': '1168010300',\n",
       "  'h_code': '1168066000',\n",
       "  'main_adderss_no': '660',\n",
       "  'main_address_no': '660',\n",
       "  'mountain_yn': 'N',\n",
       "  'region_1depth_name': '서울',\n",
       "  'region_2depth_name': '강남구',\n",
       "  'region_3depth_h_name': '개포1동',\n",
       "  'region_3depth_name': '개포동',\n",
       "  'sub_adderss_no': '4',\n",
       "  'sub_address_no': '4',\n",
       "  'x': '127.05834829101899',\n",
       "  'y': '37.48072093777331',\n",
       "  'zip_code': '135810'},\n",
       " 'address_name': '서울 강남구 개포동 660-4',\n",
       " 'address_type': 'REGION_ADDR',\n",
       " 'road_address': {'address_name': '서울 강남구 개포로 310',\n",
       "  'building_name': '개포주공1차아파트',\n",
       "  'main_building_no': '310',\n",
       "  'region_1depth_name': '서울',\n",
       "  'region_2depth_name': '강남구',\n",
       "  'region_3depth_name': '개포동',\n",
       "  'road_name': '개포로',\n",
       "  'sub_building_no': '',\n",
       "  'undergroun_yn': 'N',\n",
       "  'underground_yn': 'N',\n",
       "  'x': '127.05865382582148',\n",
       "  'y': '37.48396081378785',\n",
       "  'zone_no': '06321'},\n",
       " 'x': '127.05834829101899',\n",
       " 'y': '37.48072093777331'}"
      ]
     },
     "execution_count": 73,
     "metadata": {},
     "output_type": "execute_result"
    }
   ],
   "source": [
    "response.json()['documents'][0]"
   ]
  },
  {
   "cell_type": "code",
   "execution_count": 75,
   "metadata": {},
   "outputs": [
    {
     "data": {
      "text/plain": [
       "('127.05834829101899', '37.48072093777331', '135810')"
      ]
     },
     "execution_count": 75,
     "metadata": {},
     "output_type": "execute_result"
    }
   ],
   "source": [
    "data = response.json()['documents'][0]\n",
    "let, lon, zip_code = data['x'], data['y'], data['address']['zip_code']\n",
    "let, lon, zip_code"
   ]
  },
  {
   "cell_type": "markdown",
   "metadata": {},
   "source": [
    "#### 카카오 번역 api"
   ]
  },
  {
   "cell_type": "code",
   "execution_count": 86,
   "metadata": {},
   "outputs": [
    {
     "data": {
      "text/plain": [
       "{'translated_text': [['Python web crawling and automation']]}"
      ]
     },
     "execution_count": 86,
     "metadata": {},
     "output_type": "execute_result"
    }
   ],
   "source": [
    "app_key = 'app_key'\n",
    "headers = {'Authorization': f'KakaoAK {app_key}'}\n",
    "params = {\n",
    "    'query': '파이썬 웹 크롤링 및 자동화',\n",
    "    'src_lang': 'kr',\n",
    "    'target_lang': 'en'\n",
    "}\n",
    "url = 'https://kapi.kakao.com/v1/translation/translate?query={}&src_lang={}&target_lang={}'.format(\n",
    "    params['query'], params['src_lang'], params['target_lang']\n",
    ")\n",
    "response = requests.get(url, headers=headers)\n",
    "response.json()"
   ]
  },
  {
   "cell_type": "code",
   "execution_count": 87,
   "metadata": {},
   "outputs": [
    {
     "data": {
      "text/plain": [
       "[['Python web crawling and automation']]"
      ]
     },
     "execution_count": 87,
     "metadata": {},
     "output_type": "execute_result"
    }
   ],
   "source": [
    "response.json()['translated_text']"
   ]
  },
  {
   "cell_type": "markdown",
   "metadata": {},
   "source": [
    "#### 카카오톡 메시지 전송하기\n",
    "- app_id, app_key -> authorize_code 받기"
   ]
  },
  {
   "cell_type": "code",
   "execution_count": 4,
   "metadata": {},
   "outputs": [],
   "source": [
    "app_id = 'app_id'\n",
    "app_key = 'app_key'\n",
    "redirect_uri = 'https://naver.com'"
   ]
  },
  {
   "cell_type": "markdown",
   "metadata": {},
   "source": [
    "- authorize_code 받기 \n",
    "    - access_token을 받기위해 하는 행위"
   ]
  },
  {
   "cell_type": "code",
   "execution_count": 5,
   "metadata": {},
   "outputs": [
    {
     "name": "stdout",
     "output_type": "stream",
     "text": [
      "https://kauth.kakao.com/oauth/authorize?client_id=app_key&redirect_uri=https://naver.com&response_type=code\n"
     ]
    }
   ],
   "source": [
    "# 사용자 관리 -> 로그인\n",
    "url = f'https://kauth.kakao.com/oauth/authorize?client_id={app_key}&redirect_uri={redirect_uri}&response_type=code'\n",
    "print(url)"
   ]
  },
  {
   "cell_type": "code",
   "execution_count": 151,
   "metadata": {},
   "outputs": [],
   "source": [
    "# 1회만 사용이 가능\n",
    "# 해당 키를 사용하여 access_token을가져왔기 때문에 주석처리\n",
    "authorize_code = 'authorize_code'"
   ]
  },
  {
   "cell_type": "markdown",
   "metadata": {},
   "source": [
    "#### access_token 받기"
   ]
  },
  {
   "cell_type": "code",
   "execution_count": 152,
   "metadata": {},
   "outputs": [],
   "source": [
    "# 위의 authorize_code를 사용하여, 실제 access_token을 받기\n",
    "url = 'https://kauth.kakao.com/oauth/token'\n",
    "data ={\n",
    "    'grant_type' : 'authorization_code',\n",
    "    'client_id' : app_key,\n",
    "    'redirect_uri' : redirect_uri,\n",
    "    'code' : authorize_code,\n",
    "}"
   ]
  },
  {
   "cell_type": "code",
   "execution_count": 153,
   "metadata": {},
   "outputs": [
    {
     "data": {
      "text/plain": [
       "<Response [200]>"
      ]
     },
     "execution_count": 153,
     "metadata": {},
     "output_type": "execute_result"
    }
   ],
   "source": [
    "response = requests.post(url, data)\n",
    "response"
   ]
  },
  {
   "cell_type": "code",
   "execution_count": 6,
   "metadata": {},
   "outputs": [],
   "source": [
    "# response 제대로 왔는지 확인\n",
    "# user_datas = response.json()\n",
    "# user_datas"
   ]
  },
  {
   "cell_type": "code",
   "execution_count": 156,
   "metadata": {},
   "outputs": [
    {
     "data": {
      "text/plain": [
       "<Response [200]>"
      ]
     },
     "execution_count": 156,
     "metadata": {},
     "output_type": "execute_result"
    }
   ],
   "source": [
    "# 프로필 데이터 가져오기\n",
    "# 개발가이드 -> 카카오톡 -> 프로필요청\n",
    "headers = {'Authorization': 'Bearer {}'.format(user_datas['access_token'])}\n",
    "url = 'https://kapi.kakao.com/v1/api/talk/profile'\n",
    "response = requests.get(url, headers=headers)\n",
    "response"
   ]
  },
  {
   "cell_type": "code",
   "execution_count": 7,
   "metadata": {},
   "outputs": [],
   "source": [
    "# 가져온 데이터 확인\n",
    "# response.json()"
   ]
  },
  {
   "cell_type": "code",
   "execution_count": 136,
   "metadata": {},
   "outputs": [],
   "source": [
    "# 프로필 이미지 표시"
   ]
  },
  {
   "cell_type": "code",
   "execution_count": 9,
   "metadata": {},
   "outputs": [],
   "source": [
    "# %%html\n",
    "# <img src = '이미지 주소'\n",
    "# width=50/>"
   ]
  },
  {
   "cell_type": "markdown",
   "metadata": {},
   "source": [
    "#### 카카오톡 메시지 전송하기"
   ]
  },
  {
   "cell_type": "code",
   "execution_count": 195,
   "metadata": {},
   "outputs": [],
   "source": [
    "# 카카오톡 메세지 보내기\n",
    "# 애플리케이션 -> 설정 -> 일반 -> 템플릿 추가\n",
    "# 개발가이드 -> 카카오톡 -> 나에게보내기 -> 텍스트 탬플릿보내기\n",
    "url = 'https://kapi.kakao.com/v2/api/talk/memo/default/send'\n",
    "headers = {\n",
    "    'Content-Type': \"application/x-www-form-urlencoded\",\n",
    "    'Cache-Control': \"no-cache\",\n",
    "    \"Authorization\": \"Bearer {}\".format(user_datas[\"access_token\"])\n",
    "}\n",
    "params = {\n",
    "    \"object_type\": \"text\",\n",
    "    \"text\": \"클릭요\",\n",
    "    \"link\": {\n",
    "            \"web_url\": \"https://naver.com\",\n",
    "            \"mobile_web_url\": \"https://m.naver.com\"\n",
    "    },\n",
    "    \"button_title\": \"바로 확인\"\n",
    "}"
   ]
  },
  {
   "cell_type": "code",
   "execution_count": 199,
   "metadata": {},
   "outputs": [
    {
     "data": {
      "text/plain": [
       "'{\"result_code\":0}'"
      ]
     },
     "execution_count": 199,
     "metadata": {},
     "output_type": "execute_result"
    }
   ],
   "source": [
    "payload = 'template_object=' + str(json.dumps(params))\n",
    "response = requests.post(url, payload, headers=headers)\n",
    "response.text"
   ]
  },
  {
   "cell_type": "code",
   "execution_count": null,
   "metadata": {},
   "outputs": [],
   "source": []
  },
  {
   "cell_type": "code",
   "execution_count": null,
   "metadata": {},
   "outputs": [],
   "source": []
  }
 ],
 "metadata": {
  "kernelspec": {
   "display_name": "Python 3",
   "language": "python",
   "name": "python3"
  },
  "language_info": {
   "codemirror_mode": {
    "name": "ipython",
    "version": 3
   },
   "file_extension": ".py",
   "mimetype": "text/x-python",
   "name": "python",
   "nbconvert_exporter": "python",
   "pygments_lexer": "ipython3",
   "version": "3.7.4"
  }
 },
 "nbformat": 4,
 "nbformat_minor": 4
}
