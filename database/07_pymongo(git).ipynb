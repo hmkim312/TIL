{
 "cells": [
  {
   "cell_type": "markdown",
   "metadata": {},
   "source": [
    "### pymongo\n",
    "- python에서 MongoDB 작업을 위한 도구\n",
    "- pymongo install\n",
    "    - pip install pymongo==2.8.1"
   ]
  },
  {
   "cell_type": "code",
   "execution_count": 2,
   "metadata": {},
   "outputs": [],
   "source": [
    "import pymongo\n",
    "import pandas as pd"
   ]
  },
  {
   "cell_type": "code",
   "execution_count": 3,
   "metadata": {
    "collapsed": true,
    "jupyter": {
     "outputs_hidden": true
    }
   },
   "outputs": [
    {
     "ename": "ModuleNotFoundError",
     "evalue": "No module named 'zigbang'",
     "output_type": "error",
     "traceback": [
      "\u001b[1;31m---------------------------------------------------------------------------\u001b[0m",
      "\u001b[1;31mModuleNotFoundError\u001b[0m                       Traceback (most recent call last)",
      "\u001b[1;32m<ipython-input-3-800a97f908c0>\u001b[0m in \u001b[0;36m<module>\u001b[1;34m\u001b[0m\n\u001b[1;32m----> 1\u001b[1;33m \u001b[1;32mimport\u001b[0m \u001b[0mzigbang\u001b[0m \u001b[1;32mas\u001b[0m \u001b[0mzb\u001b[0m\u001b[1;33m\u001b[0m\u001b[1;33m\u001b[0m\u001b[0m\n\u001b[0m",
      "\u001b[1;31mModuleNotFoundError\u001b[0m: No module named 'zigbang'"
     ]
    }
   ],
   "source": [
    "import zigbang as zb"
   ]
  },
  {
   "cell_type": "code",
   "execution_count": 1,
   "metadata": {
    "collapsed": true,
    "jupyter": {
     "outputs_hidden": true
    }
   },
   "outputs": [
    {
     "ename": "NameError",
     "evalue": "name 'pymongo' is not defined",
     "output_type": "error",
     "traceback": [
      "\u001b[1;31m---------------------------------------------------------------------------\u001b[0m",
      "\u001b[1;31mNameError\u001b[0m                                 Traceback (most recent call last)",
      "\u001b[1;32m<ipython-input-1-7f004c57f5ab>\u001b[0m in \u001b[0;36m<module>\u001b[1;34m\u001b[0m\n\u001b[0;32m      1\u001b[0m \u001b[1;31m# 데이터베이스 서버 연결\u001b[0m\u001b[1;33m\u001b[0m\u001b[1;33m\u001b[0m\u001b[1;33m\u001b[0m\u001b[0m\n\u001b[1;32m----> 2\u001b[1;33m \u001b[0mclient\u001b[0m \u001b[1;33m=\u001b[0m \u001b[0mpymongo\u001b[0m\u001b[1;33m.\u001b[0m\u001b[0mMongoClient\u001b[0m\u001b[1;33m(\u001b[0m\u001b[1;34m\"mongodb://user:passwd@ip:27017/\"\u001b[0m\u001b[1;33m)\u001b[0m\u001b[1;33m\u001b[0m\u001b[1;33m\u001b[0m\u001b[0m\n\u001b[0m\u001b[0;32m      3\u001b[0m \u001b[0mclient\u001b[0m\u001b[1;33m\u001b[0m\u001b[1;33m\u001b[0m\u001b[0m\n",
      "\u001b[1;31mNameError\u001b[0m: name 'pymongo' is not defined"
     ]
    }
   ],
   "source": [
    "# 데이터베이스 서버 연결\n",
    "client = pymongo.MongoClient(\"mongodb://user:passwd@ip:27017/\")\n",
    "client"
   ]
  },
  {
   "cell_type": "code",
   "execution_count": 11,
   "metadata": {},
   "outputs": [
    {
     "data": {
      "text/plain": [
       "Collection(Database(MongoClient('13.209.146.29', 27017), 'crawling'), 'zigbang')"
      ]
     },
     "execution_count": 11,
     "metadata": {},
     "output_type": "execute_result"
    }
   ],
   "source": [
    "# 데이터 베이스와 컬렉션 생성 \n",
    "# client 서버\n",
    "# zigbang 컬렉션\n",
    "zigbang = client.crawling.zigbang\n",
    "zigbang"
   ]
  },
  {
   "cell_type": "code",
   "execution_count": 15,
   "metadata": {},
   "outputs": [
    {
     "data": {
      "text/plain": [
       "9"
      ]
     },
     "execution_count": 15,
     "metadata": {},
     "output_type": "execute_result"
    }
   ],
   "source": [
    "items = zb.oneroom('성수동')\n",
    "len(items)"
   ]
  },
  {
   "cell_type": "code",
   "execution_count": 23,
   "metadata": {},
   "outputs": [
    {
     "data": {
      "text/plain": [
       "{'section_type': None,\n",
       " 'item_id': 19841586,\n",
       " 'images_thumbnail': 'https://ic.zigbang.com/ic/items/19841586/1.jpg',\n",
       " 'sales_type': '월세',\n",
       " 'sales_title': '월세',\n",
       " 'deposit': 1000,\n",
       " 'rent': 40,\n",
       " 'size_m2': 13.22,\n",
       " '공급면적': {'m2': 13.22, 'p': '4'},\n",
       " '전용면적': {'m2': 13.22, 'p': '4'},\n",
       " 'room_type_title': None,\n",
       " 'floor': '3',\n",
       " 'floor_string': '3',\n",
       " 'building_floor': '4',\n",
       " 'title': '역세권 저렴한 원룸,즉시입주',\n",
       " 'is_first_movein': None,\n",
       " 'room_type': '01',\n",
       " 'address': '성동구 성수동1가',\n",
       " 'random_location': {'lat': 37.54279445352654, 'lng': 127.04537678000693},\n",
       " 'is_zzim': False,\n",
       " 'status': True,\n",
       " 'service_type': '원룸',\n",
       " 'tags': [],\n",
       " 'address1': '서울시 성동구 성수동1가',\n",
       " 'address2': None,\n",
       " 'address3': None,\n",
       " 'manage_cost': '5.5',\n",
       " 'reg_date': '2020-01-21T13:19:33+09:00',\n",
       " 'is_new': False,\n",
       " '_id': ObjectId('5e4694a7e0858f65b6f18b95')}"
      ]
     },
     "execution_count": 23,
     "metadata": {},
     "output_type": "execute_result"
    }
   ],
   "source": [
    "items[0]"
   ]
  },
  {
   "cell_type": "code",
   "execution_count": 18,
   "metadata": {},
   "outputs": [
    {
     "data": {
      "text/plain": [
       "9"
      ]
     },
     "execution_count": 18,
     "metadata": {},
     "output_type": "execute_result"
    }
   ],
   "source": [
    "ids = zigbang.insert(items)\n",
    "len(ids)"
   ]
  },
  {
   "cell_type": "markdown",
   "metadata": {},
   "source": [
    "- 데이터 프레임 저장"
   ]
  },
  {
   "cell_type": "code",
   "execution_count": 29,
   "metadata": {},
   "outputs": [
    {
     "data": {
      "text/html": [
       "<div>\n",
       "<style scoped>\n",
       "    .dataframe tbody tr th:only-of-type {\n",
       "        vertical-align: middle;\n",
       "    }\n",
       "\n",
       "    .dataframe tbody tr th {\n",
       "        vertical-align: top;\n",
       "    }\n",
       "\n",
       "    .dataframe thead th {\n",
       "        text-align: right;\n",
       "    }\n",
       "</style>\n",
       "<table border=\"1\" class=\"dataframe\">\n",
       "  <thead>\n",
       "    <tr style=\"text-align: right;\">\n",
       "      <th></th>\n",
       "      <th>floor</th>\n",
       "      <th>address1</th>\n",
       "      <th>rent</th>\n",
       "      <th>size_m2</th>\n",
       "      <th>deposit</th>\n",
       "    </tr>\n",
       "  </thead>\n",
       "  <tbody>\n",
       "    <tr>\n",
       "      <th>4</th>\n",
       "      <td>3</td>\n",
       "      <td>서울시 성동구 성수동1가</td>\n",
       "      <td>0</td>\n",
       "      <td>42.9800</td>\n",
       "      <td>26000</td>\n",
       "    </tr>\n",
       "    <tr>\n",
       "      <th>5</th>\n",
       "      <td>고</td>\n",
       "      <td>서울시 성동구 성수동1가</td>\n",
       "      <td>0</td>\n",
       "      <td>66.1200</td>\n",
       "      <td>17000</td>\n",
       "    </tr>\n",
       "    <tr>\n",
       "      <th>6</th>\n",
       "      <td>7</td>\n",
       "      <td>서울시 성동구 성수동1가</td>\n",
       "      <td>60</td>\n",
       "      <td>26.4463</td>\n",
       "      <td>1000</td>\n",
       "    </tr>\n",
       "    <tr>\n",
       "      <th>7</th>\n",
       "      <td>1</td>\n",
       "      <td>서울시 성동구 성수동1가</td>\n",
       "      <td>0</td>\n",
       "      <td>26.4500</td>\n",
       "      <td>6000</td>\n",
       "    </tr>\n",
       "    <tr>\n",
       "      <th>8</th>\n",
       "      <td>2</td>\n",
       "      <td>서울시 성동구 성수동1가</td>\n",
       "      <td>0</td>\n",
       "      <td>39.6700</td>\n",
       "      <td>12000</td>\n",
       "    </tr>\n",
       "  </tbody>\n",
       "</table>\n",
       "</div>"
      ],
      "text/plain": [
       "  floor       address1  rent  size_m2  deposit\n",
       "4     3  서울시 성동구 성수동1가     0  42.9800    26000\n",
       "5     고  서울시 성동구 성수동1가     0  66.1200    17000\n",
       "6     7  서울시 성동구 성수동1가    60  26.4463     1000\n",
       "7     1  서울시 성동구 성수동1가     0  26.4500     6000\n",
       "8     2  서울시 성동구 성수동1가     0  39.6700    12000"
      ]
     },
     "execution_count": 29,
     "metadata": {},
     "output_type": "execute_result"
    }
   ],
   "source": [
    "sungsoo_df = pd.DataFrame(items)\n",
    "columns = [\"floor\",'address1','rent','size_m2','deposit']\n",
    "sungsoo_df = sungsoo_df[columns]\n",
    "sungsoo_df.tail()"
   ]
  },
  {
   "cell_type": "markdown",
   "metadata": {},
   "source": [
    "- 몽고디비에 넣기"
   ]
  },
  {
   "cell_type": "code",
   "execution_count": 32,
   "metadata": {},
   "outputs": [],
   "source": [
    "zigbang2 = client.crwaling.zigbang2"
   ]
  },
  {
   "cell_type": "code",
   "execution_count": 35,
   "metadata": {},
   "outputs": [
    {
     "data": {
      "text/plain": [
       "{'floor': '3',\n",
       " 'address1': '서울시 성동구 성수동1가',\n",
       " 'rent': 40,\n",
       " 'size_m2': 13.22,\n",
       " 'deposit': 1000}"
      ]
     },
     "execution_count": 35,
     "metadata": {},
     "output_type": "execute_result"
    }
   ],
   "source": [
    "items = sungsoo_df.to_dict(\"records\")\n",
    "items[0]"
   ]
  },
  {
   "cell_type": "code",
   "execution_count": 36,
   "metadata": {},
   "outputs": [
    {
     "data": {
      "text/plain": [
       "9"
      ]
     },
     "execution_count": 36,
     "metadata": {},
     "output_type": "execute_result"
    }
   ],
   "source": [
    "ids = zigbang2.insert(items)\n",
    "len(ids)"
   ]
  },
  {
   "cell_type": "markdown",
   "metadata": {},
   "source": [
    "- 데이터(find)"
   ]
  },
  {
   "cell_type": "code",
   "execution_count": 37,
   "metadata": {},
   "outputs": [],
   "source": [
    "results = zigbang2.find()"
   ]
  },
  {
   "cell_type": "code",
   "execution_count": 43,
   "metadata": {},
   "outputs": [
    {
     "data": {
      "text/html": [
       "<div>\n",
       "<style scoped>\n",
       "    .dataframe tbody tr th:only-of-type {\n",
       "        vertical-align: middle;\n",
       "    }\n",
       "\n",
       "    .dataframe tbody tr th {\n",
       "        vertical-align: top;\n",
       "    }\n",
       "\n",
       "    .dataframe thead th {\n",
       "        text-align: right;\n",
       "    }\n",
       "</style>\n",
       "<table border=\"1\" class=\"dataframe\">\n",
       "  <thead>\n",
       "    <tr style=\"text-align: right;\">\n",
       "      <th></th>\n",
       "      <th>_id</th>\n",
       "      <th>address1</th>\n",
       "      <th>deposit</th>\n",
       "      <th>floor</th>\n",
       "      <th>rent</th>\n",
       "      <th>size_m2</th>\n",
       "    </tr>\n",
       "  </thead>\n",
       "  <tbody>\n",
       "    <tr>\n",
       "      <th>3</th>\n",
       "      <td>5e469739e0858f65b6f18ba1</td>\n",
       "      <td>서울시 성동구 성수동1가</td>\n",
       "      <td>1000</td>\n",
       "      <td>3</td>\n",
       "      <td>45</td>\n",
       "      <td>23.14</td>\n",
       "    </tr>\n",
       "    <tr>\n",
       "      <th>4</th>\n",
       "      <td>5e469739e0858f65b6f18ba2</td>\n",
       "      <td>서울시 성동구 성수동1가</td>\n",
       "      <td>26000</td>\n",
       "      <td>3</td>\n",
       "      <td>0</td>\n",
       "      <td>42.98</td>\n",
       "    </tr>\n",
       "    <tr>\n",
       "      <th>5</th>\n",
       "      <td>5e469739e0858f65b6f18ba3</td>\n",
       "      <td>서울시 성동구 성수동1가</td>\n",
       "      <td>17000</td>\n",
       "      <td>고</td>\n",
       "      <td>0</td>\n",
       "      <td>66.12</td>\n",
       "    </tr>\n",
       "    <tr>\n",
       "      <th>6</th>\n",
       "      <td>5e469739e0858f65b6f18ba5</td>\n",
       "      <td>서울시 성동구 성수동1가</td>\n",
       "      <td>6000</td>\n",
       "      <td>1</td>\n",
       "      <td>0</td>\n",
       "      <td>26.45</td>\n",
       "    </tr>\n",
       "    <tr>\n",
       "      <th>7</th>\n",
       "      <td>5e469739e0858f65b6f18ba6</td>\n",
       "      <td>서울시 성동구 성수동1가</td>\n",
       "      <td>12000</td>\n",
       "      <td>2</td>\n",
       "      <td>0</td>\n",
       "      <td>39.67</td>\n",
       "    </tr>\n",
       "  </tbody>\n",
       "</table>\n",
       "</div>"
      ],
      "text/plain": [
       "                        _id       address1  deposit floor  rent  size_m2\n",
       "3  5e469739e0858f65b6f18ba1  서울시 성동구 성수동1가     1000     3    45    23.14\n",
       "4  5e469739e0858f65b6f18ba2  서울시 성동구 성수동1가    26000     3     0    42.98\n",
       "5  5e469739e0858f65b6f18ba3  서울시 성동구 성수동1가    17000     고     0    66.12\n",
       "6  5e469739e0858f65b6f18ba5  서울시 성동구 성수동1가     6000     1     0    26.45\n",
       "7  5e469739e0858f65b6f18ba6  서울시 성동구 성수동1가    12000     2     0    39.67"
      ]
     },
     "execution_count": 43,
     "metadata": {},
     "output_type": "execute_result"
    }
   ],
   "source": [
    "QUERY = {'rent':{\"$lte\":50}}\n",
    "results = zigbang2.find(QUERY)\n",
    "pd.DataFrame(results).tail()"
   ]
  },
  {
   "cell_type": "code",
   "execution_count": 44,
   "metadata": {},
   "outputs": [],
   "source": [
    "# 컬렉션 삭제\n",
    "client.crawling.drop_collection('zigbang')"
   ]
  },
  {
   "cell_type": "code",
   "execution_count": 46,
   "metadata": {},
   "outputs": [],
   "source": [
    "client.crawling.drop_collection('zigbang2')"
   ]
  },
  {
   "cell_type": "code",
   "execution_count": 45,
   "metadata": {},
   "outputs": [],
   "source": [
    "# 데이터 베이스 삭제\n",
    "client.drop_database(\"crawling\")"
   ]
  }
 ],
 "metadata": {
  "kernelspec": {
   "display_name": "Python 3",
   "language": "python",
   "name": "python3"
  },
  "language_info": {
   "codemirror_mode": {
    "name": "ipython",
    "version": 3
   },
   "file_extension": ".py",
   "mimetype": "text/x-python",
   "name": "python",
   "nbconvert_exporter": "python",
   "pygments_lexer": "ipython3",
   "version": "3.7.4"
  }
 },
 "nbformat": 4,
 "nbformat_minor": 4
}
