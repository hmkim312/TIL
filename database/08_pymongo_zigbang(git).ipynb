{
 "cells": [
  {
   "cell_type": "markdown",
   "metadata": {},
   "source": [
    "#### zigbang 매물 데이터 저장\n",
    "- pip install geohash2"
   ]
  },
  {
   "cell_type": "code",
   "execution_count": 1,
   "metadata": {},
   "outputs": [],
   "source": [
    "import warnings\n",
    "warnings.filterwarnings('ignore')"
   ]
  },
  {
   "cell_type": "code",
   "execution_count": 2,
   "metadata": {},
   "outputs": [],
   "source": [
    "import zigbang as zb\n",
    "import pymongo\n",
    "import pandas as pd"
   ]
  },
  {
   "cell_type": "code",
   "execution_count": 3,
   "metadata": {},
   "outputs": [],
   "source": [
    "# server 연결\n",
    "server = pymongo.MongoClient('mongodb://user:passwd@ip:27017/')\n",
    "db = server.zigbang"
   ]
  },
  {
   "cell_type": "code",
   "execution_count": 15,
   "metadata": {},
   "outputs": [],
   "source": [
    "addrs = {\n",
    "    \"seongnam\": \"성남동\",\n",
    "    \"dangsan\": \"당산동\",\n",
    "    \"hapjung\": \"합정동\",\n",
    "    \"mongwon\": \"망원동\",\n",
    "    \"sujin\": \"수진동\",\n",
    "    \"yeungdeungpo\":\"영등포동\"\n",
    "}"
   ]
  },
  {
   "cell_type": "code",
   "execution_count": 16,
   "metadata": {},
   "outputs": [
    {
     "name": "stdout",
     "output_type": "stream",
     "text": [
      "seongnam 성남동 92\n",
      "dangsan 당산동 132\n",
      "hapjung 합정동 142\n",
      "mongwon 망원동 125\n",
      "sujin 수진동 36\n",
      "yeungdeungpo 영등포동 143\n"
     ]
    }
   ],
   "source": [
    "# 데이터 수집 후 저장\n",
    "for collection_name, addr in addrs.items():\n",
    "    collection = db[collection_name]\n",
    "    datas = zb.oneroom(addr)\n",
    "    ids = collection.insert(datas)\n",
    "    print(collection_name, addr, len(ids))"
   ]
  },
  {
   "cell_type": "code",
   "execution_count": 17,
   "metadata": {},
   "outputs": [
    {
     "data": {
      "text/html": [
       "<div>\n",
       "<style scoped>\n",
       "    .dataframe tbody tr th:only-of-type {\n",
       "        vertical-align: middle;\n",
       "    }\n",
       "\n",
       "    .dataframe tbody tr th {\n",
       "        vertical-align: top;\n",
       "    }\n",
       "\n",
       "    .dataframe thead th {\n",
       "        text-align: right;\n",
       "    }\n",
       "</style>\n",
       "<table border=\"1\" class=\"dataframe\">\n",
       "  <thead>\n",
       "    <tr style=\"text-align: right;\">\n",
       "      <th></th>\n",
       "      <th>title</th>\n",
       "      <th>service_type</th>\n",
       "      <th>sales_type</th>\n",
       "      <th>deposit</th>\n",
       "      <th>rent</th>\n",
       "      <th>size_m2</th>\n",
       "      <th>floor</th>\n",
       "      <th>building_floor</th>\n",
       "      <th>address1</th>\n",
       "      <th>manage_cost</th>\n",
       "      <th>is_new</th>\n",
       "    </tr>\n",
       "  </thead>\n",
       "  <tbody>\n",
       "    <tr>\n",
       "      <th>22</th>\n",
       "      <td>대출가능 깔끔한 투룸7000( 2000-30)만원</td>\n",
       "      <td>빌라</td>\n",
       "      <td>전세</td>\n",
       "      <td>7000</td>\n",
       "      <td>0</td>\n",
       "      <td>66.1200</td>\n",
       "      <td>1</td>\n",
       "      <td>2</td>\n",
       "      <td>경기도 성남시 수정구 수진동</td>\n",
       "      <td>0</td>\n",
       "      <td>False</td>\n",
       "    </tr>\n",
       "    <tr>\n",
       "      <th>23</th>\n",
       "      <td>수진성당 뒷편 전세6000만원~</td>\n",
       "      <td>빌라</td>\n",
       "      <td>전세</td>\n",
       "      <td>6000</td>\n",
       "      <td>0</td>\n",
       "      <td>49.5900</td>\n",
       "      <td>2</td>\n",
       "      <td>2</td>\n",
       "      <td>경기도 성남시 수정구 수진동</td>\n",
       "      <td>0</td>\n",
       "      <td>False</td>\n",
       "    </tr>\n",
       "    <tr>\n",
       "      <th>24</th>\n",
       "      <td>수진1구역,수진역10분거리,태평역12분거리,올수리</td>\n",
       "      <td>빌라</td>\n",
       "      <td>전세</td>\n",
       "      <td>10000</td>\n",
       "      <td>0</td>\n",
       "      <td>38.5000</td>\n",
       "      <td>1</td>\n",
       "      <td>1</td>\n",
       "      <td>경기도 성남시 수정구 수진동</td>\n",
       "      <td>0</td>\n",
       "      <td>True</td>\n",
       "    </tr>\n",
       "    <tr>\n",
       "      <th>25</th>\n",
       "      <td>수진1동 평지 중앙시장 가까움 투룸7500만원~</td>\n",
       "      <td>빌라</td>\n",
       "      <td>전세</td>\n",
       "      <td>7500</td>\n",
       "      <td>0</td>\n",
       "      <td>69.4200</td>\n",
       "      <td>1</td>\n",
       "      <td>2</td>\n",
       "      <td>경기도 성남시 수정구 수진동</td>\n",
       "      <td>0</td>\n",
       "      <td>False</td>\n",
       "    </tr>\n",
       "    <tr>\n",
       "      <th>26</th>\n",
       "      <td>준신축 주차가 보6000만원~~</td>\n",
       "      <td>빌라</td>\n",
       "      <td>전세</td>\n",
       "      <td>6000</td>\n",
       "      <td>0</td>\n",
       "      <td>36.3636</td>\n",
       "      <td>2</td>\n",
       "      <td>2</td>\n",
       "      <td>경기도 성남시 수정구 수진동</td>\n",
       "      <td>0</td>\n",
       "      <td>False</td>\n",
       "    </tr>\n",
       "  </tbody>\n",
       "</table>\n",
       "</div>"
      ],
      "text/plain": [
       "                          title service_type sales_type  deposit  rent  \\\n",
       "22  대출가능 깔끔한 투룸7000( 2000-30)만원           빌라         전세     7000     0   \n",
       "23            수진성당 뒷편 전세6000만원~           빌라         전세     6000     0   \n",
       "24  수진1구역,수진역10분거리,태평역12분거리,올수리           빌라         전세    10000     0   \n",
       "25   수진1동 평지 중앙시장 가까움 투룸7500만원~           빌라         전세     7500     0   \n",
       "26            준신축 주차가 보6000만원~~           빌라         전세     6000     0   \n",
       "\n",
       "    size_m2 floor building_floor         address1 manage_cost  is_new  \n",
       "22  66.1200     1              2  경기도 성남시 수정구 수진동           0   False  \n",
       "23  49.5900     2              2  경기도 성남시 수정구 수진동           0   False  \n",
       "24  38.5000     1              1  경기도 성남시 수정구 수진동           0    True  \n",
       "25  69.4200     1              2  경기도 성남시 수정구 수진동           0   False  \n",
       "26  36.3636     2              2  경기도 성남시 수정구 수진동           0   False  "
      ]
     },
     "execution_count": 17,
     "metadata": {},
     "output_type": "execute_result"
    }
   ],
   "source": [
    "# 성남동에서 월세 50이상 보증금 5000에서 10000조건으로 검색\n",
    "QUERY = {\"rent\": {\"$lte\": 50}, \"deposit\": {\"$lte\": 10000, \"$gte\": 5000}}\n",
    "results = db[\"sujin\"].find(QUERY)\n",
    "df = pd.DataFrame(results).tail()\n",
    "columns = [\"title\", \"service_type\", \"sales_type\", \"deposit\", \"rent\", \"size_m2\", \"floor\", \"building_floor\", \"address1\", \"manage_cost\", \"is_new\"]\n",
    "df[columns]"
   ]
  },
  {
   "cell_type": "code",
   "execution_count": 15,
   "metadata": {},
   "outputs": [
    {
     "name": "stdout",
     "output_type": "stream",
     "text": [
      "mongwon\n",
      "hapjung\n"
     ]
    }
   ],
   "source": [
    "# 컬렉션 삭제\n",
    "for addr in addrs:\n",
    "    print(addr)\n",
    "    server.zigbang.drop_collection(addr)"
   ]
  },
  {
   "cell_type": "code",
   "execution_count": 16,
   "metadata": {},
   "outputs": [],
   "source": [
    "# 데이터 베이스 삭제\n",
    "server.drop_database(\"zigbang\")"
   ]
  }
 ],
 "metadata": {
  "kernelspec": {
   "display_name": "Python 3",
   "language": "python",
   "name": "python3"
  },
  "language_info": {
   "codemirror_mode": {
    "name": "ipython",
    "version": 3
   },
   "file_extension": ".py",
   "mimetype": "text/x-python",
   "name": "python",
   "nbconvert_exporter": "python",
   "pygments_lexer": "ipython3",
   "version": "3.7.4"
  }
 },
 "nbformat": 4,
 "nbformat_minor": 4
}
