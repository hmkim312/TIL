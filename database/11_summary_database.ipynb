{
 "cells": [
  {
   "cell_type": "markdown",
   "metadata": {},
   "source": [
    "### Database\n",
    "    - RDBMS : 관계형 데이터 베이스 (select가 빠름, insert가 느림, tranjection 사용가능, 데이터의 구조가 복잡함)\n",
    "        - MySQL\n",
    "        - 데이터 베이스 서버에 설치\n",
    "        - 데이터 베이스 생성, 삭제, 수정, 쿼리문\n",
    "        - 서버 -> 데이터베이스 -> 테이블 -> 레코드 -> 값\n",
    "        - 쿼리문\n",
    "            - select from\n",
    "                - where : 비교, 논리, 연산자, in, like (from에서 필터링)\n",
    "                - order by : 정렬\n",
    "                - limit : 특정 갯수의 데이터를 선택\n",
    "                - group by, having : 특정 컬럼의 데이터를 유니크하게 만들어서 데이터를 출력 (having은 마지막 결과에서 필터링, where와는 시점이 다름) \n",
    "                - join on : left, right, inner, outer(union)\n",
    "                - sub query : 쿼리안에 쿼리, seleft, from, where 사용가능\n",
    "                - view : 복잡한 쿼리를 간단하게 만들어 주는 방법\n",
    "            - insert into (columns) values(values)\n",
    "            - update <table_name> set\n",
    "        - index : explain\n",
    "        - SQLAlchemy : python에서 사용하는 orm(데이터베이스의 테이블을 객체화 시켜서 사용하는 것) \n",
    "            \n",
    "    - NOSQL : 비관계형 데이터 베이스 (select가 느림, insert가 빠름, tranjection 사용 불가능, 간편함, 데이터를 빠르게 쌓을수 있음)\n",
    "        - mongodb\n",
    "        - 서버 -> 데이터베이스 -> 컬렉션 -> 도큐먼트\n",
    "        - find\n",
    "        - pymongo : python에서 사용하는 orm"
   ]
  }
 ],
 "metadata": {
  "kernelspec": {
   "display_name": "Python 3",
   "language": "python",
   "name": "python3"
  },
  "language_info": {
   "codemirror_mode": {
    "name": "ipython",
    "version": 3
   },
   "file_extension": ".py",
   "mimetype": "text/x-python",
   "name": "python",
   "nbconvert_exporter": "python",
   "pygments_lexer": "ipython3",
   "version": "3.7.4"
  }
 },
 "nbformat": 4,
 "nbformat_minor": 4
}
