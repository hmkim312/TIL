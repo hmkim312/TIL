{
 "cells": [
  {
   "cell_type": "markdown",
   "metadata": {},
   "source": [
    "연습 문제 1.1.2\n",
    "    - 주피터 노트북을 하나 만들고 인라인 수식과 디스플레이 수식으로 알파부터 오메가까지 써본다"
   ]
  },
  {
   "cell_type": "markdown",
   "metadata": {},
   "source": [
    "## 1. inline\n",
    "\n",
    "### - $A$ $\\alpha$ alpha 알파\n",
    "### - $B$ $\\beta$ beta 베타\n",
    "### - $G$ $\\gamma$ gamma 감마\n",
    "### - $D$ $\\delta$ delta 델타\n",
    "### - $E$ $\\epsilon$ epsilon 엡실론\n",
    "### - $Z$ $\\zeta$ zeta 제타\n",
    "### - $E$ $\\eta$ eta 에타\n",
    "### - $\\Theta$ $\\theta$ theta 쎄타\n",
    "### - $K$ $\\kappa$ kappa 카파\n",
    "### - $\\Lambda$$\\lambda$ lambda 람다\n",
    "### - $M$ $\\mu$ mu 뮤\n",
    "### - $N$ $\\nu$ nu 누\n",
    "### - $\\Xi$ $\\xi$ xi 크싸이\n",
    "### - $\\Pi$ $ pi$ pi 파이\n",
    "### - $P$ $rho$ rho 로\n",
    "### - $\\Sigma$ $\\sigma$ sigma 시그마\n",
    "### - $T$ $tau$ tau 타우\n",
    "### - $\\Phi$ $phi$ phi 파이/피\n",
    "### - $\\Psi$ $psi$ psi 프사이\n",
    "### - $\\Omega$ $\\omega$ omega 오메가"
   ]
  },
  {
   "cell_type": "markdown",
   "metadata": {},
   "source": [
    "## 2. display\n",
    "### $$A =  \\alpha$$\n",
    "### $$B = \\beta$$\n",
    "### $$\\Gamma = \\gamma$$\n",
    "### $$\\Delta = \\delta$$ \n",
    "### $$Z = \\zeta$$\n",
    "### $$E = \\eta$$\n",
    "### $$\\Theta = \\theta$$\n",
    "### $$K = \\kappa$$\n",
    "### $$\\Lambda = \\lambda$$\n",
    "### $$M = \\mu$$\n",
    "### $$N = \\nu$$\n",
    "### $$\\Xi = \\xi$$\n",
    "### $$\\Pi = \\pi$$\n",
    "### $$P = \\rho$$\n",
    "### $$\\Sigma = \\sigma$$\n",
    "### $$T = \\tau$$\n",
    "### $$\\Phi = \\phi$$\n",
    "### $$X = \\chi$$\n",
    "### $$\\Psi = \\psi$$\n",
    "### $$\\Omega = \\omega$$"
   ]
  },
  {
   "cell_type": "code",
   "execution_count": null,
   "metadata": {},
   "outputs": [],
   "source": []
  }
 ],
 "metadata": {
  "kernelspec": {
   "display_name": "Python 3",
   "language": "python",
   "name": "python3"
  },
  "language_info": {
   "codemirror_mode": {
    "name": "ipython",
    "version": 3
   },
   "file_extension": ".py",
   "mimetype": "text/x-python",
   "name": "python",
   "nbconvert_exporter": "python",
   "pygments_lexer": "ipython3",
   "version": "3.7.4"
  }
 },
 "nbformat": 4,
 "nbformat_minor": 2
}
