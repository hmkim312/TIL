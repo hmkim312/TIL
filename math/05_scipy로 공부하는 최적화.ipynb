{
 "cells": [
  {
   "cell_type": "code",
   "execution_count": 3,
   "metadata": {},
   "outputs": [],
   "source": [
    "# 5.1 최적화 기초\n",
    "# scipy를 사용한 최적화\n",
    "# minimize(func, x0, jac=jac) jac는 옵션"
   ]
  },
  {
   "cell_type": "code",
   "execution_count": 5,
   "metadata": {},
   "outputs": [
    {
     "data": {
      "text/plain": [
       "      fun: 2.0\n",
       " hess_inv: array([[0.5]])\n",
       "      jac: array([0.])\n",
       "  message: 'Optimization terminated successfully.'\n",
       "     nfev: 9\n",
       "      nit: 2\n",
       "     njev: 3\n",
       "   status: 0\n",
       "  success: True\n",
       "        x: array([1.99999999])"
      ]
     },
     "execution_count": 5,
     "metadata": {},
     "output_type": "execute_result"
    }
   ],
   "source": [
    "def f1(x):\n",
    "    return (x-2) ** 2+2\n",
    "\n",
    "x0=0\n",
    "result = sp.optimize.minimize(f1,x0)\n",
    "result"
   ]
  },
  {
   "cell_type": "code",
   "execution_count": 8,
   "metadata": {},
   "outputs": [
    {
     "data": {
      "text/plain": [
       "      fun: 2.0\n",
       " hess_inv: array([[0.5]])\n",
       "      jac: array([0.])\n",
       "  message: 'Optimization terminated successfully.'\n",
       "     nfev: 3\n",
       "      nit: 2\n",
       "     njev: 3\n",
       "   status: 0\n",
       "  success: True\n",
       "        x: array([2.])"
      ]
     },
     "execution_count": 8,
     "metadata": {},
     "output_type": "execute_result"
    }
   ],
   "source": [
    "# f1의 도함수\n",
    "def f1p(x):\n",
    "    return 2*(x-2)\n",
    "\n",
    "x0 = 0\n",
    "result = sp.optimize.minimize(f1,x0,jac=f1p)\n",
    "result"
   ]
  },
  {
   "cell_type": "code",
   "execution_count": 9,
   "metadata": {},
   "outputs": [
    {
     "data": {
      "text/plain": [
       "      fun: 5.2112890141803265e-12\n",
       " hess_inv: array([[0.49938636, 0.99860874],\n",
       "       [0.99860874, 2.00187364]])\n",
       "      jac: array([ 7.32138760e-05, -3.35902622e-05])\n",
       "  message: 'Desired error not necessarily achieved due to precision loss.'\n",
       "     nfev: 536\n",
       "      nit: 55\n",
       "     njev: 131\n",
       "   status: 2\n",
       "  success: False\n",
       "        x: array([0.99999854, 0.9999969 ])"
      ]
     },
     "execution_count": 9,
     "metadata": {},
     "output_type": "execute_result"
    }
   ],
   "source": [
    "# 2차원 목적함수의 재정의 (벡터 입력을 받도록)\n",
    "def f2(x):\n",
    "    return (1-x[0])**2 + 100.0 * (x[1]-x[0]**2)**2\n",
    "\n",
    "x0 = (-2, -2)\n",
    "result = sp.optimize.minimize(f2, x0)\n",
    "result"
   ]
  },
  {
   "cell_type": "code",
   "execution_count": 27,
   "metadata": {},
   "outputs": [
    {
     "data": {
      "text/plain": [
       "      fun: 2.021586744279839e-11\n",
       " hess_inv: array([[0.49994401, 0.99976708],\n",
       "       [0.99976708, 2.00432672]])\n",
       "      jac: array([-2.82535239e-06,  1.39424461e-06])\n",
       "  message: 'Optimization terminated successfully.'\n",
       "     nfev: 104\n",
       "      nit: 19\n",
       "     njev: 26\n",
       "   status: 0\n",
       "  success: True\n",
       "        x: array([0.9999955 , 0.99999101])"
      ]
     },
     "execution_count": 27,
     "metadata": {},
     "output_type": "execute_result"
    }
   ],
   "source": [
    "# 5.1.1 연습문제\n",
    "# 1)\n",
    "x0 = (-0.5,-0.302)\n",
    "result = sp.optimize.minimize(f2, x0)\n",
    "result"
   ]
  },
  {
   "cell_type": "code",
   "execution_count": 52,
   "metadata": {},
   "outputs": [
    {
     "data": {
      "text/plain": [
       "(-400.0*x*(-x**2 + y) + 2*x - 2, -200.0*x**2 + 200.0*y)"
      ]
     },
     "execution_count": 52,
     "metadata": {},
     "output_type": "execute_result"
    }
   ],
   "source": [
    "# 그레이디언트 벡터 구하기 심파이로\n",
    "import sympy\n",
    "x, y= sympy.symbols('x y')\n",
    "f= (1-x)**2 + 100.0 * (y-x**2)**2\n",
    "a = sympy.diff(f,x)\n",
    "b = sympy.diff(f,y)\n",
    "a, b"
   ]
  },
  {
   "cell_type": "code",
   "execution_count": 59,
   "metadata": {},
   "outputs": [
    {
     "data": {
      "text/plain": [
       "      fun: 7.717288542643934e-13\n",
       " hess_inv: array([[0.49480256, 0.98953879],\n",
       "       [0.98953879, 1.98387918]])\n",
       "      jac: array([ 3.92841203e-06, -2.83120875e-06])\n",
       "  message: 'Optimization terminated successfully.'\n",
       "     nfev: 24\n",
       "      nit: 19\n",
       "     njev: 24\n",
       "   status: 0\n",
       "  success: True\n",
       "        x: array([0.99999913, 0.99999825])"
      ]
     },
     "execution_count": 59,
     "metadata": {},
     "output_type": "execute_result"
    }
   ],
   "source": [
    "# 2) 그레디언트 벡터를 함수로 작성, x = x[0], y = x[1]\n",
    "def f2g(x):\n",
    "    return np.array([-400 *x[0]*(-x[0]**2+x[1])+2*x[0]-2, -200*x[0]**2+200*x[1]])\n",
    "x0 = (0,0)\n",
    "result = sp.optimize.minimize(f2, x0, jac = f2g)\n",
    "result"
   ]
  },
  {
   "cell_type": "code",
   "execution_count": 60,
   "metadata": {},
   "outputs": [],
   "source": [
    "# 5.2 제한조건이 있는 최적화 문제"
   ]
  },
  {
   "cell_type": "code",
   "execution_count": null,
   "metadata": {},
   "outputs": [],
   "source": []
  },
  {
   "cell_type": "code",
   "execution_count": null,
   "metadata": {},
   "outputs": [],
   "source": []
  }
 ],
 "metadata": {
  "kernelspec": {
   "display_name": "Python 3",
   "language": "python",
   "name": "python3"
  },
  "language_info": {
   "codemirror_mode": {
    "name": "ipython",
    "version": 3
   },
   "file_extension": ".py",
   "mimetype": "text/x-python",
   "name": "python",
   "nbconvert_exporter": "python",
   "pygments_lexer": "ipython3",
   "version": "3.7.4"
  }
 },
 "nbformat": 4,
 "nbformat_minor": 2
}
