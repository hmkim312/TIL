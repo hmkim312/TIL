{
 "cells": [
  {
   "cell_type": "code",
   "execution_count": 2,
   "metadata": {},
   "outputs": [],
   "source": [
    "# 5.1 최적화 기초\n",
    "# scipy를 사용한 최적화\n",
    "# minimize(func, x0, jac=jac) jac는 옵션"
   ]
  },
  {
   "cell_type": "code",
   "execution_count": 3,
   "metadata": {},
   "outputs": [
    {
     "data": {
      "text/plain": [
       "      fun: 2.0\n",
       " hess_inv: array([[0.5]])\n",
       "      jac: array([0.])\n",
       "  message: 'Optimization terminated successfully.'\n",
       "     nfev: 9\n",
       "      nit: 2\n",
       "     njev: 3\n",
       "   status: 0\n",
       "  success: True\n",
       "        x: array([1.99999999])"
      ]
     },
     "execution_count": 3,
     "metadata": {},
     "output_type": "execute_result"
    }
   ],
   "source": [
    "def f1(x):\n",
    "    return (x-2) ** 2+2\n",
    "\n",
    "\n",
    "x0 = 0\n",
    "result = sp.optimize.minimize(f1, x0)\n",
    "result"
   ]
  },
  {
   "cell_type": "code",
   "execution_count": 8,
   "metadata": {},
   "outputs": [
    {
     "data": {
      "text/plain": [
       "      fun: 2.0\n",
       " hess_inv: array([[0.5]])\n",
       "      jac: array([0.])\n",
       "  message: 'Optimization terminated successfully.'\n",
       "     nfev: 3\n",
       "      nit: 2\n",
       "     njev: 3\n",
       "   status: 0\n",
       "  success: True\n",
       "        x: array([2.])"
      ]
     },
     "execution_count": 8,
     "metadata": {},
     "output_type": "execute_result"
    }
   ],
   "source": [
    "# f1의 도함수\n",
    "def f1p(x):\n",
    "    return 2*(x-2)\n",
    "\n",
    "\n",
    "x0 = 0\n",
    "result = sp.optimize.minimize(f1, x0, jac=f1p)\n",
    "result"
   ]
  },
  {
   "cell_type": "code",
   "execution_count": 9,
   "metadata": {},
   "outputs": [
    {
     "data": {
      "text/plain": [
       "      fun: 5.2112890141803265e-12\n",
       " hess_inv: array([[0.49938636, 0.99860874],\n",
       "       [0.99860874, 2.00187364]])\n",
       "      jac: array([ 7.32138760e-05, -3.35902622e-05])\n",
       "  message: 'Desired error not necessarily achieved due to precision loss.'\n",
       "     nfev: 536\n",
       "      nit: 55\n",
       "     njev: 131\n",
       "   status: 2\n",
       "  success: False\n",
       "        x: array([0.99999854, 0.9999969 ])"
      ]
     },
     "execution_count": 9,
     "metadata": {},
     "output_type": "execute_result"
    }
   ],
   "source": [
    "# 2차원 목적함수의 재정의 (벡터 입력을 받도록)\n",
    "def f2(x):\n",
    "    return (1-x[0])**2 + 100.0 * (x[1]-x[0]**2)**2\n",
    "\n",
    "\n",
    "x0 = (-2, -2)\n",
    "result = sp.optimize.minimize(f2, x0)\n",
    "result"
   ]
  },
  {
   "cell_type": "code",
   "execution_count": 27,
   "metadata": {},
   "outputs": [
    {
     "data": {
      "text/plain": [
       "      fun: 2.021586744279839e-11\n",
       " hess_inv: array([[0.49994401, 0.99976708],\n",
       "       [0.99976708, 2.00432672]])\n",
       "      jac: array([-2.82535239e-06,  1.39424461e-06])\n",
       "  message: 'Optimization terminated successfully.'\n",
       "     nfev: 104\n",
       "      nit: 19\n",
       "     njev: 26\n",
       "   status: 0\n",
       "  success: True\n",
       "        x: array([0.9999955 , 0.99999101])"
      ]
     },
     "execution_count": 27,
     "metadata": {},
     "output_type": "execute_result"
    }
   ],
   "source": [
    "# 5.1.1 연습문제\n",
    "# 1)\n",
    "x0 = (-0.5, -0.302)\n",
    "result = sp.optimize.minimize(f2, x0)\n",
    "result"
   ]
  },
  {
   "cell_type": "code",
   "execution_count": 52,
   "metadata": {},
   "outputs": [
    {
     "data": {
      "text/plain": [
       "(-400.0*x*(-x**2 + y) + 2*x - 2, -200.0*x**2 + 200.0*y)"
      ]
     },
     "execution_count": 52,
     "metadata": {},
     "output_type": "execute_result"
    }
   ],
   "source": [
    "# 그레이디언트 벡터 구하기 심파이로\n",
    "import sympy\n",
    "x, y = sympy.symbols('x y')\n",
    "f = (1-x)**2 + 100.0 * (y-x**2)**2\n",
    "a = sympy.diff(f, x)\n",
    "b = sympy.diff(f, y)\n",
    "a, b"
   ]
  },
  {
   "cell_type": "code",
   "execution_count": 59,
   "metadata": {},
   "outputs": [
    {
     "data": {
      "text/plain": [
       "      fun: 7.717288542643934e-13\n",
       " hess_inv: array([[0.49480256, 0.98953879],\n",
       "       [0.98953879, 1.98387918]])\n",
       "      jac: array([ 3.92841203e-06, -2.83120875e-06])\n",
       "  message: 'Optimization terminated successfully.'\n",
       "     nfev: 24\n",
       "      nit: 19\n",
       "     njev: 24\n",
       "   status: 0\n",
       "  success: True\n",
       "        x: array([0.99999913, 0.99999825])"
      ]
     },
     "execution_count": 59,
     "metadata": {},
     "output_type": "execute_result"
    }
   ],
   "source": [
    "# 2) 그레디언트 벡터를 함수로 작성, x = x[0], y = x[1]\n",
    "def f2g(x):\n",
    "    return np.array([-400 * x[0]*(-x[0]**2+x[1])+2*x[0]-2, -200*x[0]**2+200*x[1]])\n",
    "\n",
    "\n",
    "x0 = (0, 0)\n",
    "result = sp.optimize.minimize(f2, x0, jac=f2g)\n",
    "result"
   ]
  },
  {
   "cell_type": "code",
   "execution_count": 60,
   "metadata": {},
   "outputs": [],
   "source": [
    "# 5.2 제한조건이 있는 최적화 문제"
   ]
  },
  {
   "cell_type": "code",
   "execution_count": 2,
   "metadata": {},
   "outputs": [
    {
     "name": "stdout",
     "output_type": "stream",
     "text": [
      "Optimization terminated successfully.    (Exit mode 0)\n",
      "            Current function value: 0.5000000000000002\n",
      "            Iterations: 2\n",
      "            Function evaluations: 8\n",
      "            Gradient evaluations: 2\n"
     ]
    },
    {
     "data": {
      "text/plain": [
       "array([0.5, 0.5])"
      ]
     },
     "execution_count": 2,
     "metadata": {},
     "output_type": "execute_result"
    }
   ],
   "source": [
    "# 사이파이를 사용하여 등식제한조건이있는 최적화 문제 계산하기\n",
    "# fmin_slsqp(func_objective, x0, eqcons = [func_constraint1,func_constraint2])\n",
    "# func_objective = 목적함수\n",
    "# x0 = 초기값\n",
    "# func_constraint = 제한조건 함수\n",
    "\n",
    "\n",
    "def f1array(x):\n",
    "    return x[0] ** 2 + x[1] ** 2\n",
    "\n",
    "\n",
    "def eq_constraint(x):\n",
    "    return x[0] + x[1] - 1\n",
    "\n",
    "\n",
    "sp.optimize.fmin_slsqp(f1array, np.array([1, 1]), eqcons=[eq_constraint])"
   ]
  },
  {
   "cell_type": "code",
   "execution_count": 4,
   "metadata": {},
   "outputs": [
    {
     "name": "stdout",
     "output_type": "stream",
     "text": [
      "Optimization terminated successfully.    (Exit mode 0)\n",
      "            Current function value: 3.605551280732028\n",
      "            Iterations: 11\n",
      "            Function evaluations: 77\n",
      "            Gradient evaluations: 11\n"
     ]
    },
    {
     "data": {
      "text/plain": [
       "array([9.99999981e-01, 1.89941792e-08])"
      ]
     },
     "execution_count": 4,
     "metadata": {},
     "output_type": "execute_result"
    }
   ],
   "source": [
    "# 사이파이를 사용하여 부등식제한조건이있는 최적화 문제 계산하기\n",
    "# fmin_slsqp(func_objective, x0, eqcons = [func_constraint1,func_constraint2])\n",
    "# func_objective = 목적함수\n",
    "# x0 = 초기값\n",
    "# ieqcons = [func_constraint] = 제한조건 함수\n",
    "# 부등호는 g >= 0\n",
    "\n",
    "\n",
    "def f2(x):\n",
    "    return np.sqrt((x[0]-4)**2+(x[1]-2)**2)\n",
    "\n",
    "\n",
    "# 제한조건 상수\n",
    "k = 1\n",
    "\n",
    "\n",
    "def ieq_constrait(x):\n",
    "    return np.atleast_1d(k - np.sum(np.abs(x)))\n",
    "\n",
    "\n",
    "sp.optimize.fmin_slsqp(f2, np.array([0, 0]), ieqcons=[ieq_constrait])"
   ]
  },
  {
   "cell_type": "code",
   "execution_count": 4,
   "metadata": {},
   "outputs": [
    {
     "name": "stdout",
     "output_type": "stream",
     "text": [
      "Optimization terminated successfully.    (Exit mode 0)\n",
      "            Current function value: 2.1213203438762323\n",
      "            Iterations: 6\n",
      "            Function evaluations: 24\n",
      "            Gradient evaluations: 6\n"
     ]
    },
    {
     "data": {
      "text/plain": [
       "array([2.4999741, 0.5000259])"
      ]
     },
     "execution_count": 4,
     "metadata": {},
     "output_type": "execute_result"
    }
   ],
   "source": [
    "# 연습문제 5.2.4\n",
    "def f2(x):\n",
    "    return np.sqrt((x[0]-4)**2 + (x[1]-2)**2)\n",
    "\n",
    "# 제한조건 상수\n",
    "k = 3\n",
    "def ieq_constraint(x):\n",
    "    return np.atleast_1d(k-np.sum(np.abs(x)))\n",
    "\n",
    "sp.optimize.fmin_slsqp(f2, np.array([0,0]), ieqcons=[ieq_constraint])"
   ]
  },
  {
   "cell_type": "code",
   "execution_count": 10,
   "metadata": {},
   "outputs": [
    {
     "data": {
      "text/plain": [
       "     con: array([], dtype=float64)\n",
       "     fun: -1399.999994807384\n",
       " message: 'Optimization terminated successfully.'\n",
       "     nit: 6\n",
       "   slack: array([1.99999991e+02, 4.19920389e-06, 3.31137414e-07, 8.10000001e+03])\n",
       "  status: 0\n",
       " success: True\n",
       "       x: array([299.99999127, 100.0000042 ])"
      ]
     },
     "execution_count": 10,
     "metadata": {},
     "output_type": "execute_result"
    }
   ],
   "source": [
    "# 5.3 선형계획법 문제와 이차계획법 문제\n",
    "# 제품 A와 제품B를 각 100개 이상 생산\n",
    "# 시간은 500시간\n",
    "# 제품 A는 생산 1시간, 제품B는 2시간\n",
    "# 부품은 9800개\n",
    "# 제품 A는 부품 4개, 제품B는 부품 5개\n",
    "# 제품 A는 3만원이익 제품B는 5만원 이익\n",
    "\n",
    "A = np.array([[-1, 0], [0, -1], [1, 2], [4, 5]])  # x 앞의 조건\n",
    "b = np.array([-100, -100, 500, 9800])  # 조건\n",
    "c = np.array([-3, -5])  # x의 이익\n",
    "\n",
    "result = sp.optimize.linprog(c, A, b)\n",
    "result"
   ]
  },
  {
   "cell_type": "code",
   "execution_count": 5,
   "metadata": {},
   "outputs": [
    {
     "data": {
      "text/plain": [
       "('optimal', array(300.), array(100.))"
      ]
     },
     "execution_count": 5,
     "metadata": {},
     "output_type": "execute_result"
    }
   ],
   "source": [
    "# CVXPY를 이용한 선형 계획법 계산\n",
    "import cvxpy as cp\n",
    "\n",
    "# 변수의 정의 -> 심볼릭 연산을 함\n",
    "a = cp.Variable()  # a의 생산량\n",
    "b = cp.Variable()  # b의 생산량\n",
    "\n",
    "# 조건의 정의\n",
    "\n",
    "constraints = [\n",
    "    a >= 100,  # 제품a를 100개이상 생산\n",
    "    b >= 100,  # 제품b를 100개이상 생산\n",
    "    a + 2 * b <= 500,  # 500시간 이내에 생산\n",
    "    4 * a + 5 * b <= 9800  # 부품은 9800개\n",
    "]\n",
    "\n",
    "# 문제의 정의\n",
    "\n",
    "obj = cp.Maximize(3 * a + 5 * b)  # 해당의 최대화\n",
    "prob = cp.Problem(obj, constraints)\n",
    "\n",
    "# 계산\n",
    "\n",
    "prob.solve()\n",
    "\n",
    "# 결과\n",
    "prob.status, a.value, b.value"
   ]
  },
  {
   "cell_type": "code",
   "execution_count": 10,
   "metadata": {},
   "outputs": [
    {
     "data": {
      "text/plain": [
       "array([[0.5],\n",
       "       [0.5]])"
      ]
     },
     "execution_count": 10,
     "metadata": {},
     "output_type": "execute_result"
    }
   ],
   "source": [
    "# 이차 계획법 문제\n",
    "# cvxopt를 이용한 이차계획법 문제 계산\n",
    "from cvxopt import matrix, solvers\n",
    "\n",
    "Q = matrix(np.diag([2.0, 2.0]))  # np.array 대신 matrix를, 숫자는 실수로\n",
    "c = matrix(np.array([0.0, 0.0]))\n",
    "A = matrix(np.array([[1.0, 1.0]]))\n",
    "b = matrix(np.array([[1.0]]))\n",
    "\n",
    "sol = solvers.qp(Q, c, A=A, b=b)\n",
    "np.array(sol['x'])"
   ]
  }
 ],
 "metadata": {
  "kernelspec": {
   "display_name": "Python 3",
   "language": "python",
   "name": "python3"
  },
  "language_info": {
   "codemirror_mode": {
    "name": "ipython",
    "version": 3
   },
   "file_extension": ".py",
   "mimetype": "text/x-python",
   "name": "python",
   "nbconvert_exporter": "python",
   "pygments_lexer": "ipython3",
   "version": "3.7.4"
  }
 },
 "nbformat": 4,
 "nbformat_minor": 2
}
