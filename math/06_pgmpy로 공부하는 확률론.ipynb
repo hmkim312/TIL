{
 "cells": [
  {
   "cell_type": "code",
   "execution_count": 5,
   "metadata": {},
   "outputs": [
    {
     "data": {
      "text/plain": [
       "{1, 2, 3, 4, 5, 6}"
      ]
     },
     "execution_count": 5,
     "metadata": {},
     "output_type": "execute_result"
    }
   ],
   "source": [
    "# 6.1 집합\n",
    "A = set([1, 2, 2, 3, 4, 5, 6])  # set은 중복된 원소를 삭제함\n",
    "A"
   ]
  },
  {
   "cell_type": "code",
   "execution_count": 6,
   "metadata": {},
   "outputs": [
    {
     "data": {
      "text/plain": [
       "frozenset({'H', 'T'})"
      ]
     },
     "execution_count": 6,
     "metadata": {},
     "output_type": "execute_result"
    }
   ],
   "source": [
    "B = frozenset(['H', 'T'])\n",
    "B"
   ]
  },
  {
   "cell_type": "code",
   "execution_count": 8,
   "metadata": {},
   "outputs": [
    {
     "data": {
      "text/plain": [
       "{'♠', '♡', '♢', '♣'}"
      ]
     },
     "execution_count": 8,
     "metadata": {},
     "output_type": "execute_result"
    }
   ],
   "source": [
    "C = {'\\u2660', '\\u2661', '\\u2662', '\\u2663'}\n",
    "C"
   ]
  },
  {
   "cell_type": "code",
   "execution_count": 10,
   "metadata": {},
   "outputs": [
    {
     "data": {
      "text/plain": [
       "set"
      ]
     },
     "execution_count": 10,
     "metadata": {},
     "output_type": "execute_result"
    }
   ],
   "source": [
    "type(C)"
   ]
  },
  {
   "cell_type": "code",
   "execution_count": 11,
   "metadata": {},
   "outputs": [],
   "source": [
    "# 집합의 크기"
   ]
  },
  {
   "cell_type": "code",
   "execution_count": 13,
   "metadata": {},
   "outputs": [
    {
     "data": {
      "text/plain": [
       "(6, 2, 4)"
      ]
     },
     "execution_count": 13,
     "metadata": {},
     "output_type": "execute_result"
    }
   ],
   "source": [
    "# len으로 집합의 크기를 확인함\n",
    "len(A), len(B), len(C)"
   ]
  },
  {
   "cell_type": "code",
   "execution_count": 17,
   "metadata": {},
   "outputs": [],
   "source": [
    "# 합집합과 교집합\n",
    "# union, intersection\n",
    "\n",
    "A1 = set([1, 2, 3, 4])\n",
    "A2 = set([2, 3, 4])\n",
    "A3 = set([1, 2, 3])\n",
    "A4 = set([2, 3, 4, 5, 6])"
   ]
  },
  {
   "cell_type": "code",
   "execution_count": 18,
   "metadata": {},
   "outputs": [
    {
     "data": {
      "text/plain": [
       "{1, 2, 3, 4}"
      ]
     },
     "execution_count": 18,
     "metadata": {},
     "output_type": "execute_result"
    }
   ],
   "source": [
    "A1.union(A2)"
   ]
  },
  {
   "cell_type": "code",
   "execution_count": 19,
   "metadata": {},
   "outputs": [
    {
     "data": {
      "text/plain": [
       "{1, 2, 3, 4}"
      ]
     },
     "execution_count": 19,
     "metadata": {},
     "output_type": "execute_result"
    }
   ],
   "source": [
    "A | B"
   ]
  },
  {
   "cell_type": "code",
   "execution_count": 20,
   "metadata": {},
   "outputs": [
    {
     "data": {
      "text/plain": [
       "{2, 3}"
      ]
     },
     "execution_count": 20,
     "metadata": {},
     "output_type": "execute_result"
    }
   ],
   "source": [
    "A3.intersection(A4)"
   ]
  },
  {
   "cell_type": "code",
   "execution_count": 21,
   "metadata": {},
   "outputs": [
    {
     "data": {
      "text/plain": [
       "{2, 3}"
      ]
     },
     "execution_count": 21,
     "metadata": {},
     "output_type": "execute_result"
    }
   ],
   "source": [
    "A4 & A3"
   ]
  },
  {
   "cell_type": "code",
   "execution_count": null,
   "metadata": {},
   "outputs": [],
   "source": []
  },
  {
   "cell_type": "code",
   "execution_count": 31,
   "metadata": {},
   "outputs": [
    {
     "data": {
      "text/plain": [
       "(frozenset(),\n",
       " frozenset({'HH'}),\n",
       " frozenset({'HH'}),\n",
       " frozenset({'HT'}),\n",
       " frozenset({'TH'}),\n",
       " frozenset({'TT'}),\n",
       " frozenset({'HH', 'HT'}),\n",
       " frozenset({'HH', 'TH'}),\n",
       " frozenset({'HH', 'TT'}),\n",
       " frozenset({'HT', 'TH'}),\n",
       " frozenset({'HT', 'TT'}),\n",
       " frozenset({'TH', 'TT'}),\n",
       " frozenset({'HH', 'HT', 'TH'}),\n",
       " frozenset({'HH', 'TH', 'TT'}),\n",
       " frozenset({'HT', 'TH', 'TT'}),\n",
       " frozenset({'HH', 'HT', 'TT'}),\n",
       " frozenset({'HH', 'HT', 'TH', 'TT'}))"
      ]
     },
     "execution_count": 31,
     "metadata": {},
     "output_type": "execute_result"
    }
   ],
   "source": [
    "# 연습문제 6.1.1\n",
    "# 2)\n",
    "A1 = frozenset()\n",
    "A2 = frozenset({\"HH\"})\n",
    "A3 = frozenset({\"HT\"})\n",
    "A4 = frozenset({\"TH\"})\n",
    "A5 = frozenset({\"TT\"})\n",
    "A6 = frozenset({\"HH\", \"HT\"})\n",
    "A7 = frozenset({\"HH\", \"TH\"})\n",
    "A8 = frozenset({\"HH\", \"TT\"})\n",
    "A9 = frozenset({\"HT\", \"TH\"})\n",
    "A10 = frozenset({\"HT\", \"TT\"})\n",
    "A11 = frozenset({\"TH\", \"TT\"})\n",
    "A12 = frozenset({\"HH\", \"HT\", \"TH\"})\n",
    "A13 = frozenset({\"HH\", \"TH\", \"TT\"})\n",
    "A14 = frozenset({\"HT\", \"TH\", \"TT\"})\n",
    "A15 = frozenset({\"HH\", \"HT\", \"TT\"})\n",
    "A16 = frozenset({\"HH\", \"HT\", \"TH\", \"TT\"})\n",
    "set = (A1, A2, A2, A3, A4, A5, A6, A7, A8,\n",
    "       A9, A10, A11, A12, A13, A14, A15, A16)\n",
    "set"
   ]
  },
  {
   "cell_type": "code",
   "execution_count": 27,
   "metadata": {},
   "outputs": [
    {
     "data": {
      "text/plain": [
       "True"
      ]
     },
     "execution_count": 27,
     "metadata": {},
     "output_type": "execute_result"
    }
   ],
   "source": [
    "# 연습문제 6.1.2\n",
    "A = {1, 3, 5}\n",
    "B = {1, 2, 3}\n",
    "C = {2, 4, 6}\n",
    "\n",
    "A | (B & C) == (A | B) & (A | C)"
   ]
  },
  {
   "cell_type": "code",
   "execution_count": 26,
   "metadata": {},
   "outputs": [
    {
     "data": {
      "text/plain": [
       "True"
      ]
     },
     "execution_count": 26,
     "metadata": {},
     "output_type": "execute_result"
    }
   ],
   "source": [
    "A & (B | C) == (A & B) | (A & C)"
   ]
  },
  {
   "cell_type": "code",
   "execution_count": null,
   "metadata": {},
   "outputs": [],
   "source": []
  }
 ],
 "metadata": {
  "kernelspec": {
   "display_name": "Python 3",
   "language": "python",
   "name": "python3"
  },
  "language_info": {
   "codemirror_mode": {
    "name": "ipython",
    "version": 3
   },
   "file_extension": ".py",
   "mimetype": "text/x-python",
   "name": "python",
   "nbconvert_exporter": "python",
   "pygments_lexer": "ipython3",
   "version": "3.7.4"
  }
 },
 "nbformat": 4,
 "nbformat_minor": 2
}
