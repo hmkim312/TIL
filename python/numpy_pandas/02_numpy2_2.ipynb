{
 "cells": [
  {
   "cell_type": "markdown",
   "metadata": {},
   "source": [
    "### summary\n",
    "- numpy : 선형대수를 빠르게 연산해주는 패키지\n",
    "- 행렬의 생성 1 : ndarray data 타입으로 생성 (np.array, iteralbe)\n",
    "- 헹렬의 생성 2 : ones(항등행렬), zeros(영행렬)\n",
    "- 행렬 데이터 선택 : array[x,y,z] 바깥쪽 차원부터 안쪽 차원으로 선택\n",
    "- 행렬 데이터 수정\n",
    "    - 행렬 데이터를 선택 후\n",
    "    - =, >(할당연산자) 값(scala, vector, matrix)\n",
    "    - 브로드 캐스팅 개념 : 3x3 행렬 * 3x1 벡터는 벡터와 행렬이 인덱스에맞게 연산됨\n",
    "- arange : list에서 사용하는 range와 같으나, 결과가 ndarray 타입으로 생성됨"
   ]
  },
  {
   "cell_type": "markdown",
   "metadata": {},
   "source": [
    "### Quiz \n",
    "- 100 ~ 130까지 랜덤한 숫자를 가지는  8 * 8 행렬을 만들고,\n",
    "- 3의 배수는 fiz, 5의 배수는 buz, 3과 5의 배수는 fbz 문자로 변환\n",
    "- 랜덤 행렬 데이터 생성\n",
    "\n",
    "```\n",
    "datas = np.random.randint(100,130, size=(8,8))\n",
    "```\n",
    "\n",
    "- 데이터 타입이 정수이므로 문자열로 바꿔줘야함(ndarray.astype())"
   ]
  },
  {
   "cell_type": "code",
   "execution_count": 17,
   "metadata": {},
   "outputs": [],
   "source": [
    "datas = np.random.randint(100,130, size=(8,8))"
   ]
  },
  {
   "cell_type": "code",
   "execution_count": 24,
   "metadata": {},
   "outputs": [
    {
     "data": {
      "text/plain": [
       "array([1, 3])"
      ]
     },
     "execution_count": 24,
     "metadata": {},
     "output_type": "execute_result"
    }
   ],
   "source": [
    "data1 = np.array([1, 2, 3])\n",
    "data2 = [True, False, True]\n",
    "data1[data2] # True만 남음"
   ]
  },
  {
   "cell_type": "code",
   "execution_count": 36,
   "metadata": {},
   "outputs": [
    {
     "data": {
      "text/plain": [
       "array([['107', '124', 'fiz', '118', 'fbz', 'fiz', 'fiz', 'fiz'],\n",
       "       ['fiz', '113', '119', 'buz', 'fiz', '119', '128', '112'],\n",
       "       ['fiz', 'buz', 'fiz', '107', '124', 'buz', '127', '112'],\n",
       "       ['104', '127', '109', 'fbz', '112', '103', 'buz', 'fiz'],\n",
       "       ['118', '127', 'fiz', '119', '106', 'buz', 'buz', '124'],\n",
       "       ['104', 'fbz', 'fiz', 'fiz', 'fbz', '109', '106', '128'],\n",
       "       ['buz', '116', '122', 'buz', '113', '121', '128', '104'],\n",
       "       ['106', 'fbz', 'fiz', 'fiz', 'fiz', 'buz', 'fbz', '104']],\n",
       "      dtype='<U11')"
      ]
     },
     "execution_count": 36,
     "metadata": {},
     "output_type": "execute_result"
    }
   ],
   "source": [
    "# 3의배수, 5의배수, 15의 배수 위치값에 대한 True, False matrix 생성\n",
    "idx3 = datas % 3 == 0\n",
    "idx5 = datas % 5 == 0\n",
    "idx15 = datas % 15 == 0\n",
    "\n",
    "# 데이터의 타입을 str로 변환\n",
    "result = datas.astype(\"str\")\n",
    "# True, False matrix를 이용하여 특정 조건의 데이터를 선택 후 브로드 캐스팅하게 값을 대입\n",
    "result[idx3] = \"fiz\"\n",
    "result[idx5] = \"buz\"\n",
    "result[idx15] = \"fbz\"\n",
    "result"
   ]
  },
  {
   "cell_type": "markdown",
   "metadata": {},
   "source": [
    "### Quiz\n",
    "- 1 ~ 20까지 랜덤한 숫자를 가지는 5 * 5행렬 생성\n",
    "- 최대값에는 MAX, 최소값에는 MIN 문자열이 들어가도록 치환하는 코드\n",
    "- 최대값과 최소값 함수는\n",
    "```\n",
    "np.min(ndarray), np.max(ndarray)\n",
    "```"
   ]
  },
  {
   "cell_type": "code",
   "execution_count": 41,
   "metadata": {},
   "outputs": [
    {
     "data": {
      "text/plain": [
       "array([[13, 14,  2, 16, 19],\n",
       "       [ 7,  2, 11,  3, 10],\n",
       "       [ 7, 14,  4, 10,  9],\n",
       "       [ 1,  6, 15, 19, 19],\n",
       "       [18,  6,  4,  9,  8]])"
      ]
     },
     "execution_count": 41,
     "metadata": {},
     "output_type": "execute_result"
    }
   ],
   "source": [
    "datas = np.random.randint(1,20, (5,5))\n",
    "datas"
   ]
  },
  {
   "cell_type": "code",
   "execution_count": 42,
   "metadata": {},
   "outputs": [
    {
     "data": {
      "text/plain": [
       "(1, 19)"
      ]
     },
     "execution_count": 42,
     "metadata": {},
     "output_type": "execute_result"
    }
   ],
   "source": [
    "#min_num, max_num 찾기\n",
    "min_num, max_num = np.min(datas), np.max(datas)\n",
    "min_num, max_num"
   ]
  },
  {
   "cell_type": "code",
   "execution_count": 58,
   "metadata": {},
   "outputs": [
    {
     "data": {
      "text/plain": [
       "array([['13', '14', '2', '16', 'max'],\n",
       "       ['7', '2', '11', '3', '10'],\n",
       "       ['7', '14', '4', '10', '9'],\n",
       "       ['min', '6', '15', 'max', 'max'],\n",
       "       ['18', '6', '4', '9', '8']], dtype='<U11')"
      ]
     },
     "execution_count": 58,
     "metadata": {},
     "output_type": "execute_result"
    }
   ],
   "source": [
    "idx_min = datas == min_num # min을 True로 변환하여 해당 위치를 idx_ min에 저장함\n",
    "idx_max = datas == max_num # max을 True로 변환하여 해당 위치를 idx_ max에 저장함\n",
    "result = datas.astype(\"str\") # result로 저장해주어야 함 astype는 저장기능이없음\n",
    "result[idx_min] = \"min\"\n",
    "result[idx_max] = \"max\"\n",
    "result"
   ]
  },
  {
   "cell_type": "markdown",
   "metadata": {},
   "source": [
    "### 1. inspace, logspace\n",
    "- linsapce(선형적으로 데이터 자름) : 설정한 범위에서 선형적으로 분할한 위치의 값을 출력\n",
    "- logsapce(로그로 데이터를 자름) : 설정한 범위에서 로그로 분할한 위치의 값을 출력"
   ]
  },
  {
   "cell_type": "code",
   "execution_count": 61,
   "metadata": {},
   "outputs": [
    {
     "data": {
      "text/plain": [
       "array([  0.,  25.,  50.,  75., 100.])"
      ]
     },
     "execution_count": 61,
     "metadata": {},
     "output_type": "execute_result"
    }
   ],
   "source": [
    "# linspace\n",
    "np.linspace(0, 100, 5) # start, stop, num 순서"
   ]
  },
  {
   "cell_type": "code",
   "execution_count": 64,
   "metadata": {},
   "outputs": [
    {
     "data": {
      "text/plain": [
       "array([  100.,  1000., 10000.])"
      ]
     },
     "execution_count": 64,
     "metadata": {},
     "output_type": "execute_result"
    }
   ],
   "source": [
    "# logspace\n",
    "# log10(x1) = 2, log10(x2) = 3, log10(x3) = 4 지수함수 그래프가 그려짐\n",
    "np.logspace(2, 4, 3) # x1, x2, x3 순서"
   ]
  },
  {
   "cell_type": "code",
   "execution_count": 65,
   "metadata": {},
   "outputs": [],
   "source": [
    "# 30세에 연봉이 $100000 이고 60세의 연봉이 & 1000000 일때\n",
    "# 연봉이 선형으로 증가, 지수함수로 증가하는 두 경우에서의 40세, 50세 연봉을 출력"
   ]
  },
  {
   "cell_type": "code",
   "execution_count": 67,
   "metadata": {},
   "outputs": [],
   "source": [
    "age_30 = 100000\n",
    "age_60 = 10000000"
   ]
  },
  {
   "cell_type": "code",
   "execution_count": 68,
   "metadata": {},
   "outputs": [
    {
     "data": {
      "text/plain": [
       "array([  100000.,  3400000.,  6700000., 10000000.])"
      ]
     },
     "execution_count": 68,
     "metadata": {},
     "output_type": "execute_result"
    }
   ],
   "source": [
    "# 선형으로 증가\n",
    "np.linspace(age_30,age_60, 4)"
   ]
  },
  {
   "cell_type": "code",
   "execution_count": 69,
   "metadata": {},
   "outputs": [
    {
     "data": {
      "text/plain": [
       "array([  100000.        ,   464158.88336128,  2154434.69003188,\n",
       "       10000000.        ])"
      ]
     },
     "execution_count": 69,
     "metadata": {},
     "output_type": "execute_result"
    }
   ],
   "source": [
    "# 지수함수로 증가하는 경우\n",
    "np.logspace(np.log10(age_30), np.log10(age_60),4)"
   ]
  },
  {
   "cell_type": "markdown",
   "metadata": {},
   "source": [
    "### 2. numpy random - 마지막 숫자가 들어가지 않음\n",
    "- seed : 랜덤값을 설정하는 값 (똑같이 섞음)\n",
    "- rand : 균등분포로 난수를 발행 (뽑힐 확률이 동일함 주사위 눈)\n",
    "- randn : 정규분포로 난수를 발행 (종모양, 0에서 가까운 데이터가 생성될 확률이 높음, 특이값)\n",
    "- randint : 균등분포로 정수값을 발생\n",
    "- suffle : 행렬 데이터를 섞어줌\n",
    "- choice : 특정 확률로 데이터를 선택"
   ]
  },
  {
   "cell_type": "code",
   "execution_count": 71,
   "metadata": {},
   "outputs": [
    {
     "data": {
      "text/plain": [
       "(array([47, 22, 82, 19, 85, 15, 89, 74, 26, 11]),\n",
       " array([47, 22, 82, 19, 85, 15, 89, 74, 26, 11]),\n",
       " array([50, 25, 82, 32, 53, 92, 85, 17, 44, 59]))"
      ]
     },
     "execution_count": 71,
     "metadata": {},
     "output_type": "execute_result"
    }
   ],
   "source": [
    "# seed\n",
    "np.random.seed(1) # numpy 객체의 seed값을 1로 설정함\n",
    "result1 = np.random.randint(10, 100, 10)\n",
    "\n",
    "np.random.seed(1) # numpy 객체의 seed값을 1로 설정함\n",
    "result2 = np.random.randint(10, 100, 10)\n",
    "\n",
    "np.random.seed(2) # numpy 객체의 seed값을 3로 설정함\n",
    "result3 = np.random.randint(10, 100, 10)\n",
    "\n",
    "result1, result2, result3"
   ]
  },
  {
   "cell_type": "code",
   "execution_count": 73,
   "metadata": {},
   "outputs": [
    {
     "data": {
      "text/plain": [
       "array([0.85397529, 0.49423684, 0.84656149, 0.07964548, 0.50524609,\n",
       "       0.0652865 , 0.42812233, 0.09653092, 0.12715997, 0.59674531])"
      ]
     },
     "execution_count": 73,
     "metadata": {},
     "output_type": "execute_result"
    }
   ],
   "source": [
    "# rand\n",
    "# 0  ~ 1 까지의 숫자가 10으로 나눈 범위 (ex :0.0 ~ 0.1)에서 비슷한 갯수로(확률) 뽑힘\n",
    "np.random.rand(10) "
   ]
  },
  {
   "cell_type": "code",
   "execution_count": 74,
   "metadata": {},
   "outputs": [
    {
     "data": {
      "text/plain": [
       "array([-0.33882197, -0.23618403, -0.63765501, -1.18761229, -1.42121723,\n",
       "       -0.1534952 , -0.26905696,  2.23136679, -2.43476758,  0.1127265 ])"
      ]
     },
     "execution_count": 74,
     "metadata": {},
     "output_type": "execute_result"
    }
   ],
   "source": [
    "# randn\n",
    "# -1 ~ 1사이 숫자가 생성되며, 0에 가까운 수가 많이 생성됨 == 정규분포를 따름\n",
    "np.random.randn(10)"
   ]
  },
  {
   "cell_type": "code",
   "execution_count": 79,
   "metadata": {},
   "outputs": [
    {
     "data": {
      "text/plain": [
       "array([[6, 9, 4, 1],\n",
       "       [1, 6, 8, 6],\n",
       "       [1, 9, 7, 6]])"
      ]
     },
     "execution_count": 79,
     "metadata": {},
     "output_type": "execute_result"
    }
   ],
   "source": [
    "# shuffle\n",
    "r = np.random.randint(1, 10, (3, 4))\n",
    "r"
   ]
  },
  {
   "cell_type": "code",
   "execution_count": 92,
   "metadata": {},
   "outputs": [
    {
     "data": {
      "text/plain": [
       "array([[1, 9, 7, 6],\n",
       "       [1, 6, 8, 6],\n",
       "       [6, 9, 4, 1]])"
      ]
     },
     "execution_count": 92,
     "metadata": {},
     "output_type": "execute_result"
    }
   ],
   "source": [
    "np.random.shuffle(r)\n",
    "r # 행벡터만 순서가 바뀜 , 모두 바꾸고 싶다면 np.reshape을 사용"
   ]
  },
  {
   "cell_type": "code",
   "execution_count": 96,
   "metadata": {},
   "outputs": [
    {
     "data": {
      "text/plain": [
       "array([4, 4, 3, 2, 4, 3, 2, 2, 4, 2], dtype=int64)"
      ]
     },
     "execution_count": 96,
     "metadata": {},
     "output_type": "execute_result"
    }
   ],
   "source": [
    "# choice\n",
    "# 0 ~ 4까지의 5개의 숫자를 10개 뽑으며, p(확률값) 조정,p값은 sum(1)을 넘을수가 없다\n",
    "np.random.choice(5, 10, p=[0.1, 0, 0.4, 0.2, 0.3])"
   ]
  },
  {
   "cell_type": "code",
   "execution_count": 98,
   "metadata": {},
   "outputs": [
    {
     "data": {
      "text/plain": [
       "array([1, 4, 6, 7, 8, 9])"
      ]
     },
     "execution_count": 98,
     "metadata": {},
     "output_type": "execute_result"
    }
   ],
   "source": [
    "# unipue 유일한 값들을 뽑는 함수\n",
    "# r에서 유니크한 값들을 뽑음\n",
    "np.unique(r)"
   ]
  },
  {
   "cell_type": "code",
   "execution_count": 100,
   "metadata": {},
   "outputs": [
    {
     "name": "stdout",
     "output_type": "stream",
     "text": [
      "[1 4 6 7 8 9]\n",
      "[3 1 4 1 1 2]\n"
     ]
    }
   ],
   "source": [
    "# return_counts = True로 유니크한 값이 몇번 나왔는지 count 해줌\n",
    "numbers, counts = np.unique(r, return_counts=True)\n",
    "print(numbers)\n",
    "print(counts)\n",
    "# [1 4 6 7 8 9]\n",
    "# [3 1 4 1 1 2] 1이 3번, 4가 1번 6이 4번 ..."
   ]
  },
  {
   "cell_type": "markdown",
   "metadata": {},
   "source": [
    "### 3. 행렬 데이터의 결합\n",
    "- concatenate"
   ]
  },
  {
   "cell_type": "code",
   "execution_count": 102,
   "metadata": {},
   "outputs": [],
   "source": [
    "na1 = np.random.randint(10, size = (2, 3))\n",
    "na2 = np.random.randint(10, size = (3, 2))\n",
    "na3 = np.random.randint(10, size = (3, 3))"
   ]
  },
  {
   "cell_type": "code",
   "execution_count": 105,
   "metadata": {},
   "outputs": [
    {
     "data": {
      "text/plain": [
       "array([[5, 9, 2],\n",
       "       [0, 0, 4]])"
      ]
     },
     "execution_count": 105,
     "metadata": {},
     "output_type": "execute_result"
    }
   ],
   "source": [
    "na1"
   ]
  },
  {
   "cell_type": "code",
   "execution_count": 106,
   "metadata": {},
   "outputs": [
    {
     "data": {
      "text/plain": [
       "array([[6, 3],\n",
       "       [1, 8],\n",
       "       [5, 9]])"
      ]
     },
     "execution_count": 106,
     "metadata": {},
     "output_type": "execute_result"
    }
   ],
   "source": [
    "na2"
   ]
  },
  {
   "cell_type": "code",
   "execution_count": 107,
   "metadata": {},
   "outputs": [
    {
     "data": {
      "text/plain": [
       "array([[5, 4, 2],\n",
       "       [7, 8, 7],\n",
       "       [3, 4, 8]])"
      ]
     },
     "execution_count": 107,
     "metadata": {},
     "output_type": "execute_result"
    }
   ],
   "source": [
    "na3"
   ]
  },
  {
   "cell_type": "code",
   "execution_count": 109,
   "metadata": {},
   "outputs": [
    {
     "data": {
      "text/plain": [
       "array([[5, 9, 2],\n",
       "       [0, 0, 4],\n",
       "       [5, 4, 2],\n",
       "       [7, 8, 7],\n",
       "       [3, 4, 8]])"
      ]
     },
     "execution_count": 109,
     "metadata": {},
     "output_type": "execute_result"
    }
   ],
   "source": [
    "# 세로 결합 (row가 추가됨) (column의 갯수가 같아야함)\n",
    "np.concatenate((na1,na3))"
   ]
  },
  {
   "cell_type": "code",
   "execution_count": 112,
   "metadata": {},
   "outputs": [
    {
     "data": {
      "text/plain": [
       "array([[6, 3, 5, 4, 2],\n",
       "       [1, 8, 7, 8, 7],\n",
       "       [5, 9, 3, 4, 8]])"
      ]
     },
     "execution_count": 112,
     "metadata": {},
     "output_type": "execute_result"
    }
   ],
   "source": [
    "# 가로 결합 (column이 추가됨) (row의 갯수가 같아야함, axis = 1을 넣어줘야 함)\n",
    "np.concatenate((na2, na3), axis = 1)"
   ]
  },
  {
   "cell_type": "code",
   "execution_count": 114,
   "metadata": {},
   "outputs": [
    {
     "data": {
      "text/plain": [
       "array([[1, 4],\n",
       "       [2, 5],\n",
       "       [3, 6]])"
      ]
     },
     "execution_count": 114,
     "metadata": {},
     "output_type": "execute_result"
    }
   ],
   "source": [
    "# c_, r_로도 결합이 가능함\n",
    "np.c_[np.array([1, 2, 3]), np.array([4, 5, 6])]"
   ]
  },
  {
   "cell_type": "code",
   "execution_count": 115,
   "metadata": {},
   "outputs": [
    {
     "data": {
      "text/plain": [
       "array([1, 2, 3, 4, 5, 6])"
      ]
     },
     "execution_count": 115,
     "metadata": {},
     "output_type": "execute_result"
    }
   ],
   "source": [
    "np.r_[np.array([1, 2, 3]), np.array([4, 5, 6])]"
   ]
  },
  {
   "cell_type": "code",
   "execution_count": 116,
   "metadata": {},
   "outputs": [],
   "source": [
    "# 그 외 힘수들, mean, split...."
   ]
  },
  {
   "cell_type": "code",
   "execution_count": null,
   "metadata": {},
   "outputs": [],
   "source": []
  }
 ],
 "metadata": {
  "kernelspec": {
   "display_name": "Python 3",
   "language": "python",
   "name": "python3"
  },
  "language_info": {
   "codemirror_mode": {
    "name": "ipython",
    "version": 3
   },
   "file_extension": ".py",
   "mimetype": "text/x-python",
   "name": "python",
   "nbconvert_exporter": "python",
   "pygments_lexer": "ipython3",
   "version": "3.7.4"
  }
 },
 "nbformat": 4,
 "nbformat_minor": 2
}
